{
 "cells": [
  {
   "cell_type": "markdown",
   "metadata": {},
   "source": [
    "#### Importing Libraries"
   ]
  },
  {
   "cell_type": "code",
   "execution_count": 1,
   "metadata": {},
   "outputs": [],
   "source": [
    "# Core Libraries\n",
    "import numpy as np\n",
    "import pandas as pd\n",
    "\n",
    "# Plotly Packages\n",
    "import plotly.io as pio\n",
    "import plotly.graph_objects as go\n",
    "import plotly.figure_factory as ff\n",
    "from plotly.subplots import make_subplots\n",
    "from plotly.offline import plot, iplot\n",
    "\n",
    "# Matplotlib and Seaborn\n",
    "import matplotlib.pyplot as plt\n",
    "import seaborn as sns\n",
    "from string import ascii_letters\n",
    "\n",
    "# Statistical Libraries\n",
    "from scipy.stats import norm, skew, pearsonr, stats\n",
    "\n",
    "# Regression Modeling\n",
    "import statsmodels.api as sm\n",
    "from statsmodels.sandbox.regression.predstd import wls_prediction_std\n",
    "\n",
    "# Other Libraries\n",
    "import warnings\n",
    "warnings.filterwarnings(\"ignore\")"
   ]
  },
  {
   "cell_type": "markdown",
   "metadata": {},
   "source": [
    "## Data Collection\n",
    "#### Medical Costs Dataset"
   ]
  },
  {
   "cell_type": "code",
   "execution_count": 2,
   "metadata": {},
   "outputs": [
    {
     "data": {
      "text/html": [
       "<div>\n",
       "<style scoped>\n",
       "    .dataframe tbody tr th:only-of-type {\n",
       "        vertical-align: middle;\n",
       "    }\n",
       "\n",
       "    .dataframe tbody tr th {\n",
       "        vertical-align: top;\n",
       "    }\n",
       "\n",
       "    .dataframe thead th {\n",
       "        text-align: right;\n",
       "    }\n",
       "</style>\n",
       "<table border=\"1\" class=\"dataframe\">\n",
       "  <thead>\n",
       "    <tr style=\"text-align: right;\">\n",
       "      <th></th>\n",
       "      <th>age</th>\n",
       "      <th>sex</th>\n",
       "      <th>bmi</th>\n",
       "      <th>children</th>\n",
       "      <th>smoker</th>\n",
       "      <th>region</th>\n",
       "      <th>charges</th>\n",
       "    </tr>\n",
       "  </thead>\n",
       "  <tbody>\n",
       "    <tr>\n",
       "      <th>0</th>\n",
       "      <td>19</td>\n",
       "      <td>female</td>\n",
       "      <td>27.900</td>\n",
       "      <td>0</td>\n",
       "      <td>yes</td>\n",
       "      <td>southwest</td>\n",
       "      <td>16884.92400</td>\n",
       "    </tr>\n",
       "    <tr>\n",
       "      <th>1</th>\n",
       "      <td>18</td>\n",
       "      <td>male</td>\n",
       "      <td>33.770</td>\n",
       "      <td>1</td>\n",
       "      <td>no</td>\n",
       "      <td>southeast</td>\n",
       "      <td>1725.55230</td>\n",
       "    </tr>\n",
       "    <tr>\n",
       "      <th>2</th>\n",
       "      <td>28</td>\n",
       "      <td>male</td>\n",
       "      <td>33.000</td>\n",
       "      <td>3</td>\n",
       "      <td>no</td>\n",
       "      <td>southeast</td>\n",
       "      <td>4449.46200</td>\n",
       "    </tr>\n",
       "    <tr>\n",
       "      <th>3</th>\n",
       "      <td>33</td>\n",
       "      <td>male</td>\n",
       "      <td>22.705</td>\n",
       "      <td>0</td>\n",
       "      <td>no</td>\n",
       "      <td>northwest</td>\n",
       "      <td>21984.47061</td>\n",
       "    </tr>\n",
       "    <tr>\n",
       "      <th>4</th>\n",
       "      <td>32</td>\n",
       "      <td>male</td>\n",
       "      <td>28.880</td>\n",
       "      <td>0</td>\n",
       "      <td>no</td>\n",
       "      <td>northwest</td>\n",
       "      <td>3866.85520</td>\n",
       "    </tr>\n",
       "    <tr>\n",
       "      <th>...</th>\n",
       "      <td>...</td>\n",
       "      <td>...</td>\n",
       "      <td>...</td>\n",
       "      <td>...</td>\n",
       "      <td>...</td>\n",
       "      <td>...</td>\n",
       "      <td>...</td>\n",
       "    </tr>\n",
       "    <tr>\n",
       "      <th>1333</th>\n",
       "      <td>50</td>\n",
       "      <td>male</td>\n",
       "      <td>30.970</td>\n",
       "      <td>3</td>\n",
       "      <td>no</td>\n",
       "      <td>northwest</td>\n",
       "      <td>10600.54830</td>\n",
       "    </tr>\n",
       "    <tr>\n",
       "      <th>1334</th>\n",
       "      <td>18</td>\n",
       "      <td>female</td>\n",
       "      <td>31.920</td>\n",
       "      <td>0</td>\n",
       "      <td>no</td>\n",
       "      <td>northeast</td>\n",
       "      <td>2205.98080</td>\n",
       "    </tr>\n",
       "    <tr>\n",
       "      <th>1335</th>\n",
       "      <td>18</td>\n",
       "      <td>female</td>\n",
       "      <td>36.850</td>\n",
       "      <td>0</td>\n",
       "      <td>no</td>\n",
       "      <td>southeast</td>\n",
       "      <td>1629.83350</td>\n",
       "    </tr>\n",
       "    <tr>\n",
       "      <th>1336</th>\n",
       "      <td>21</td>\n",
       "      <td>female</td>\n",
       "      <td>25.800</td>\n",
       "      <td>0</td>\n",
       "      <td>no</td>\n",
       "      <td>southwest</td>\n",
       "      <td>2007.94500</td>\n",
       "    </tr>\n",
       "    <tr>\n",
       "      <th>1337</th>\n",
       "      <td>61</td>\n",
       "      <td>female</td>\n",
       "      <td>29.070</td>\n",
       "      <td>0</td>\n",
       "      <td>yes</td>\n",
       "      <td>northwest</td>\n",
       "      <td>29141.36030</td>\n",
       "    </tr>\n",
       "  </tbody>\n",
       "</table>\n",
       "<p>1338 rows × 7 columns</p>\n",
       "</div>"
      ],
      "text/plain": [
       "      age     sex     bmi children smoker     region      charges\n",
       "0      19  female  27.900        0    yes  southwest  16884.92400\n",
       "1      18    male  33.770        1     no  southeast   1725.55230\n",
       "2      28    male  33.000        3     no  southeast   4449.46200\n",
       "3      33    male  22.705        0     no  northwest  21984.47061\n",
       "4      32    male  28.880        0     no  northwest   3866.85520\n",
       "...   ...     ...     ...      ...    ...        ...          ...\n",
       "1333   50    male  30.970        3     no  northwest  10600.54830\n",
       "1334   18  female  31.920        0     no  northeast   2205.98080\n",
       "1335   18  female  36.850        0     no  southeast   1629.83350\n",
       "1336   21  female  25.800        0     no  southwest   2007.94500\n",
       "1337   61  female  29.070        0    yes  northwest  29141.36030\n",
       "\n",
       "[1338 rows x 7 columns]"
      ]
     },
     "execution_count": 2,
     "metadata": {},
     "output_type": "execute_result"
    }
   ],
   "source": [
    "df = pd.read_csv('insurance.csv')\n",
    "# Copy of original data\n",
    "df_1 = df.copy()\n",
    "# Prevent numeric operations on this column\n",
    "df['children'] =df['children'].astype('object')\n",
    "df"
   ]
  },
  {
   "cell_type": "markdown",
   "metadata": {},
   "source": [
    "#### Dataset Variable Descriptions\n",
    "Age: Age of the primary beneficiary.\n",
    "\n",
    "Sex: Gender of the insurance contractor (female or male).\n",
    "\n",
    "BMI: Body Mass Index, a measure that assesses body weight relative to height. It is calculated using the formula weight (kg) / height (m²) and ideally falls within the range of 18.5 to 24.9, indicating a healthy weight.\n",
    "\n",
    "Children: Number of children or dependents covered by the health insurance policy.\n",
    "\n",
    "Smoker: Indicates whether the beneficiary is a smoker.\n",
    "\n",
    "Region: The geographical area of the beneficiary's residence in the U.S., categorized as Northeast, Southeast, Southwest, or Northwest.\n",
    "\n",
    "Charges: The total medical costs incurred by the individual, as billed by the health insurance provider."
   ]
  },
  {
   "cell_type": "markdown",
   "metadata": {},
   "source": [
    "## Data Exploration"
   ]
  },
  {
   "cell_type": "markdown",
   "metadata": {},
   "source": [
    "#### 1. Age Distribution"
   ]
  },
  {
   "cell_type": "code",
   "execution_count": 3,
   "metadata": {},
   "outputs": [
    {
     "data": {
      "application/vnd.plotly.v1+json": {
       "config": {
        "plotlyServerURL": "https://plot.ly"
       },
       "data": [
        {
         "hoverinfo": "label+percent",
         "labels": [
          "Young Adult",
          "Middle Aged Adult",
          "Senior"
         ],
         "marker": {
          "colors": [
           "#2E6F8E",
           "#BDDF26",
           "#482173"
          ],
          "line": {
           "color": "#000000",
           "width": 1.5
          }
         },
         "textfont": {
          "size": 20
         },
         "textinfo": "value",
         "type": "pie",
         "values": [
          574,
          548,
          216
         ]
        }
       ],
       "layout": {
        "template": {
         "data": {
          "bar": [
           {
            "error_x": {
             "color": "#2a3f5f"
            },
            "error_y": {
             "color": "#2a3f5f"
            },
            "marker": {
             "line": {
              "color": "#E5ECF6",
              "width": 0.5
             },
             "pattern": {
              "fillmode": "overlay",
              "size": 10,
              "solidity": 0.2
             }
            },
            "type": "bar"
           }
          ],
          "barpolar": [
           {
            "marker": {
             "line": {
              "color": "#E5ECF6",
              "width": 0.5
             },
             "pattern": {
              "fillmode": "overlay",
              "size": 10,
              "solidity": 0.2
             }
            },
            "type": "barpolar"
           }
          ],
          "carpet": [
           {
            "aaxis": {
             "endlinecolor": "#2a3f5f",
             "gridcolor": "white",
             "linecolor": "white",
             "minorgridcolor": "white",
             "startlinecolor": "#2a3f5f"
            },
            "baxis": {
             "endlinecolor": "#2a3f5f",
             "gridcolor": "white",
             "linecolor": "white",
             "minorgridcolor": "white",
             "startlinecolor": "#2a3f5f"
            },
            "type": "carpet"
           }
          ],
          "choropleth": [
           {
            "colorbar": {
             "outlinewidth": 0,
             "ticks": ""
            },
            "type": "choropleth"
           }
          ],
          "contour": [
           {
            "colorbar": {
             "outlinewidth": 0,
             "ticks": ""
            },
            "colorscale": [
             [
              0,
              "#0d0887"
             ],
             [
              0.1111111111111111,
              "#46039f"
             ],
             [
              0.2222222222222222,
              "#7201a8"
             ],
             [
              0.3333333333333333,
              "#9c179e"
             ],
             [
              0.4444444444444444,
              "#bd3786"
             ],
             [
              0.5555555555555556,
              "#d8576b"
             ],
             [
              0.6666666666666666,
              "#ed7953"
             ],
             [
              0.7777777777777778,
              "#fb9f3a"
             ],
             [
              0.8888888888888888,
              "#fdca26"
             ],
             [
              1,
              "#f0f921"
             ]
            ],
            "type": "contour"
           }
          ],
          "contourcarpet": [
           {
            "colorbar": {
             "outlinewidth": 0,
             "ticks": ""
            },
            "type": "contourcarpet"
           }
          ],
          "heatmap": [
           {
            "colorbar": {
             "outlinewidth": 0,
             "ticks": ""
            },
            "colorscale": [
             [
              0,
              "#0d0887"
             ],
             [
              0.1111111111111111,
              "#46039f"
             ],
             [
              0.2222222222222222,
              "#7201a8"
             ],
             [
              0.3333333333333333,
              "#9c179e"
             ],
             [
              0.4444444444444444,
              "#bd3786"
             ],
             [
              0.5555555555555556,
              "#d8576b"
             ],
             [
              0.6666666666666666,
              "#ed7953"
             ],
             [
              0.7777777777777778,
              "#fb9f3a"
             ],
             [
              0.8888888888888888,
              "#fdca26"
             ],
             [
              1,
              "#f0f921"
             ]
            ],
            "type": "heatmap"
           }
          ],
          "heatmapgl": [
           {
            "colorbar": {
             "outlinewidth": 0,
             "ticks": ""
            },
            "colorscale": [
             [
              0,
              "#0d0887"
             ],
             [
              0.1111111111111111,
              "#46039f"
             ],
             [
              0.2222222222222222,
              "#7201a8"
             ],
             [
              0.3333333333333333,
              "#9c179e"
             ],
             [
              0.4444444444444444,
              "#bd3786"
             ],
             [
              0.5555555555555556,
              "#d8576b"
             ],
             [
              0.6666666666666666,
              "#ed7953"
             ],
             [
              0.7777777777777778,
              "#fb9f3a"
             ],
             [
              0.8888888888888888,
              "#fdca26"
             ],
             [
              1,
              "#f0f921"
             ]
            ],
            "type": "heatmapgl"
           }
          ],
          "histogram": [
           {
            "marker": {
             "pattern": {
              "fillmode": "overlay",
              "size": 10,
              "solidity": 0.2
             }
            },
            "type": "histogram"
           }
          ],
          "histogram2d": [
           {
            "colorbar": {
             "outlinewidth": 0,
             "ticks": ""
            },
            "colorscale": [
             [
              0,
              "#0d0887"
             ],
             [
              0.1111111111111111,
              "#46039f"
             ],
             [
              0.2222222222222222,
              "#7201a8"
             ],
             [
              0.3333333333333333,
              "#9c179e"
             ],
             [
              0.4444444444444444,
              "#bd3786"
             ],
             [
              0.5555555555555556,
              "#d8576b"
             ],
             [
              0.6666666666666666,
              "#ed7953"
             ],
             [
              0.7777777777777778,
              "#fb9f3a"
             ],
             [
              0.8888888888888888,
              "#fdca26"
             ],
             [
              1,
              "#f0f921"
             ]
            ],
            "type": "histogram2d"
           }
          ],
          "histogram2dcontour": [
           {
            "colorbar": {
             "outlinewidth": 0,
             "ticks": ""
            },
            "colorscale": [
             [
              0,
              "#0d0887"
             ],
             [
              0.1111111111111111,
              "#46039f"
             ],
             [
              0.2222222222222222,
              "#7201a8"
             ],
             [
              0.3333333333333333,
              "#9c179e"
             ],
             [
              0.4444444444444444,
              "#bd3786"
             ],
             [
              0.5555555555555556,
              "#d8576b"
             ],
             [
              0.6666666666666666,
              "#ed7953"
             ],
             [
              0.7777777777777778,
              "#fb9f3a"
             ],
             [
              0.8888888888888888,
              "#fdca26"
             ],
             [
              1,
              "#f0f921"
             ]
            ],
            "type": "histogram2dcontour"
           }
          ],
          "mesh3d": [
           {
            "colorbar": {
             "outlinewidth": 0,
             "ticks": ""
            },
            "type": "mesh3d"
           }
          ],
          "parcoords": [
           {
            "line": {
             "colorbar": {
              "outlinewidth": 0,
              "ticks": ""
             }
            },
            "type": "parcoords"
           }
          ],
          "pie": [
           {
            "automargin": true,
            "type": "pie"
           }
          ],
          "scatter": [
           {
            "fillpattern": {
             "fillmode": "overlay",
             "size": 10,
             "solidity": 0.2
            },
            "type": "scatter"
           }
          ],
          "scatter3d": [
           {
            "line": {
             "colorbar": {
              "outlinewidth": 0,
              "ticks": ""
             }
            },
            "marker": {
             "colorbar": {
              "outlinewidth": 0,
              "ticks": ""
             }
            },
            "type": "scatter3d"
           }
          ],
          "scattercarpet": [
           {
            "marker": {
             "colorbar": {
              "outlinewidth": 0,
              "ticks": ""
             }
            },
            "type": "scattercarpet"
           }
          ],
          "scattergeo": [
           {
            "marker": {
             "colorbar": {
              "outlinewidth": 0,
              "ticks": ""
             }
            },
            "type": "scattergeo"
           }
          ],
          "scattergl": [
           {
            "marker": {
             "colorbar": {
              "outlinewidth": 0,
              "ticks": ""
             }
            },
            "type": "scattergl"
           }
          ],
          "scattermapbox": [
           {
            "marker": {
             "colorbar": {
              "outlinewidth": 0,
              "ticks": ""
             }
            },
            "type": "scattermapbox"
           }
          ],
          "scatterpolar": [
           {
            "marker": {
             "colorbar": {
              "outlinewidth": 0,
              "ticks": ""
             }
            },
            "type": "scatterpolar"
           }
          ],
          "scatterpolargl": [
           {
            "marker": {
             "colorbar": {
              "outlinewidth": 0,
              "ticks": ""
             }
            },
            "type": "scatterpolargl"
           }
          ],
          "scatterternary": [
           {
            "marker": {
             "colorbar": {
              "outlinewidth": 0,
              "ticks": ""
             }
            },
            "type": "scatterternary"
           }
          ],
          "surface": [
           {
            "colorbar": {
             "outlinewidth": 0,
             "ticks": ""
            },
            "colorscale": [
             [
              0,
              "#0d0887"
             ],
             [
              0.1111111111111111,
              "#46039f"
             ],
             [
              0.2222222222222222,
              "#7201a8"
             ],
             [
              0.3333333333333333,
              "#9c179e"
             ],
             [
              0.4444444444444444,
              "#bd3786"
             ],
             [
              0.5555555555555556,
              "#d8576b"
             ],
             [
              0.6666666666666666,
              "#ed7953"
             ],
             [
              0.7777777777777778,
              "#fb9f3a"
             ],
             [
              0.8888888888888888,
              "#fdca26"
             ],
             [
              1,
              "#f0f921"
             ]
            ],
            "type": "surface"
           }
          ],
          "table": [
           {
            "cells": {
             "fill": {
              "color": "#EBF0F8"
             },
             "line": {
              "color": "white"
             }
            },
            "header": {
             "fill": {
              "color": "#C8D4E3"
             },
             "line": {
              "color": "white"
             }
            },
            "type": "table"
           }
          ]
         },
         "layout": {
          "annotationdefaults": {
           "arrowcolor": "#2a3f5f",
           "arrowhead": 0,
           "arrowwidth": 1
          },
          "autotypenumbers": "strict",
          "coloraxis": {
           "colorbar": {
            "outlinewidth": 0,
            "ticks": ""
           }
          },
          "colorscale": {
           "diverging": [
            [
             0,
             "#8e0152"
            ],
            [
             0.1,
             "#c51b7d"
            ],
            [
             0.2,
             "#de77ae"
            ],
            [
             0.3,
             "#f1b6da"
            ],
            [
             0.4,
             "#fde0ef"
            ],
            [
             0.5,
             "#f7f7f7"
            ],
            [
             0.6,
             "#e6f5d0"
            ],
            [
             0.7,
             "#b8e186"
            ],
            [
             0.8,
             "#7fbc41"
            ],
            [
             0.9,
             "#4d9221"
            ],
            [
             1,
             "#276419"
            ]
           ],
           "sequential": [
            [
             0,
             "#0d0887"
            ],
            [
             0.1111111111111111,
             "#46039f"
            ],
            [
             0.2222222222222222,
             "#7201a8"
            ],
            [
             0.3333333333333333,
             "#9c179e"
            ],
            [
             0.4444444444444444,
             "#bd3786"
            ],
            [
             0.5555555555555556,
             "#d8576b"
            ],
            [
             0.6666666666666666,
             "#ed7953"
            ],
            [
             0.7777777777777778,
             "#fb9f3a"
            ],
            [
             0.8888888888888888,
             "#fdca26"
            ],
            [
             1,
             "#f0f921"
            ]
           ],
           "sequentialminus": [
            [
             0,
             "#0d0887"
            ],
            [
             0.1111111111111111,
             "#46039f"
            ],
            [
             0.2222222222222222,
             "#7201a8"
            ],
            [
             0.3333333333333333,
             "#9c179e"
            ],
            [
             0.4444444444444444,
             "#bd3786"
            ],
            [
             0.5555555555555556,
             "#d8576b"
            ],
            [
             0.6666666666666666,
             "#ed7953"
            ],
            [
             0.7777777777777778,
             "#fb9f3a"
            ],
            [
             0.8888888888888888,
             "#fdca26"
            ],
            [
             1,
             "#f0f921"
            ]
           ]
          },
          "colorway": [
           "#636efa",
           "#EF553B",
           "#00cc96",
           "#ab63fa",
           "#FFA15A",
           "#19d3f3",
           "#FF6692",
           "#B6E880",
           "#FF97FF",
           "#FECB52"
          ],
          "font": {
           "color": "#2a3f5f"
          },
          "geo": {
           "bgcolor": "white",
           "lakecolor": "white",
           "landcolor": "#E5ECF6",
           "showlakes": true,
           "showland": true,
           "subunitcolor": "white"
          },
          "hoverlabel": {
           "align": "left"
          },
          "hovermode": "closest",
          "mapbox": {
           "style": "light"
          },
          "paper_bgcolor": "white",
          "plot_bgcolor": "#E5ECF6",
          "polar": {
           "angularaxis": {
            "gridcolor": "white",
            "linecolor": "white",
            "ticks": ""
           },
           "bgcolor": "#E5ECF6",
           "radialaxis": {
            "gridcolor": "white",
            "linecolor": "white",
            "ticks": ""
           }
          },
          "scene": {
           "xaxis": {
            "backgroundcolor": "#E5ECF6",
            "gridcolor": "white",
            "gridwidth": 2,
            "linecolor": "white",
            "showbackground": true,
            "ticks": "",
            "zerolinecolor": "white"
           },
           "yaxis": {
            "backgroundcolor": "#E5ECF6",
            "gridcolor": "white",
            "gridwidth": 2,
            "linecolor": "white",
            "showbackground": true,
            "ticks": "",
            "zerolinecolor": "white"
           },
           "zaxis": {
            "backgroundcolor": "#E5ECF6",
            "gridcolor": "white",
            "gridwidth": 2,
            "linecolor": "white",
            "showbackground": true,
            "ticks": "",
            "zerolinecolor": "white"
           }
          },
          "shapedefaults": {
           "line": {
            "color": "#2a3f5f"
           }
          },
          "ternary": {
           "aaxis": {
            "gridcolor": "white",
            "linecolor": "white",
            "ticks": ""
           },
           "baxis": {
            "gridcolor": "white",
            "linecolor": "white",
            "ticks": ""
           },
           "bgcolor": "#E5ECF6",
           "caxis": {
            "gridcolor": "white",
            "linecolor": "white",
            "ticks": ""
           }
          },
          "title": {
           "x": 0.05
          },
          "xaxis": {
           "automargin": true,
           "gridcolor": "white",
           "linecolor": "white",
           "ticks": "",
           "title": {
            "standoff": 15
           },
           "zerolinecolor": "white",
           "zerolinewidth": 2
          },
          "yaxis": {
           "automargin": true,
           "gridcolor": "white",
           "linecolor": "white",
           "ticks": "",
           "title": {
            "standoff": 15
           },
           "zerolinecolor": "white",
           "zerolinewidth": 2
          }
         }
        },
        "title": {
         "text": "Distribution by Age Category"
        }
       }
      }
     },
     "metadata": {},
     "output_type": "display_data"
    }
   ],
   "source": [
    "# Define the age categories\n",
    "df['age_cat'] = np.nan\n",
    "lst = [df]\n",
    "\n",
    "# Categorize the ages\n",
    "for col in lst:\n",
    "    col.loc[(col['age'] >= 18) & (col['age'] <= 35), 'age_cat'] = 'Young Adult'\n",
    "    col.loc[(col['age'] > 35) & (col['age'] <= 55), 'age_cat'] = 'Middle Aged Adult'\n",
    "    col.loc[col['age'] > 55, 'age_cat'] = 'Senior'\n",
    "\n",
    "# Prepare data for the pie chart\n",
    "labels = df[\"age_cat\"].unique().tolist()\n",
    "amount = df[\"age_cat\"].value_counts().tolist()\n",
    "\n",
    "# Define the colors for the chart\n",
    "colors = [\"#2E6F8E\", \"#BDDF26\", \"#482173\"]\n",
    "\n",
    "# Create the pie chart\n",
    "trace = go.Pie(labels=labels, values=amount,\n",
    "               hoverinfo='label+percent', textinfo='value',\n",
    "               textfont=dict(size=20),\n",
    "               marker=dict(colors=colors, \n",
    "                           line=dict(color='#000000', width=1.5)))\n",
    "\n",
    "# Define layout\n",
    "layout = go.Layout(title=\"Distribution by Age Category\")\n",
    "\n",
    "# Combine data and layout into the figure\n",
    "fig = go.Figure(data=[trace], layout=layout)\n",
    "\n",
    "# Display the chart\n",
    "fig.show()\n"
   ]
  },
  {
   "cell_type": "markdown",
   "metadata": {},
   "source": [
    "#### 2. Charge Distribution"
   ]
  },
  {
   "cell_type": "code",
   "execution_count": 4,
   "metadata": {},
   "outputs": [
    {
     "data": {
      "application/vnd.plotly.v1+json": {
       "config": {
        "linkText": "Export to plot.ly",
        "plotlyServerURL": "https://plot.ly",
        "showLink": false
       },
       "data": [
        {
         "histnorm": "probability",
         "marker": {
          "color": "#29AF7F"
         },
         "name": "Charges Distribution",
         "type": "histogram",
         "x": [
          16884.924,
          1725.5523,
          4449.462,
          21984.47061,
          3866.8552,
          3756.6216,
          8240.5896,
          7281.5056,
          6406.4107,
          28923.13692,
          2721.3208,
          27808.7251,
          1826.843,
          11090.7178,
          39611.7577,
          1837.237,
          10797.3362,
          2395.17155,
          10602.385,
          36837.467,
          13228.84695,
          4149.736,
          1137.011,
          37701.8768,
          6203.90175,
          14001.1338,
          14451.83515,
          12268.63225,
          2775.19215,
          38711,
          35585.576,
          2198.18985,
          4687.797,
          13770.0979,
          51194.55914,
          1625.43375,
          15612.19335,
          2302.3,
          39774.2763,
          48173.361,
          3046.062,
          4949.7587,
          6272.4772,
          6313.759,
          6079.6715,
          20630.28351,
          3393.35635,
          3556.9223,
          12629.8967,
          38709.176,
          2211.13075,
          3579.8287,
          23568.272,
          37742.5757,
          8059.6791,
          47496.49445,
          13607.36875,
          34303.1672,
          23244.7902,
          5989.52365,
          8606.2174,
          4504.6624,
          30166.61817,
          4133.64165,
          14711.7438,
          1743.214,
          14235.072,
          6389.37785,
          5920.1041,
          17663.1442,
          16577.7795,
          6799.458,
          11741.726,
          11946.6259,
          7726.854,
          11356.6609,
          3947.4131,
          1532.4697,
          2755.02095,
          6571.02435,
          4441.21315,
          7935.29115,
          37165.1638,
          11033.6617,
          39836.519,
          21098.55405,
          43578.9394,
          11073.176,
          8026.6666,
          11082.5772,
          2026.9741,
          10942.13205,
          30184.9367,
          5729.0053,
          47291.055,
          3766.8838,
          12105.32,
          10226.2842,
          22412.6485,
          15820.699,
          6186.127,
          3645.0894,
          21344.8467,
          30942.1918,
          5003.853,
          17560.37975,
          2331.519,
          3877.30425,
          2867.1196,
          47055.5321,
          10825.2537,
          11881.358,
          4646.759,
          2404.7338,
          11488.31695,
          30259.99556,
          11381.3254,
          19107.7796,
          8601.3293,
          6686.4313,
          7740.337,
          1705.6245,
          2257.47525,
          39556.4945,
          10115.00885,
          3385.39915,
          17081.08,
          9634.538,
          32734.1863,
          6082.405,
          12815.44495,
          13616.3586,
          11163.568,
          1632.56445,
          2457.21115,
          2155.6815,
          1261.442,
          2045.68525,
          27322.73386,
          2166.732,
          27375.90478,
          3490.5491,
          18972.495,
          18157.876,
          20745.9891,
          5138.2567,
          40720.55105,
          9877.6077,
          10959.6947,
          1842.519,
          5125.2157,
          7789.635,
          6334.34355,
          19964.7463,
          7077.1894,
          6948.7008,
          21223.6758,
          15518.18025,
          36950.2567,
          19749.38338,
          21348.706,
          36149.4835,
          10450.552,
          5152.134,
          5028.1466,
          10407.08585,
          4830.63,
          6128.79745,
          2719.27975,
          4827.90495,
          13405.3903,
          8116.68,
          1694.7964,
          5246.047,
          2855.43755,
          48824.45,
          6455.86265,
          10436.096,
          8823.279,
          8538.28845,
          11735.87905,
          1631.8212,
          4005.4225,
          7419.4779,
          7731.4271,
          43753.33705,
          3981.9768,
          5325.651,
          6775.961,
          4922.9159,
          12557.6053,
          4883.866,
          2137.6536,
          12044.342,
          1137.4697,
          1639.5631,
          5649.715,
          8516.829,
          9644.2525,
          14901.5167,
          2130.6759,
          8871.1517,
          13012.20865,
          37133.8982,
          7147.105,
          4337.7352,
          11743.299,
          20984.0936,
          13880.949,
          6610.1097,
          1980.07,
          8162.71625,
          3537.703,
          5002.7827,
          8520.026,
          7371.772,
          10355.641,
          2483.736,
          3392.9768,
          25081.76784,
          5012.471,
          10564.8845,
          5253.524,
          34779.615,
          19515.5416,
          11987.1682,
          2689.4954,
          24227.33724,
          7358.17565,
          9225.2564,
          7443.64305,
          14001.2867,
          1727.785,
          12333.828,
          6710.1919,
          19444.2658,
          1615.7667,
          4463.2051,
          17352.6803,
          7152.6714,
          38511.6283,
          5354.07465,
          35160.13457,
          7196.867,
          29523.1656,
          24476.47851,
          12648.7034,
          1986.9334,
          1832.094,
          4040.55825,
          12829.4551,
          47305.305,
          44260.7499,
          4260.744,
          41097.16175,
          13047.33235,
          43921.1837,
          5400.9805,
          11520.09985,
          33750.2918,
          11837.16,
          17085.2676,
          24869.8368,
          36219.40545,
          20462.99766,
          46151.1245,
          17179.522,
          14590.63205,
          7441.053,
          9282.4806,
          1719.4363,
          42856.838,
          7265.7025,
          9617.66245,
          2523.1695,
          9715.841,
          2803.69785,
          2150.469,
          12928.7911,
          9855.1314,
          22331.5668,
          48549.17835,
          4237.12655,
          11879.10405,
          9625.92,
          7742.1098,
          9432.9253,
          14256.1928,
          47896.79135,
          25992.82104,
          3172.018,
          20277.80751,
          42112.2356,
          2156.7518,
          3906.127,
          1704.5681,
          16297.846,
          21978.6769,
          38746.3551,
          9249.4952,
          6746.7425,
          24873.3849,
          12265.5069,
          4349.462,
          12646.207,
          19442.3535,
          20177.67113,
          4151.0287,
          11944.59435,
          7749.1564,
          8444.474,
          1737.376,
          42124.5153,
          8124.4084,
          34838.873,
          9722.7695,
          8835.26495,
          10435.06525,
          7421.19455,
          4667.60765,
          4894.7533,
          24671.66334,
          35491.64,
          11566.30055,
          2866.091,
          6600.20595,
          3561.8889,
          42760.5022,
          47928.03,
          9144.565,
          48517.56315,
          24393.6224,
          13429.0354,
          11658.37915,
          19144.57652,
          13822.803,
          12142.5786,
          13937.6665,
          41919.097,
          8232.6388,
          18955.22017,
          13352.0998,
          13217.0945,
          13981.85035,
          10977.2063,
          6184.2994,
          4889.9995,
          8334.45755,
          5478.0368,
          1635.73365,
          11830.6072,
          8932.084,
          3554.203,
          12404.8791,
          14133.03775,
          24603.04837,
          8944.1151,
          9620.3307,
          1837.2819,
          1607.5101,
          10043.249,
          4751.07,
          13844.506,
          2597.779,
          3180.5101,
          9778.3472,
          13430.265,
          8017.06115,
          8116.26885,
          3481.868,
          13415.0381,
          12029.2867,
          7639.41745,
          36085.219,
          1391.5287,
          18033.9679,
          21659.9301,
          38126.2465,
          16455.70785,
          27000.98473,
          15006.57945,
          42303.69215,
          20781.48892,
          5846.9176,
          8302.53565,
          1261.859,
          11856.4115,
          30284.64294,
          3176.8159,
          4618.0799,
          10736.87075,
          2138.0707,
          8964.06055,
          9290.1395,
          9411.005,
          7526.70645,
          8522.003,
          16586.49771,
          14988.432,
          1631.6683,
          9264.797,
          8083.9198,
          14692.66935,
          10269.46,
          3260.199,
          11396.9002,
          4185.0979,
          8539.671,
          6652.5288,
          4074.4537,
          1621.3402,
          19594.80965,
          14455.64405,
          5080.096,
          2134.9015,
          7345.7266,
          9140.951,
          18608.262,
          14418.2804,
          28950.4692,
          46889.2612,
          46599.1084,
          39125.33225,
          2727.3951,
          8968.33,
          9788.8659,
          6555.07035,
          7323.734819,
          3167.45585,
          18804.7524,
          23082.95533,
          4906.40965,
          5969.723,
          12638.195,
          4243.59005,
          13919.8229,
          2254.7967,
          5926.846,
          12592.5345,
          2897.3235,
          4738.2682,
          37079.372,
          1149.3959,
          28287.89766,
          26109.32905,
          7345.084,
          12730.9996,
          11454.0215,
          5910.944,
          4762.329,
          7512.267,
          4032.2407,
          1969.614,
          1769.53165,
          4686.3887,
          21797.0004,
          11881.9696,
          11840.77505,
          10601.412,
          7682.67,
          10381.4787,
          22144.032,
          15230.32405,
          11165.41765,
          1632.03625,
          19521.9682,
          13224.693,
          12643.3778,
          23288.9284,
          2201.0971,
          2497.0383,
          2203.47185,
          1744.465,
          20878.78443,
          25382.297,
          28868.6639,
          35147.52848,
          2534.39375,
          1534.3045,
          1824.2854,
          15555.18875,
          9304.7019,
          1622.1885,
          9880.068,
          9563.029,
          4347.02335,
          12475.3513,
          1253.936,
          48885.13561,
          10461.9794,
          1748.774,
          24513.09126,
          2196.4732,
          12574.049,
          17942.106,
          1967.0227,
          4931.647,
          8027.968,
          8211.1002,
          13470.86,
          36197.699,
          6837.3687,
          22218.1149,
          32548.3405,
          5974.3847,
          6796.86325,
          2643.2685,
          3077.0955,
          3044.2133,
          11455.28,
          11763.0009,
          2498.4144,
          9361.3268,
          1256.299,
          21082.16,
          11362.755,
          27724.28875,
          8413.46305,
          5240.765,
          3857.75925,
          25656.57526,
          3994.1778,
          9866.30485,
          5397.6167,
          38245.59327,
          11482.63485,
          24059.68019,
          9861.025,
          8342.90875,
          1708.0014,
          48675.5177,
          14043.4767,
          12925.886,
          19214.70553,
          13831.1152,
          6067.12675,
          5972.378,
          8825.086,
          8233.0975,
          27346.04207,
          6196.448,
          3056.3881,
          13887.204,
          63770.42801,
          10231.4999,
          23807.2406,
          3268.84665,
          11538.421,
          3213.62205,
          45863.205,
          13390.559,
          3972.9247,
          12957.118,
          11187.6567,
          17878.90068,
          3847.674,
          8334.5896,
          3935.1799,
          39983.42595,
          1646.4297,
          9193.8385,
          10923.9332,
          2494.022,
          9058.7303,
          2801.2588,
          2128.43105,
          6373.55735,
          7256.7231,
          11552.904,
          45702.02235,
          3761.292,
          2219.4451,
          4753.6368,
          31620.00106,
          13224.05705,
          12222.8983,
          1664.9996,
          58571.07448,
          9724.53,
          3206.49135,
          12913.9924,
          1639.5631,
          6356.2707,
          17626.23951,
          1242.816,
          4779.6023,
          3861.20965,
          43943.8761,
          13635.6379,
          5976.8311,
          11842.442,
          8428.0693,
          2566.4707,
          15359.1045,
          5709.1644,
          8823.98575,
          7640.3092,
          5594.8455,
          7441.501,
          33471.97189,
          1633.0444,
          9174.13565,
          11070.535,
          16085.1275,
          17468.9839,
          9283.562,
          3558.62025,
          25678.77845,
          4435.0942,
          39241.442,
          8547.6913,
          6571.544,
          2207.69745,
          6753.038,
          1880.07,
          42969.8527,
          11658.11505,
          23306.547,
          34439.8559,
          10713.644,
          3659.346,
          40182.246,
          9182.17,
          34617.84065,
          12129.61415,
          3736.4647,
          6748.5912,
          11326.71487,
          11365.952,
          42983.4585,
          10085.846,
          1977.815,
          3366.6697,
          7173.35995,
          9391.346,
          14410.9321,
          2709.1119,
          24915.04626,
          20149.3229,
          12949.1554,
          6666.243,
          32787.45859,
          13143.86485,
          4466.6214,
          18806.14547,
          10141.1362,
          6123.5688,
          8252.2843,
          1712.227,
          12430.95335,
          9800.8882,
          10579.711,
          8280.6227,
          8527.532,
          12244.531,
          24667.419,
          3410.324,
          4058.71245,
          26392.26029,
          14394.39815,
          6435.6237,
          22192.43711,
          5148.5526,
          1136.3994,
          27037.9141,
          42560.4304,
          8703.456,
          40003.33225,
          45710.20785,
          6500.2359,
          4837.5823,
          3943.5954,
          4399.731,
          6185.3208,
          46200.9851,
          7222.78625,
          12485.8009,
          46130.5265,
          12363.547,
          10156.7832,
          2585.269,
          1242.26,
          40103.89,
          9863.4718,
          4766.022,
          11244.3769,
          7729.64575,
          5438.7491,
          26236.57997,
          34806.4677,
          2104.1134,
          8068.185,
          2362.22905,
          2352.96845,
          3577.999,
          3201.24515,
          29186.48236,
          40273.6455,
          10976.24575,
          3500.6123,
          2020.5523,
          9541.69555,
          9504.3103,
          5385.3379,
          8930.93455,
          5375.038,
          44400.4064,
          10264.4421,
          6113.23105,
          5469.0066,
          1727.54,
          10107.2206,
          8310.83915,
          1984.4533,
          2457.502,
          12146.971,
          9566.9909,
          13112.6048,
          10848.1343,
          12231.6136,
          9875.6804,
          11264.541,
          12979.358,
          1263.249,
          10106.13425,
          40932.4295,
          6664.68595,
          16657.71745,
          2217.6012,
          6781.3542,
          19361.9988,
          10065.413,
          4234.927,
          9447.25035,
          14007.222,
          9583.8933,
          40419.0191,
          3484.331,
          36189.1017,
          44585.45587,
          8604.48365,
          18246.4955,
          43254.41795,
          3757.8448,
          8827.2099,
          9910.35985,
          11737.84884,
          1627.28245,
          8556.907,
          3062.50825,
          19539.243,
          1906.35825,
          14210.53595,
          11833.7823,
          17128.42608,
          5031.26955,
          7985.815,
          23065.4207,
          5428.7277,
          36307.7983,
          3925.7582,
          2416.955,
          19040.876,
          3070.8087,
          9095.06825,
          11842.62375,
          8062.764,
          7050.642,
          14319.031,
          6933.24225,
          27941.28758,
          11150.78,
          12797.20962,
          17748.5062,
          7261.741,
          10560.4917,
          6986.697,
          7448.40395,
          5934.3798,
          9869.8102,
          18259.216,
          1146.7966,
          9386.1613,
          24520.264,
          4350.5144,
          6414.178,
          12741.16745,
          1917.3184,
          5209.57885,
          13457.9608,
          5662.225,
          1252.407,
          2731.9122,
          21195.818,
          7209.4918,
          18310.742,
          4266.1658,
          4719.52405,
          11848.141,
          17904.52705,
          7046.7222,
          14313.8463,
          2103.08,
          38792.6856,
          1815.8759,
          7731.85785,
          28476.73499,
          2136.88225,
          1131.5066,
          3309.7926,
          9414.92,
          6360.9936,
          11013.7119,
          4428.88785,
          5584.3057,
          1877.9294,
          2842.76075,
          3597.596,
          23401.30575,
          55135.40209,
          7445.918,
          2680.9493,
          1621.8827,
          8219.2039,
          12523.6048,
          16069.08475,
          43813.8661,
          20773.62775,
          39597.4072,
          6117.4945,
          13393.756,
          5266.3656,
          4719.73655,
          11743.9341,
          5377.4578,
          7160.3303,
          4402.233,
          11657.7189,
          6402.29135,
          12622.1795,
          1526.312,
          12323.936,
          36021.0112,
          27533.9129,
          10072.05505,
          45008.9555,
          9872.701,
          2438.0552,
          2974.126,
          10601.63225,
          37270.1512,
          14119.62,
          42111.6647,
          11729.6795,
          24106.91255,
          1875.344,
          40974.1649,
          15817.9857,
          18218.16139,
          10965.446,
          46113.511,
          7151.092,
          12269.68865,
          5458.04645,
          8782.469,
          6600.361,
          1141.4451,
          11576.13,
          13129.60345,
          4391.652,
          8457.818,
          3392.3652,
          5966.8874,
          6849.026,
          8891.1395,
          2690.1138,
          26140.3603,
          6653.7886,
          6282.235,
          6311.952,
          3443.064,
          2789.0574,
          2585.85065,
          46255.1125,
          4877.98105,
          19719.6947,
          27218.43725,
          5272.1758,
          1682.597,
          11945.1327,
          29330.98315,
          7243.8136,
          10422.91665,
          44202.6536,
          13555.0049,
          13063.883,
          19798.05455,
          2221.56445,
          1634.5734,
          2117.33885,
          8688.85885,
          48673.5588,
          4661.28635,
          8125.7845,
          12644.589,
          4564.19145,
          4846.92015,
          7633.7206,
          15170.069,
          17496.306,
          2639.0429,
          33732.6867,
          14382.70905,
          7626.993,
          5257.50795,
          2473.3341,
          21774.32215,
          35069.37452,
          13041.921,
          5245.2269,
          13451.122,
          13462.52,
          5488.262,
          4320.41085,
          6250.435,
          25333.33284,
          2913.569,
          12032.326,
          13470.8044,
          6289.7549,
          2927.0647,
          6238.298,
          10096.97,
          7348.142,
          4673.3922,
          12233.828,
          32108.66282,
          8965.79575,
          2304.0022,
          9487.6442,
          1121.8739,
          9549.5651,
          2217.46915,
          1628.4709,
          12982.8747,
          11674.13,
          7160.094,
          39047.285,
          6358.77645,
          19933.458,
          11534.87265,
          47462.894,
          4527.18295,
          38998.546,
          20009.63365,
          3875.7341,
          41999.52,
          12609.88702,
          41034.2214,
          28468.91901,
          2730.10785,
          3353.284,
          14474.675,
          9500.57305,
          26467.09737,
          4746.344,
          23967.38305,
          7518.02535,
          3279.86855,
          8596.8278,
          10702.6424,
          4992.3764,
          2527.81865,
          1759.338,
          2322.6218,
          16138.76205,
          7804.1605,
          2902.9065,
          9704.66805,
          4889.0368,
          25517.11363,
          4500.33925,
          19199.944,
          16796.41194,
          4915.05985,
          7624.63,
          8410.04685,
          28340.18885,
          4518.82625,
          14571.8908,
          3378.91,
          7144.86265,
          10118.424,
          5484.4673,
          16420.49455,
          7986.47525,
          7418.522,
          13887.9685,
          6551.7501,
          5267.81815,
          17361.7661,
          34472.841,
          1972.95,
          21232.18226,
          8627.5411,
          4433.3877,
          4438.2634,
          24915.22085,
          23241.47453,
          9957.7216,
          8269.044,
          18767.7377,
          36580.28216,
          8765.249,
          5383.536,
          12124.9924,
          2709.24395,
          3987.926,
          12495.29085,
          26018.95052,
          8798.593,
          35595.5898,
          42211.1382,
          1711.0268,
          8569.8618,
          2020.177,
          16450.8947,
          21595.38229,
          9850.432,
          6877.9801,
          21677.28345,
          44423.803,
          4137.5227,
          13747.87235,
          12950.0712,
          12094.478,
          37484.4493,
          39725.51805,
          2250.8352,
          22493.65964,
          20234.85475,
          1704.70015,
          33475.81715,
          3161.454,
          11394.06555,
          21880.82,
          7325.0482,
          44501.3982,
          3594.17085,
          39727.614,
          8023.13545,
          14394.5579,
          9288.0267,
          25309.489,
          3353.4703,
          10594.50155,
          8277.523,
          17929.30337,
          2480.9791,
          4462.7218,
          1981.5819,
          11554.2236,
          48970.2476,
          6548.19505,
          5708.867,
          7045.499,
          8978.1851,
          5757.41345,
          14349.8544,
          10928.849,
          39871.7043,
          13974.45555,
          1909.52745,
          12096.6512,
          13204.28565,
          4562.8421,
          8551.347,
          2102.2647,
          34672.1472,
          15161.5344,
          11884.04858,
          4454.40265,
          5855.9025,
          4076.497,
          15019.76005,
          19023.26,
          10796.35025,
          11353.2276,
          9748.9106,
          10577.087,
          41676.0811,
          11286.5387,
          3591.48,
          33907.548,
          11299.343,
          4561.1885,
          44641.1974,
          1674.6323,
          23045.56616,
          3227.1211,
          16776.30405,
          11253.421,
          3471.4096,
          11363.2832,
          20420.60465,
          10338.9316,
          8988.15875,
          10493.9458,
          2904.088,
          8605.3615,
          11512.405,
          41949.2441,
          24180.9335,
          5312.16985,
          2396.0959,
          10807.4863,
          9222.4026,
          36124.5737,
          38282.7495,
          5693.4305,
          34166.273,
          8347.1643,
          46661.4424,
          18903.49141,
          40904.1995,
          14254.6082,
          10214.636,
          5836.5204,
          14358.36437,
          1728.897,
          8582.3023,
          3693.428,
          20709.02034,
          9991.03765,
          19673.33573,
          11085.5868,
          7623.518,
          3176.2877,
          3704.3545,
          36898.73308,
          9048.0273,
          7954.517,
          27117.99378,
          6338.0756,
          9630.397,
          11289.10925,
          52590.82939,
          2261.5688,
          10791.96,
          5979.731,
          2203.73595,
          12235.8392,
          40941.2854,
          5630.45785,
          11015.1747,
          7228.21565,
          39722.7462,
          14426.07385,
          2459.7201,
          3989.841,
          7727.2532,
          5124.1887,
          18963.17192,
          2200.83085,
          7153.5539,
          5227.98875,
          10982.5013,
          4529.477,
          4670.64,
          6112.35295,
          17178.6824,
          22478.6,
          11093.6229,
          6457.8434,
          4433.9159,
          2154.361,
          23887.6627,
          6496.886,
          2899.48935,
          19350.3689,
          7650.77375,
          2850.68375,
          2632.992,
          9447.3824,
          18328.2381,
          8603.8234,
          37465.34375,
          13844.7972,
          21771.3423,
          13126.67745,
          5327.40025,
          13725.47184,
          13019.16105,
          8671.19125,
          4134.08245,
          18838.70366,
          33307.5508,
          5699.8375,
          6393.60345,
          4934.705,
          6198.7518,
          8733.22925,
          2055.3249,
          9964.06,
          18223.4512,
          5116.5004,
          36910.60803,
          38415.474,
          20296.86345,
          12347.172,
          5373.36425,
          23563.01618,
          1702.4553,
          10806.839,
          3956.07145,
          12890.05765,
          5415.6612,
          4058.1161,
          41661.602,
          7537.1639,
          4718.20355,
          6593.5083,
          8442.667,
          26125.67477,
          6858.4796,
          4795.6568,
          6640.54485,
          7162.0122,
          10594.2257,
          11938.25595,
          60021.39897,
          20167.33603,
          12479.70895,
          11345.519,
          8515.7587,
          2699.56835,
          14449.8544,
          12224.35085,
          6985.50695,
          3238.4357,
          47269.854,
          49577.6624,
          4296.2712,
          3171.6149,
          1135.9407,
          5615.369,
          9101.798,
          6059.173,
          1633.9618,
          37607.5277,
          18648.4217,
          1241.565,
          16232.847,
          15828.82173,
          4415.1588,
          6474.013,
          11436.73815,
          11305.93455,
          30063.58055,
          10197.7722,
          4544.2348,
          3277.161,
          6770.1925,
          7337.748,
          10370.91255,
          26926.5144,
          10704.47,
          34254.05335,
          1880.487,
          8615.3,
          3292.52985,
          3021.80915,
          14478.33015,
          4747.0529,
          17043.3414,
          10959.33,
          2741.948,
          4357.04365,
          22462.04375,
          4189.1131,
          8283.6807,
          24535.69855,
          14283.4594,
          1720.3537,
          47403.88,
          8534.6718,
          3732.6251,
          5472.449,
          38344.566,
          7147.4728,
          7133.9025,
          34828.654,
          1515.3449,
          9301.89355,
          11931.12525,
          1964.78,
          1708.92575,
          4340.4409,
          5261.46945,
          2710.82855,
          62592.87309,
          46718.16325,
          3208.787,
          37829.7242,
          21259.37795,
          2464.6188,
          16115.3045,
          21472.4788,
          33900.653,
          6875.961,
          6940.90985,
          4571.41305,
          4536.259,
          36397.576,
          18765.87545,
          11272.33139,
          1731.677,
          1163.4627,
          19496.71917,
          7201.70085,
          5425.02335,
          28101.33305,
          12981.3457,
          43896.3763,
          4239.89265,
          13143.33665,
          7050.0213,
          9377.9047,
          22395.74424,
          10325.206,
          12629.1656,
          10795.93733,
          11411.685,
          10600.5483,
          2205.9808,
          1629.8335,
          2007.945,
          29141.3603
         ],
         "xaxis": "x",
         "yaxis": "y"
        }
       ],
       "layout": {
        "bargap": 0.05,
        "template": {
         "data": {
          "bar": [
           {
            "error_x": {
             "color": "#2a3f5f"
            },
            "error_y": {
             "color": "#2a3f5f"
            },
            "marker": {
             "line": {
              "color": "#E5ECF6",
              "width": 0.5
             },
             "pattern": {
              "fillmode": "overlay",
              "size": 10,
              "solidity": 0.2
             }
            },
            "type": "bar"
           }
          ],
          "barpolar": [
           {
            "marker": {
             "line": {
              "color": "#E5ECF6",
              "width": 0.5
             },
             "pattern": {
              "fillmode": "overlay",
              "size": 10,
              "solidity": 0.2
             }
            },
            "type": "barpolar"
           }
          ],
          "carpet": [
           {
            "aaxis": {
             "endlinecolor": "#2a3f5f",
             "gridcolor": "white",
             "linecolor": "white",
             "minorgridcolor": "white",
             "startlinecolor": "#2a3f5f"
            },
            "baxis": {
             "endlinecolor": "#2a3f5f",
             "gridcolor": "white",
             "linecolor": "white",
             "minorgridcolor": "white",
             "startlinecolor": "#2a3f5f"
            },
            "type": "carpet"
           }
          ],
          "choropleth": [
           {
            "colorbar": {
             "outlinewidth": 0,
             "ticks": ""
            },
            "type": "choropleth"
           }
          ],
          "contour": [
           {
            "colorbar": {
             "outlinewidth": 0,
             "ticks": ""
            },
            "colorscale": [
             [
              0,
              "#0d0887"
             ],
             [
              0.1111111111111111,
              "#46039f"
             ],
             [
              0.2222222222222222,
              "#7201a8"
             ],
             [
              0.3333333333333333,
              "#9c179e"
             ],
             [
              0.4444444444444444,
              "#bd3786"
             ],
             [
              0.5555555555555556,
              "#d8576b"
             ],
             [
              0.6666666666666666,
              "#ed7953"
             ],
             [
              0.7777777777777778,
              "#fb9f3a"
             ],
             [
              0.8888888888888888,
              "#fdca26"
             ],
             [
              1,
              "#f0f921"
             ]
            ],
            "type": "contour"
           }
          ],
          "contourcarpet": [
           {
            "colorbar": {
             "outlinewidth": 0,
             "ticks": ""
            },
            "type": "contourcarpet"
           }
          ],
          "heatmap": [
           {
            "colorbar": {
             "outlinewidth": 0,
             "ticks": ""
            },
            "colorscale": [
             [
              0,
              "#0d0887"
             ],
             [
              0.1111111111111111,
              "#46039f"
             ],
             [
              0.2222222222222222,
              "#7201a8"
             ],
             [
              0.3333333333333333,
              "#9c179e"
             ],
             [
              0.4444444444444444,
              "#bd3786"
             ],
             [
              0.5555555555555556,
              "#d8576b"
             ],
             [
              0.6666666666666666,
              "#ed7953"
             ],
             [
              0.7777777777777778,
              "#fb9f3a"
             ],
             [
              0.8888888888888888,
              "#fdca26"
             ],
             [
              1,
              "#f0f921"
             ]
            ],
            "type": "heatmap"
           }
          ],
          "heatmapgl": [
           {
            "colorbar": {
             "outlinewidth": 0,
             "ticks": ""
            },
            "colorscale": [
             [
              0,
              "#0d0887"
             ],
             [
              0.1111111111111111,
              "#46039f"
             ],
             [
              0.2222222222222222,
              "#7201a8"
             ],
             [
              0.3333333333333333,
              "#9c179e"
             ],
             [
              0.4444444444444444,
              "#bd3786"
             ],
             [
              0.5555555555555556,
              "#d8576b"
             ],
             [
              0.6666666666666666,
              "#ed7953"
             ],
             [
              0.7777777777777778,
              "#fb9f3a"
             ],
             [
              0.8888888888888888,
              "#fdca26"
             ],
             [
              1,
              "#f0f921"
             ]
            ],
            "type": "heatmapgl"
           }
          ],
          "histogram": [
           {
            "marker": {
             "pattern": {
              "fillmode": "overlay",
              "size": 10,
              "solidity": 0.2
             }
            },
            "type": "histogram"
           }
          ],
          "histogram2d": [
           {
            "colorbar": {
             "outlinewidth": 0,
             "ticks": ""
            },
            "colorscale": [
             [
              0,
              "#0d0887"
             ],
             [
              0.1111111111111111,
              "#46039f"
             ],
             [
              0.2222222222222222,
              "#7201a8"
             ],
             [
              0.3333333333333333,
              "#9c179e"
             ],
             [
              0.4444444444444444,
              "#bd3786"
             ],
             [
              0.5555555555555556,
              "#d8576b"
             ],
             [
              0.6666666666666666,
              "#ed7953"
             ],
             [
              0.7777777777777778,
              "#fb9f3a"
             ],
             [
              0.8888888888888888,
              "#fdca26"
             ],
             [
              1,
              "#f0f921"
             ]
            ],
            "type": "histogram2d"
           }
          ],
          "histogram2dcontour": [
           {
            "colorbar": {
             "outlinewidth": 0,
             "ticks": ""
            },
            "colorscale": [
             [
              0,
              "#0d0887"
             ],
             [
              0.1111111111111111,
              "#46039f"
             ],
             [
              0.2222222222222222,
              "#7201a8"
             ],
             [
              0.3333333333333333,
              "#9c179e"
             ],
             [
              0.4444444444444444,
              "#bd3786"
             ],
             [
              0.5555555555555556,
              "#d8576b"
             ],
             [
              0.6666666666666666,
              "#ed7953"
             ],
             [
              0.7777777777777778,
              "#fb9f3a"
             ],
             [
              0.8888888888888888,
              "#fdca26"
             ],
             [
              1,
              "#f0f921"
             ]
            ],
            "type": "histogram2dcontour"
           }
          ],
          "mesh3d": [
           {
            "colorbar": {
             "outlinewidth": 0,
             "ticks": ""
            },
            "type": "mesh3d"
           }
          ],
          "parcoords": [
           {
            "line": {
             "colorbar": {
              "outlinewidth": 0,
              "ticks": ""
             }
            },
            "type": "parcoords"
           }
          ],
          "pie": [
           {
            "automargin": true,
            "type": "pie"
           }
          ],
          "scatter": [
           {
            "fillpattern": {
             "fillmode": "overlay",
             "size": 10,
             "solidity": 0.2
            },
            "type": "scatter"
           }
          ],
          "scatter3d": [
           {
            "line": {
             "colorbar": {
              "outlinewidth": 0,
              "ticks": ""
             }
            },
            "marker": {
             "colorbar": {
              "outlinewidth": 0,
              "ticks": ""
             }
            },
            "type": "scatter3d"
           }
          ],
          "scattercarpet": [
           {
            "marker": {
             "colorbar": {
              "outlinewidth": 0,
              "ticks": ""
             }
            },
            "type": "scattercarpet"
           }
          ],
          "scattergeo": [
           {
            "marker": {
             "colorbar": {
              "outlinewidth": 0,
              "ticks": ""
             }
            },
            "type": "scattergeo"
           }
          ],
          "scattergl": [
           {
            "marker": {
             "colorbar": {
              "outlinewidth": 0,
              "ticks": ""
             }
            },
            "type": "scattergl"
           }
          ],
          "scattermapbox": [
           {
            "marker": {
             "colorbar": {
              "outlinewidth": 0,
              "ticks": ""
             }
            },
            "type": "scattermapbox"
           }
          ],
          "scatterpolar": [
           {
            "marker": {
             "colorbar": {
              "outlinewidth": 0,
              "ticks": ""
             }
            },
            "type": "scatterpolar"
           }
          ],
          "scatterpolargl": [
           {
            "marker": {
             "colorbar": {
              "outlinewidth": 0,
              "ticks": ""
             }
            },
            "type": "scatterpolargl"
           }
          ],
          "scatterternary": [
           {
            "marker": {
             "colorbar": {
              "outlinewidth": 0,
              "ticks": ""
             }
            },
            "type": "scatterternary"
           }
          ],
          "surface": [
           {
            "colorbar": {
             "outlinewidth": 0,
             "ticks": ""
            },
            "colorscale": [
             [
              0,
              "#0d0887"
             ],
             [
              0.1111111111111111,
              "#46039f"
             ],
             [
              0.2222222222222222,
              "#7201a8"
             ],
             [
              0.3333333333333333,
              "#9c179e"
             ],
             [
              0.4444444444444444,
              "#bd3786"
             ],
             [
              0.5555555555555556,
              "#d8576b"
             ],
             [
              0.6666666666666666,
              "#ed7953"
             ],
             [
              0.7777777777777778,
              "#fb9f3a"
             ],
             [
              0.8888888888888888,
              "#fdca26"
             ],
             [
              1,
              "#f0f921"
             ]
            ],
            "type": "surface"
           }
          ],
          "table": [
           {
            "cells": {
             "fill": {
              "color": "#EBF0F8"
             },
             "line": {
              "color": "white"
             }
            },
            "header": {
             "fill": {
              "color": "#C8D4E3"
             },
             "line": {
              "color": "white"
             }
            },
            "type": "table"
           }
          ]
         },
         "layout": {
          "annotationdefaults": {
           "arrowcolor": "#2a3f5f",
           "arrowhead": 0,
           "arrowwidth": 1
          },
          "autotypenumbers": "strict",
          "coloraxis": {
           "colorbar": {
            "outlinewidth": 0,
            "ticks": ""
           }
          },
          "colorscale": {
           "diverging": [
            [
             0,
             "#8e0152"
            ],
            [
             0.1,
             "#c51b7d"
            ],
            [
             0.2,
             "#de77ae"
            ],
            [
             0.3,
             "#f1b6da"
            ],
            [
             0.4,
             "#fde0ef"
            ],
            [
             0.5,
             "#f7f7f7"
            ],
            [
             0.6,
             "#e6f5d0"
            ],
            [
             0.7,
             "#b8e186"
            ],
            [
             0.8,
             "#7fbc41"
            ],
            [
             0.9,
             "#4d9221"
            ],
            [
             1,
             "#276419"
            ]
           ],
           "sequential": [
            [
             0,
             "#0d0887"
            ],
            [
             0.1111111111111111,
             "#46039f"
            ],
            [
             0.2222222222222222,
             "#7201a8"
            ],
            [
             0.3333333333333333,
             "#9c179e"
            ],
            [
             0.4444444444444444,
             "#bd3786"
            ],
            [
             0.5555555555555556,
             "#d8576b"
            ],
            [
             0.6666666666666666,
             "#ed7953"
            ],
            [
             0.7777777777777778,
             "#fb9f3a"
            ],
            [
             0.8888888888888888,
             "#fdca26"
            ],
            [
             1,
             "#f0f921"
            ]
           ],
           "sequentialminus": [
            [
             0,
             "#0d0887"
            ],
            [
             0.1111111111111111,
             "#46039f"
            ],
            [
             0.2222222222222222,
             "#7201a8"
            ],
            [
             0.3333333333333333,
             "#9c179e"
            ],
            [
             0.4444444444444444,
             "#bd3786"
            ],
            [
             0.5555555555555556,
             "#d8576b"
            ],
            [
             0.6666666666666666,
             "#ed7953"
            ],
            [
             0.7777777777777778,
             "#fb9f3a"
            ],
            [
             0.8888888888888888,
             "#fdca26"
            ],
            [
             1,
             "#f0f921"
            ]
           ]
          },
          "colorway": [
           "#636efa",
           "#EF553B",
           "#00cc96",
           "#ab63fa",
           "#FFA15A",
           "#19d3f3",
           "#FF6692",
           "#B6E880",
           "#FF97FF",
           "#FECB52"
          ],
          "font": {
           "color": "#2a3f5f"
          },
          "geo": {
           "bgcolor": "white",
           "lakecolor": "white",
           "landcolor": "#E5ECF6",
           "showlakes": true,
           "showland": true,
           "subunitcolor": "white"
          },
          "hoverlabel": {
           "align": "left"
          },
          "hovermode": "closest",
          "mapbox": {
           "style": "light"
          },
          "paper_bgcolor": "white",
          "plot_bgcolor": "#E5ECF6",
          "polar": {
           "angularaxis": {
            "gridcolor": "white",
            "linecolor": "white",
            "ticks": ""
           },
           "bgcolor": "#E5ECF6",
           "radialaxis": {
            "gridcolor": "white",
            "linecolor": "white",
            "ticks": ""
           }
          },
          "scene": {
           "xaxis": {
            "backgroundcolor": "#E5ECF6",
            "gridcolor": "white",
            "gridwidth": 2,
            "linecolor": "white",
            "showbackground": true,
            "ticks": "",
            "zerolinecolor": "white"
           },
           "yaxis": {
            "backgroundcolor": "#E5ECF6",
            "gridcolor": "white",
            "gridwidth": 2,
            "linecolor": "white",
            "showbackground": true,
            "ticks": "",
            "zerolinecolor": "white"
           },
           "zaxis": {
            "backgroundcolor": "#E5ECF6",
            "gridcolor": "white",
            "gridwidth": 2,
            "linecolor": "white",
            "showbackground": true,
            "ticks": "",
            "zerolinecolor": "white"
           }
          },
          "shapedefaults": {
           "line": {
            "color": "#2a3f5f"
           }
          },
          "ternary": {
           "aaxis": {
            "gridcolor": "white",
            "linecolor": "white",
            "ticks": ""
           },
           "baxis": {
            "gridcolor": "white",
            "linecolor": "white",
            "ticks": ""
           },
           "bgcolor": "#E5ECF6",
           "caxis": {
            "gridcolor": "white",
            "linecolor": "white",
            "ticks": ""
           }
          },
          "title": {
           "x": 0.05
          },
          "xaxis": {
           "automargin": true,
           "gridcolor": "white",
           "linecolor": "white",
           "ticks": "",
           "title": {
            "standoff": 15
           },
           "zerolinecolor": "white",
           "zerolinewidth": 2
          },
          "yaxis": {
           "automargin": true,
           "gridcolor": "white",
           "linecolor": "white",
           "ticks": "",
           "title": {
            "standoff": 15
           },
           "zerolinecolor": "white",
           "zerolinewidth": 2
          }
         }
        },
        "title": {
         "text": "Charge Distribution"
        },
        "xaxis": {
         "anchor": "y",
         "domain": [
          0,
          1
         ],
         "title": {
          "text": "Charges"
         }
        },
        "yaxis": {
         "anchor": "x",
         "domain": [
          0,
          1
         ],
         "title": {
          "text": "Probability"
         }
        }
       }
      }
     },
     "metadata": {},
     "output_type": "display_data"
    }
   ],
   "source": [
    "charge_dist = df[\"charges\"].values\n",
    "\n",
    "fig = make_subplots(\n",
    "rows=1, cols=1,\n",
    ")\n",
    "\n",
    "fig.add_trace(\n",
    "go.Histogram(\n",
    "x=charge_dist,\n",
    "histnorm='probability',\n",
    "name=\"Charges Distribution\",\n",
    "marker=dict(color='#29AF7F')\n",
    "),\n",
    "row=1, col=1\n",
    ")\n",
    "\n",
    "fig.update_layout(\n",
    "title=\"Charge Distribution\",\n",
    "xaxis_title=\"Charges\",\n",
    "yaxis_title=\"Probability\",\n",
    "bargap=0.05\n",
    ")\n",
    "\n",
    "iplot(fig)"
   ]
  },
  {
   "cell_type": "markdown",
   "metadata": {},
   "source": [
    "#### 3. Age, Charges, BMI"
   ]
  },
  {
   "cell_type": "code",
   "execution_count": 5,
   "metadata": {},
   "outputs": [
    {
     "data": {
      "application/vnd.plotly.v1+json": {
       "config": {
        "plotlyServerURL": "https://plot.ly"
       },
       "data": [
        {
         "hovertemplate": "<b>Age:</b> %{x}<br><b>Charges:</b> $%{y}<br><b>BMI:</b> %{marker.color}<extra></extra>",
         "marker": {
          "color": [
           27.9,
           33.77,
           33,
           22.705,
           28.88,
           25.74,
           33.44,
           27.74,
           29.83,
           25.84,
           26.22,
           26.29,
           34.4,
           39.82,
           42.13,
           24.6,
           30.78,
           23.845,
           40.3,
           35.3,
           36.005,
           32.4,
           34.1,
           31.92,
           28.025,
           27.72,
           23.085,
           32.775,
           17.385,
           36.3,
           35.6,
           26.315,
           28.6,
           28.31,
           36.4,
           20.425,
           32.965,
           20.8,
           36.67,
           39.9,
           26.6,
           36.63,
           21.78,
           30.8,
           37.05,
           37.3,
           38.665,
           34.77,
           24.53,
           35.2,
           35.625,
           33.63,
           28,
           34.43,
           28.69,
           36.955,
           31.825,
           31.68,
           22.88,
           37.335,
           27.36,
           33.66,
           24.7,
           25.935,
           22.42,
           28.9,
           39.1,
           26.315,
           36.19,
           23.98,
           24.75,
           28.5,
           28.1,
           32.01,
           27.4,
           34.01,
           29.59,
           35.53,
           39.805,
           32.965,
           26.885,
           38.285,
           37.62,
           41.23,
           34.8,
           22.895,
           31.16,
           27.2,
           27.74,
           26.98,
           39.49,
           24.795,
           29.83,
           34.77,
           31.3,
           37.62,
           30.8,
           38.28,
           19.95,
           19.3,
           31.6,
           25.46,
           30.115,
           29.92,
           27.5,
           28.025,
           28.4,
           30.875,
           27.94,
           35.09,
           33.63,
           29.7,
           30.8,
           35.72,
           32.205,
           28.595,
           49.06,
           27.94,
           27.17,
           23.37,
           37.1,
           23.75,
           28.975,
           31.35,
           33.915,
           28.785,
           28.3,
           37.4,
           17.765,
           34.7,
           26.505,
           22.04,
           35.9,
           25.555,
           28.785,
           28.05,
           34.1,
           25.175,
           31.9,
           36,
           22.42,
           32.49,
           25.3,
           29.735,
           28.69,
           38.83,
           30.495,
           37.73,
           37.43,
           28.4,
           24.13,
           29.7,
           37.145,
           23.37,
           25.46,
           39.52,
           24.42,
           25.175,
           35.53,
           27.83,
           26.6,
           36.85,
           39.6,
           29.8,
           29.64,
           28.215,
           37,
           33.155,
           31.825,
           18.905,
           41.47,
           30.3,
           15.96,
           34.8,
           33.345,
           37.7,
           27.835,
           29.2,
           28.9,
           33.155,
           28.595,
           38.28,
           19.95,
           26.41,
           30.69,
           41.895,
           29.92,
           30.9,
           32.2,
           32.11,
           31.57,
           26.2,
           25.74,
           26.6,
           34.43,
           30.59,
           32.8,
           28.6,
           18.05,
           39.33,
           32.11,
           32.23,
           24.035,
           36.08,
           22.3,
           28.88,
           26.4,
           27.74,
           31.8,
           41.23,
           33,
           30.875,
           28.5,
           26.73,
           30.9,
           37.1,
           26.6,
           23.1,
           29.92,
           23.21,
           33.7,
           33.25,
           30.8,
           34.8,
           24.64,
           33.88,
           38.06,
           41.91,
           31.635,
           25.46,
           36.195,
           27.83,
           17.8,
           27.5,
           24.51,
           22.22,
           26.73,
           38.39,
           29.07,
           38.06,
           36.67,
           22.135,
           26.8,
           35.3,
           27.74,
           30.02,
           38.06,
           35.86,
           20.9,
           28.975,
           17.29,
           32.2,
           34.21,
           30.3,
           31.825,
           25.365,
           33.63,
           40.15,
           24.415,
           31.92,
           25.2,
           26.84,
           24.32,
           36.955,
           38.06,
           42.35,
           19.8,
           32.395,
           30.2,
           25.84,
           29.37,
           34.2,
           37.05,
           27.455,
           27.55,
           26.6,
           20.615,
           24.3,
           31.79,
           21.56,
           28.12,
           40.565,
           27.645,
           32.395,
           31.2,
           26.62,
           48.07,
           26.22,
           36.765,
           26.4,
           33.4,
           29.64,
           45.54,
           28.82,
           26.8,
           22.99,
           27.7,
           25.41,
           34.39,
           28.88,
           27.55,
           22.61,
           37.51,
           33,
           38,
           33.345,
           27.5,
           33.33,
           34.865,
           33.06,
           26.6,
           24.7,
           35.97,
           35.86,
           31.4,
           33.25,
           32.205,
           32.775,
           27.645,
           37.335,
           25.27,
           29.64,
           30.8,
           40.945,
           27.2,
           34.105,
           23.21,
           36.48,
           33.8,
           36.7,
           36.385,
           27.36,
           31.16,
           28.785,
           35.72,
           34.5,
           25.74,
           27.55,
           32.3,
           27.72,
           27.6,
           30.02,
           27.55,
           36.765,
           41.47,
           29.26,
           35.75,
           33.345,
           29.92,
           27.835,
           23.18,
           25.6,
           27.7,
           35.245,
           38.28,
           27.6,
           43.89,
           29.83,
           41.91,
           20.79,
           32.3,
           30.5,
           21.7,
           26.4,
           21.89,
           30.78,
           32.3,
           24.985,
           32.015,
           30.4,
           21.09,
           22.23,
           33.155,
           32.9,
           33.33,
           28.31,
           24.89,
           40.15,
           30.115,
           31.46,
           17.955,
           30.685,
           33,
           43.34,
           22.135,
           34.4,
           39.05,
           25.365,
           22.61,
           30.21,
           35.625,
           37.43,
           31.445,
           31.35,
           32.3,
           19.855,
           34.4,
           31.02,
           25.6,
           38.17,
           20.6,
           47.52,
           32.965,
           32.3,
           20.4,
           38.38,
           24.31,
           23.6,
           21.12,
           30.03,
           17.48,
           20.235,
           17.195,
           23.9,
           35.15,
           35.64,
           34.1,
           22.6,
           39.16,
           26.98,
           33.88,
           35.86,
           32.775,
           30.59,
           30.2,
           24.31,
           27.265,
           29.165,
           16.815,
           30.4,
           33.1,
           20.235,
           26.9,
           30.5,
           28.595,
           33.11,
           31.73,
           28.9,
           46.75,
           29.45,
           32.68,
           33.5,
           43.01,
           36.52,
           26.695,
           33.1,
           29.64,
           25.65,
           29.6,
           38.6,
           29.6,
           24.13,
           23.4,
           29.735,
           46.53,
           37.4,
           30.14,
           30.495,
           39.6,
           33,
           36.63,
           30,
           38.095,
           25.935,
           25.175,
           28.38,
           28.7,
           33.82,
           24.32,
           24.09,
           32.67,
           30.115,
           29.8,
           33.345,
           25.1,
           28.31,
           28.5,
           35.625,
           36.85,
           32.56,
           41.325,
           37.51,
           31.35,
           39.5,
           34.3,
           31.065,
           21.47,
           28.7,
           38.06,
           31.16,
           32.9,
           25.08,
           25.08,
           43.4,
           25.7,
           27.93,
           23.6,
           28.7,
           23.98,
           39.2,
           34.4,
           26.03,
           23.21,
           30.25,
           28.93,
           30.875,
           31.35,
           23.75,
           25.27,
           28.7,
           32.11,
           33.66,
           22.42,
           30.4,
           28.3,
           35.7,
           35.31,
           30.495,
           31,
           30.875,
           27.36,
           44.22,
           33.915,
           37.73,
           26.07,
           33.88,
           30.59,
           25.8,
           39.425,
           25.46,
           42.13,
           31.73,
           29.7,
           36.19,
           40.48,
           28.025,
           38.9,
           30.2,
           28.05,
           31.35,
           38,
           31.79,
           36.3,
           47.41,
           30.21,
           25.84,
           35.435,
           46.7,
           28.595,
           46.2,
           30.8,
           28.93,
           21.4,
           31.73,
           41.325,
           23.8,
           33.44,
           34.21,
           34.105,
           35.53,
           19.95,
           32.68,
           30.5,
           44.77,
           32.12,
           30.495,
           40.565,
           30.59,
           31.9,
           40.565,
           29.1,
           37.29,
           43.12,
           36.86,
           34.295,
           27.17,
           26.84,
           38.095,
           30.2,
           23.465,
           25.46,
           30.59,
           45.43,
           23.65,
           20.7,
           28.27,
           20.235,
           30.21,
           35.91,
           30.69,
           29,
           19.57,
           31.13,
           21.85,
           40.26,
           33.725,
           29.48,
           33.25,
           32.6,
           37.525,
           39.16,
           31.635,
           25.3,
           39.05,
           28.31,
           34.1,
           25.175,
           23.655,
           26.98,
           37.8,
           29.37,
           34.8,
           33.155,
           19,
           33,
           36.63,
           28.595,
           25.6,
           33.11,
           37.1,
           31.4,
           34.1,
           21.3,
           33.535,
           28.785,
           26.03,
           28.88,
           42.46,
           38,
           38.95,
           36.1,
           29.3,
           35.53,
           22.705,
           39.7,
           38.19,
           24.51,
           38.095,
           26.41,
           33.66,
           42.4,
           28.31,
           33.915,
           34.96,
           35.31,
           30.78,
           26.22,
           23.37,
           28.5,
           32.965,
           42.68,
           39.6,
           31.13,
           36.3,
           35.2,
           25.3,
           42.4,
           33.155,
           35.91,
           28.785,
           46.53,
           23.98,
           31.54,
           33.66,
           22.99,
           38.06,
           28.7,
           32.775,
           32.015,
           29.81,
           31.57,
           31.16,
           29.7,
           31.02,
           43.89,
           21.375,
           40.81,
           31.35,
           36.1,
           23.18,
           17.4,
           20.3,
           35.3,
           24.32,
           18.5,
           26.41,
           26.125,
           41.69,
           24.1,
           31.13,
           27.36,
           36.2,
           32.395,
           23.655,
           34.8,
           40.185,
           32.3,
           35.75,
           33.725,
           39.27,
           34.87,
           44.745,
           41.47,
           26.41,
           29.545,
           32.9,
           38.06,
           28.69,
           30.495,
           27.74,
           35.2,
           23.54,
           30.685,
           40.47,
           22.6,
           28.9,
           22.61,
           24.32,
           36.67,
           33.44,
           40.66,
           36.6,
           37.4,
           35.4,
           27.075,
           39.05,
           28.405,
           21.755,
           40.28,
           36.08,
           24.42,
           21.4,
           30.1,
           27.265,
           32.1,
           34.77,
           38.39,
           23.7,
           31.73,
           35.5,
           24.035,
           29.15,
           34.105,
           26.62,
           26.41,
           30.115,
           27,
           21.755,
           36,
           30.875,
           26.4,
           28.975,
           37.905,
           22.77,
           33.63,
           27.645,
           22.8,
           27.83,
           37.43,
           38.17,
           34.58,
           35.2,
           27.1,
           26.03,
           25.175,
           31.825,
           32.3,
           29,
           39.7,
           19.475,
           36.1,
           26.7,
           36.48,
           28.88,
           34.2,
           33.33,
           32.3,
           39.805,
           34.32,
           28.88,
           24.4,
           41.14,
           35.97,
           27.6,
           29.26,
           27.7,
           36.955,
           36.86,
           22.515,
           29.92,
           41.8,
           27.6,
           23.18,
           20.9,
           31.92,
           28.5,
           44.22,
           22.895,
           33.1,
           24.795,
           26.18,
           35.97,
           22.3,
           42.24,
           26.51,
           35.815,
           41.42,
           36.575,
           30.14,
           25.84,
           30.8,
           42.94,
           21.01,
           22.515,
           34.43,
           31.46,
           24.225,
           37.1,
           26.125,
           35.53,
           33.7,
           17.67,
           31.13,
           29.81,
           24.32,
           31.825,
           31.79,
           28.025,
           30.78,
           21.85,
           33.1,
           25.84,
           23.845,
           34.39,
           33.82,
           35.97,
           31.5,
           28.31,
           23.465,
           31.35,
           31.1,
           24.7,
           32.78,
           29.81,
           30.495,
           32.45,
           34.2,
           50.38,
           24.1,
           32.775,
           30.78,
           32.3,
           35.53,
           23.75,
           23.845,
           29.6,
           33.11,
           24.13,
           32.23,
           28.1,
           47.6,
           28,
           33.535,
           19.855,
           25.4,
           29.9,
           37.29,
           43.7,
           23.655,
           24.3,
           36.2,
           29.48,
           24.86,
           30.1,
           21.85,
           28.12,
           27.1,
           33.44,
           28.8,
           29.5,
           34.8,
           27.36,
           22.135,
           37.05,
           26.695,
           28.93,
           28.975,
           30.02,
           39.5,
           33.63,
           26.885,
           29.04,
           24.035,
           38.94,
           32.11,
           44,
           20.045,
           25.555,
           40.26,
           22.515,
           22.515,
           40.92,
           27.265,
           36.85,
           35.1,
           29.355,
           32.585,
           32.34,
           39.8,
           24.6,
           28.31,
           31.73,
           26.695,
           27.5,
           24.605,
           33.99,
           26.885,
           22.895,
           28.2,
           34.21,
           25,
           33.2,
           31,
           35.815,
           23.2,
           32.11,
           23.4,
           20.1,
           39.16,
           34.21,
           46.53,
           32.5,
           25.8,
           35.3,
           37.18,
           27.5,
           29.735,
           24.225,
           26.18,
           29.48,
           23.21,
           46.09,
           40.185,
           22.61,
           39.93,
           35.8,
           35.8,
           34.2,
           31.255,
           29.7,
           18.335,
           42.9,
           28.405,
           30.2,
           27.835,
           39.49,
           30.8,
           26.79,
           34.96,
           36.67,
           39.615,
           25.9,
           35.2,
           24.795,
           36.765,
           27.1,
           24.795,
           25.365,
           25.745,
           34.32,
           28.16,
           23.56,
           20.235,
           40.5,
           35.42,
           22.895,
           40.15,
           29.15,
           39.995,
           29.92,
           25.46,
           21.375,
           25.9,
           30.59,
           30.115,
           25.8,
           30.115,
           27.645,
           34.675,
           20.52,
           19.8,
           27.835,
           31.6,
           28.27,
           20.045,
           23.275,
           34.1,
           36.85,
           36.29,
           26.885,
           22.99,
           32.7,
           25.8,
           29.6,
           19.19,
           31.73,
           29.26,
           28.215,
           24.985,
           27.74,
           22.8,
           20.13,
           33.33,
           32.3,
           27.6,
           25.46,
           24.605,
           34.2,
           35.815,
           32.68,
           37,
           31.02,
           36.08,
           23.32,
           45.32,
           34.6,
           26.03,
           18.715,
           31.6,
           17.29,
           23.655,
           35.2,
           27.93,
           21.565,
           38.38,
           23,
           37.07,
           30.495,
           28.88,
           27.265,
           28.025,
           23.085,
           30.685,
           25.8,
           35.245,
           24.7,
           25.08,
           52.58,
           22.515,
           30.9,
           36.955,
           26.41,
           29.83,
           29.8,
           21.47,
           27.645,
           28.9,
           31.79,
           39.49,
           33.82,
           32.01,
           27.94,
           41.14,
           28.595,
           25.6,
           25.3,
           37.29,
           42.655,
           21.66,
           31.9,
           37.07,
           31.445,
           31.255,
           28.88,
           18.335,
           29.59,
           32,
           26.03,
           31.68,
           33.66,
           21.78,
           27.835,
           19.95,
           31.5,
           30.495,
           18.3,
           28.975,
           31.54,
           47.74,
           22.1,
           36.19,
           29.83,
           32.7,
           30.4,
           33.7,
           31.35,
           34.96,
           33.77,
           30.875,
           33.99,
           19.095,
           28.6,
           38.94,
           36.08,
           29.8,
           31.24,
           29.925,
           26.22,
           30,
           20.35,
           32.3,
           38.39,
           25.85,
           26.315,
           24.51,
           32.67,
           29.64,
           33.33,
           35.75,
           19.95,
           31.4,
           38.17,
           36.86,
           32.395,
           42.75,
           25.08,
           29.9,
           35.86,
           32.8,
           18.6,
           23.87,
           45.9,
           40.28,
           18.335,
           33.82,
           28.12,
           25,
           22.23,
           30.25,
           32.49,
           37.07,
           32.6,
           24.86,
           32.34,
           32.3,
           32.775,
           32.8,
           31.92,
           21.5,
           34.1,
           30.305,
           36.48,
           32.56,
           35.815,
           27.93,
           22.135,
           44.88,
           23.18,
           30.59,
           41.1,
           34.58,
           42.13,
           38.83,
           28.215,
           28.31,
           26.125,
           40.37,
           24.6,
           35.2,
           34.105,
           27.36,
           26.7,
           41.91,
           29.26,
           32.11,
           27.1,
           24.13,
           27.4,
           34.865,
           29.81,
           41.325,
           29.925,
           30.3,
           27.36,
           28.49,
           23.56,
           35.625,
           32.68,
           25.27,
           28,
           32.775,
           21.755,
           32.395,
           36.575,
           21.755,
           27.93,
           30.02,
           33.55,
           29.355,
           25.8,
           24.32,
           40.375,
           32.11,
           32.3,
           27.28,
           17.86,
           34.8,
           33.4,
           25.555,
           37.1,
           30.875,
           34.1,
           21.47,
           33.3,
           31.255,
           39.14,
           25.08,
           37.29,
           34.6,
           30.21,
           21.945,
           24.97,
           25.3,
           24.42,
           23.94,
           39.82,
           16.815,
           37.18,
           34.43,
           30.305,
           34.485,
           21.8,
           24.605,
           23.3,
           27.83,
           31.065,
           21.66,
           28.215,
           22.705,
           42.13,
           41.8,
           36.96,
           21.28,
           33.11,
           33.33,
           24.3,
           25.7,
           29.4,
           39.82,
           33.63,
           29.83,
           19.8,
           27.3,
           29.3,
           27.72,
           37.9,
           36.385,
           27.645,
           37.715,
           23.18,
           20.52,
           37.1,
           28.05,
           29.9,
           33.345,
           23.76,
           30.5,
           31.065,
           33.3,
           27.5,
           33.915,
           34.485,
           25.52,
           27.61,
           27.06,
           23.7,
           30.4,
           29.735,
           29.925,
           26.79,
           33.33,
           27.645,
           21.66,
           30.03,
           36.3,
           24.32,
           17.29,
           25.9,
           39.4,
           34.32,
           19.95,
           34.9,
           23.21,
           25.745,
           25.175,
           22,
           26.125,
           26.51,
           27.455,
           25.745,
           30.36,
           30.875,
           20.8,
           27.8,
           24.605,
           27.72,
           21.85,
           28.12,
           30.2,
           32.2,
           26.315,
           26.695,
           42.9,
           34.7,
           23.655,
           28.31,
           20.6,
           53.13,
           39.71,
           26.315,
           31.065,
           26.695,
           38.83,
           40.37,
           25.935,
           33.535,
           32.87,
           30.03,
           24.225,
           38.6,
           25.74,
           33.4,
           44.7,
           30.97,
           31.92,
           36.85,
           25.8,
           29.07
          ],
          "colorbar": {
           "title": {
            "text": "BMI"
           }
          },
          "colorscale": [
           [
            0,
            "#440154"
           ],
           [
            0.1111111111111111,
            "#482878"
           ],
           [
            0.2222222222222222,
            "#3e4989"
           ],
           [
            0.3333333333333333,
            "#31688e"
           ],
           [
            0.4444444444444444,
            "#26828e"
           ],
           [
            0.5555555555555556,
            "#1f9e89"
           ],
           [
            0.6666666666666666,
            "#35b779"
           ],
           [
            0.7777777777777778,
            "#6ece58"
           ],
           [
            0.8888888888888888,
            "#b5de2b"
           ],
           [
            1,
            "#fde725"
           ]
          ],
          "showscale": true,
          "size": 10
         },
         "mode": "markers",
         "type": "scatter",
         "x": [
          19,
          18,
          28,
          33,
          32,
          31,
          46,
          37,
          37,
          60,
          25,
          62,
          23,
          56,
          27,
          19,
          52,
          23,
          56,
          30,
          60,
          30,
          18,
          34,
          37,
          59,
          63,
          55,
          23,
          31,
          22,
          18,
          19,
          63,
          28,
          19,
          62,
          26,
          35,
          60,
          24,
          31,
          41,
          37,
          38,
          55,
          18,
          28,
          60,
          36,
          18,
          21,
          48,
          36,
          40,
          58,
          58,
          18,
          53,
          34,
          43,
          25,
          64,
          28,
          20,
          19,
          61,
          40,
          40,
          28,
          27,
          31,
          53,
          58,
          44,
          57,
          29,
          21,
          22,
          41,
          31,
          45,
          22,
          48,
          37,
          45,
          57,
          56,
          46,
          55,
          21,
          53,
          59,
          35,
          64,
          28,
          54,
          55,
          56,
          38,
          41,
          30,
          18,
          61,
          34,
          20,
          19,
          26,
          29,
          63,
          54,
          55,
          37,
          21,
          52,
          60,
          58,
          29,
          49,
          37,
          44,
          18,
          20,
          44,
          47,
          26,
          19,
          52,
          32,
          38,
          59,
          61,
          53,
          19,
          20,
          22,
          19,
          22,
          54,
          22,
          34,
          26,
          34,
          29,
          30,
          29,
          46,
          51,
          53,
          19,
          35,
          48,
          32,
          42,
          40,
          44,
          48,
          18,
          30,
          50,
          42,
          18,
          54,
          32,
          37,
          47,
          20,
          32,
          19,
          27,
          63,
          49,
          18,
          35,
          24,
          63,
          38,
          54,
          46,
          41,
          58,
          18,
          22,
          44,
          44,
          36,
          26,
          30,
          41,
          29,
          61,
          36,
          25,
          56,
          18,
          19,
          39,
          45,
          51,
          64,
          19,
          48,
          60,
          27,
          46,
          28,
          59,
          35,
          63,
          40,
          20,
          40,
          24,
          34,
          45,
          41,
          53,
          27,
          26,
          24,
          34,
          53,
          32,
          19,
          42,
          55,
          28,
          58,
          41,
          47,
          42,
          59,
          19,
          59,
          39,
          40,
          18,
          31,
          19,
          44,
          23,
          33,
          55,
          40,
          63,
          54,
          60,
          24,
          19,
          29,
          18,
          63,
          54,
          27,
          50,
          55,
          56,
          38,
          51,
          19,
          58,
          20,
          52,
          19,
          53,
          46,
          40,
          59,
          45,
          49,
          18,
          50,
          41,
          50,
          25,
          47,
          19,
          22,
          59,
          51,
          40,
          54,
          30,
          55,
          52,
          46,
          46,
          63,
          59,
          52,
          28,
          29,
          25,
          22,
          25,
          18,
          19,
          47,
          31,
          48,
          36,
          53,
          56,
          28,
          57,
          29,
          28,
          30,
          58,
          41,
          50,
          19,
          43,
          49,
          27,
          52,
          50,
          54,
          44,
          32,
          34,
          26,
          34,
          57,
          29,
          40,
          27,
          45,
          64,
          52,
          61,
          52,
          61,
          56,
          43,
          64,
          60,
          62,
          50,
          46,
          24,
          62,
          60,
          63,
          49,
          34,
          33,
          46,
          36,
          19,
          57,
          50,
          30,
          33,
          18,
          46,
          46,
          47,
          23,
          18,
          48,
          35,
          19,
          21,
          21,
          49,
          56,
          42,
          44,
          18,
          61,
          57,
          42,
          26,
          20,
          23,
          39,
          24,
          64,
          62,
          27,
          55,
          55,
          35,
          44,
          19,
          58,
          50,
          26,
          24,
          48,
          19,
          48,
          49,
          46,
          46,
          43,
          21,
          64,
          18,
          51,
          47,
          64,
          49,
          31,
          52,
          33,
          47,
          38,
          32,
          19,
          44,
          26,
          25,
          19,
          43,
          52,
          36,
          64,
          63,
          64,
          61,
          40,
          25,
          48,
          45,
          38,
          18,
          21,
          27,
          19,
          29,
          42,
          60,
          31,
          60,
          22,
          35,
          52,
          26,
          31,
          33,
          18,
          59,
          56,
          45,
          60,
          56,
          40,
          35,
          39,
          30,
          24,
          20,
          32,
          59,
          55,
          57,
          56,
          40,
          49,
          42,
          62,
          56,
          19,
          30,
          60,
          56,
          28,
          18,
          27,
          18,
          19,
          47,
          54,
          61,
          24,
          25,
          21,
          23,
          63,
          49,
          18,
          51,
          48,
          31,
          54,
          19,
          44,
          53,
          19,
          61,
          18,
          61,
          21,
          20,
          31,
          45,
          44,
          62,
          29,
          43,
          51,
          19,
          38,
          37,
          22,
          21,
          24,
          57,
          56,
          27,
          51,
          19,
          39,
          58,
          20,
          45,
          35,
          31,
          50,
          32,
          51,
          38,
          42,
          18,
          19,
          51,
          46,
          18,
          57,
          62,
          59,
          37,
          64,
          38,
          33,
          46,
          46,
          53,
          34,
          20,
          63,
          54,
          54,
          49,
          28,
          54,
          25,
          43,
          63,
          32,
          62,
          52,
          25,
          28,
          46,
          34,
          35,
          19,
          46,
          54,
          27,
          50,
          18,
          19,
          38,
          41,
          49,
          48,
          31,
          18,
          30,
          62,
          57,
          58,
          22,
          31,
          52,
          25,
          59,
          19,
          39,
          32,
          19,
          33,
          21,
          34,
          61,
          38,
          58,
          47,
          20,
          21,
          41,
          46,
          42,
          34,
          43,
          52,
          18,
          51,
          56,
          64,
          19,
          51,
          27,
          59,
          28,
          30,
          47,
          38,
          18,
          34,
          20,
          47,
          56,
          49,
          19,
          55,
          30,
          37,
          49,
          18,
          59,
          29,
          36,
          33,
          58,
          44,
          53,
          24,
          29,
          40,
          51,
          64,
          19,
          35,
          39,
          56,
          33,
          42,
          61,
          23,
          43,
          48,
          39,
          40,
          18,
          58,
          49,
          53,
          48,
          45,
          59,
          52,
          26,
          27,
          48,
          57,
          37,
          57,
          32,
          18,
          64,
          43,
          49,
          40,
          62,
          40,
          30,
          29,
          36,
          41,
          44,
          45,
          55,
          60,
          56,
          49,
          21,
          19,
          39,
          53,
          33,
          53,
          42,
          40,
          47,
          27,
          21,
          47,
          20,
          24,
          27,
          26,
          53,
          41,
          56,
          23,
          21,
          50,
          53,
          34,
          47,
          33,
          51,
          49,
          31,
          36,
          18,
          50,
          43,
          20,
          24,
          60,
          49,
          60,
          51,
          58,
          51,
          53,
          62,
          19,
          50,
          30,
          41,
          29,
          18,
          41,
          35,
          53,
          24,
          48,
          59,
          49,
          37,
          26,
          23,
          29,
          45,
          27,
          53,
          31,
          50,
          50,
          34,
          19,
          47,
          28,
          37,
          21,
          64,
          58,
          24,
          31,
          39,
          47,
          30,
          18,
          22,
          23,
          33,
          27,
          45,
          57,
          47,
          42,
          64,
          38,
          61,
          53,
          44,
          19,
          41,
          51,
          40,
          45,
          35,
          53,
          30,
          18,
          51,
          50,
          31,
          35,
          60,
          21,
          29,
          62,
          39,
          19,
          22,
          53,
          39,
          27,
          30,
          30,
          58,
          33,
          42,
          64,
          21,
          18,
          23,
          45,
          40,
          19,
          18,
          25,
          46,
          33,
          54,
          28,
          36,
          20,
          24,
          23,
          47,
          33,
          45,
          26,
          18,
          44,
          60,
          64,
          56,
          36,
          41,
          39,
          63,
          36,
          28,
          58,
          36,
          42,
          36,
          56,
          35,
          59,
          21,
          59,
          23,
          57,
          53,
          60,
          51,
          23,
          27,
          55,
          37,
          61,
          46,
          53,
          49,
          20,
          48,
          25,
          25,
          57,
          37,
          38,
          55,
          36,
          51,
          40,
          18,
          57,
          61,
          25,
          50,
          26,
          42,
          43,
          44,
          23,
          49,
          33,
          41,
          37,
          22,
          23,
          21,
          51,
          25,
          32,
          57,
          36,
          22,
          57,
          64,
          36,
          54,
          47,
          62,
          61,
          43,
          19,
          18,
          19,
          49,
          60,
          26,
          49,
          60,
          26,
          27,
          44,
          63,
          32,
          22,
          18,
          59,
          44,
          33,
          24,
          43,
          45,
          61,
          35,
          62,
          62,
          38,
          34,
          43,
          50,
          19,
          57,
          62,
          41,
          26,
          39,
          46,
          45,
          32,
          59,
          44,
          39,
          18,
          53,
          18,
          50,
          18,
          19,
          62,
          56,
          42,
          37,
          42,
          25,
          57,
          51,
          30,
          44,
          34,
          31,
          54,
          24,
          43,
          48,
          19,
          29,
          63,
          46,
          52,
          35,
          51,
          44,
          21,
          39,
          50,
          34,
          22,
          19,
          26,
          29,
          48,
          26,
          45,
          36,
          54,
          34,
          31,
          27,
          20,
          44,
          43,
          45,
          34,
          24,
          26,
          38,
          50,
          38,
          27,
          39,
          39,
          63,
          33,
          36,
          30,
          24,
          24,
          48,
          47,
          29,
          28,
          47,
          25,
          51,
          48,
          43,
          61,
          48,
          38,
          59,
          19,
          26,
          54,
          21,
          51,
          22,
          47,
          18,
          47,
          21,
          19,
          23,
          54,
          37,
          46,
          55,
          30,
          18,
          61,
          54,
          22,
          45,
          22,
          19,
          35,
          18,
          20,
          28,
          55,
          43,
          43,
          22,
          25,
          49,
          44,
          64,
          49,
          47,
          27,
          55,
          48,
          45,
          24,
          32,
          24,
          57,
          59,
          36,
          29,
          42,
          48,
          39,
          63,
          54,
          37,
          63,
          21,
          54,
          60,
          32,
          47,
          21,
          28,
          63,
          18,
          32,
          38,
          32,
          62,
          39,
          55,
          57,
          52,
          56,
          47,
          55,
          23,
          22,
          50,
          18,
          51,
          22,
          52,
          25,
          33,
          53,
          29,
          58,
          37,
          54,
          49,
          50,
          26,
          45,
          54,
          38,
          48,
          28,
          23,
          55,
          41,
          25,
          33,
          30,
          23,
          46,
          53,
          27,
          23,
          63,
          55,
          35,
          34,
          19,
          39,
          27,
          57,
          52,
          28,
          50,
          44,
          26,
          33,
          19,
          50,
          41,
          52,
          39,
          50,
          52,
          60,
          20,
          55,
          42,
          18,
          58,
          43,
          35,
          48,
          36,
          19,
          23,
          20,
          32,
          43,
          34,
          30,
          18,
          41,
          35,
          57,
          29,
          32,
          37,
          18,
          43,
          56,
          38,
          29,
          22,
          52,
          40,
          23,
          31,
          42,
          24,
          25,
          48,
          23,
          45,
          20,
          62,
          43,
          23,
          31,
          41,
          58,
          48,
          31,
          19,
          19,
          41,
          40,
          31,
          37,
          46,
          22,
          51,
          18,
          35,
          59,
          36,
          37,
          59,
          36,
          39,
          18,
          52,
          27,
          18,
          40,
          29,
          46,
          38,
          30,
          40,
          50,
          20,
          41,
          33,
          38,
          42,
          56,
          58,
          52,
          20,
          54,
          58,
          45,
          26,
          63,
          58,
          37,
          25,
          52,
          64,
          22,
          28,
          18,
          28,
          45,
          33,
          18,
          32,
          24,
          19,
          20,
          40,
          34,
          42,
          51,
          54,
          55,
          52,
          32,
          28,
          41,
          43,
          49,
          64,
          55,
          24,
          20,
          45,
          26,
          25,
          43,
          35,
          26,
          57,
          22,
          32,
          39,
          25,
          48,
          47,
          18,
          18,
          61,
          47,
          28,
          36,
          20,
          44,
          38,
          19,
          21,
          46,
          58,
          20,
          18,
          28,
          33,
          19,
          45,
          62,
          25,
          43,
          42,
          24,
          29,
          32,
          25,
          41,
          42,
          33,
          34,
          19,
          30,
          18,
          19,
          18,
          35,
          39,
          31,
          62,
          62,
          42,
          31,
          61,
          42,
          51,
          23,
          52,
          57,
          23,
          52,
          50,
          18,
          18,
          21,
          61
         ],
         "y": [
          16884.924,
          1725.5523,
          4449.462,
          21984.47061,
          3866.8552,
          3756.6216,
          8240.5896,
          7281.5056,
          6406.4107,
          28923.13692,
          2721.3208,
          27808.7251,
          1826.843,
          11090.7178,
          39611.7577,
          1837.237,
          10797.3362,
          2395.17155,
          10602.385,
          36837.467,
          13228.84695,
          4149.736,
          1137.011,
          37701.8768,
          6203.90175,
          14001.1338,
          14451.83515,
          12268.63225,
          2775.19215,
          38711,
          35585.576,
          2198.18985,
          4687.797,
          13770.0979,
          51194.55914,
          1625.43375,
          15612.19335,
          2302.3,
          39774.2763,
          48173.361,
          3046.062,
          4949.7587,
          6272.4772,
          6313.759,
          6079.6715,
          20630.28351,
          3393.35635,
          3556.9223,
          12629.8967,
          38709.176,
          2211.13075,
          3579.8287,
          23568.272,
          37742.5757,
          8059.6791,
          47496.49445,
          13607.36875,
          34303.1672,
          23244.7902,
          5989.52365,
          8606.2174,
          4504.6624,
          30166.61817,
          4133.64165,
          14711.7438,
          1743.214,
          14235.072,
          6389.37785,
          5920.1041,
          17663.1442,
          16577.7795,
          6799.458,
          11741.726,
          11946.6259,
          7726.854,
          11356.6609,
          3947.4131,
          1532.4697,
          2755.02095,
          6571.02435,
          4441.21315,
          7935.29115,
          37165.1638,
          11033.6617,
          39836.519,
          21098.55405,
          43578.9394,
          11073.176,
          8026.6666,
          11082.5772,
          2026.9741,
          10942.13205,
          30184.9367,
          5729.0053,
          47291.055,
          3766.8838,
          12105.32,
          10226.2842,
          22412.6485,
          15820.699,
          6186.127,
          3645.0894,
          21344.8467,
          30942.1918,
          5003.853,
          17560.37975,
          2331.519,
          3877.30425,
          2867.1196,
          47055.5321,
          10825.2537,
          11881.358,
          4646.759,
          2404.7338,
          11488.31695,
          30259.99556,
          11381.3254,
          19107.7796,
          8601.3293,
          6686.4313,
          7740.337,
          1705.6245,
          2257.47525,
          39556.4945,
          10115.00885,
          3385.39915,
          17081.08,
          9634.538,
          32734.1863,
          6082.405,
          12815.44495,
          13616.3586,
          11163.568,
          1632.56445,
          2457.21115,
          2155.6815,
          1261.442,
          2045.68525,
          27322.73386,
          2166.732,
          27375.90478,
          3490.5491,
          18972.495,
          18157.876,
          20745.9891,
          5138.2567,
          40720.55105,
          9877.6077,
          10959.6947,
          1842.519,
          5125.2157,
          7789.635,
          6334.34355,
          19964.7463,
          7077.1894,
          6948.7008,
          21223.6758,
          15518.18025,
          36950.2567,
          19749.38338,
          21348.706,
          36149.4835,
          10450.552,
          5152.134,
          5028.1466,
          10407.08585,
          4830.63,
          6128.79745,
          2719.27975,
          4827.90495,
          13405.3903,
          8116.68,
          1694.7964,
          5246.047,
          2855.43755,
          48824.45,
          6455.86265,
          10436.096,
          8823.279,
          8538.28845,
          11735.87905,
          1631.8212,
          4005.4225,
          7419.4779,
          7731.4271,
          43753.33705,
          3981.9768,
          5325.651,
          6775.961,
          4922.9159,
          12557.6053,
          4883.866,
          2137.6536,
          12044.342,
          1137.4697,
          1639.5631,
          5649.715,
          8516.829,
          9644.2525,
          14901.5167,
          2130.6759,
          8871.1517,
          13012.20865,
          37133.8982,
          7147.105,
          4337.7352,
          11743.299,
          20984.0936,
          13880.949,
          6610.1097,
          1980.07,
          8162.71625,
          3537.703,
          5002.7827,
          8520.026,
          7371.772,
          10355.641,
          2483.736,
          3392.9768,
          25081.76784,
          5012.471,
          10564.8845,
          5253.524,
          34779.615,
          19515.5416,
          11987.1682,
          2689.4954,
          24227.33724,
          7358.17565,
          9225.2564,
          7443.64305,
          14001.2867,
          1727.785,
          12333.828,
          6710.1919,
          19444.2658,
          1615.7667,
          4463.2051,
          17352.6803,
          7152.6714,
          38511.6283,
          5354.07465,
          35160.13457,
          7196.867,
          29523.1656,
          24476.47851,
          12648.7034,
          1986.9334,
          1832.094,
          4040.55825,
          12829.4551,
          47305.305,
          44260.7499,
          4260.744,
          41097.16175,
          13047.33235,
          43921.1837,
          5400.9805,
          11520.09985,
          33750.2918,
          11837.16,
          17085.2676,
          24869.8368,
          36219.40545,
          20462.99766,
          46151.1245,
          17179.522,
          14590.63205,
          7441.053,
          9282.4806,
          1719.4363,
          42856.838,
          7265.7025,
          9617.66245,
          2523.1695,
          9715.841,
          2803.69785,
          2150.469,
          12928.7911,
          9855.1314,
          22331.5668,
          48549.17835,
          4237.12655,
          11879.10405,
          9625.92,
          7742.1098,
          9432.9253,
          14256.1928,
          47896.79135,
          25992.82104,
          3172.018,
          20277.80751,
          42112.2356,
          2156.7518,
          3906.127,
          1704.5681,
          16297.846,
          21978.6769,
          38746.3551,
          9249.4952,
          6746.7425,
          24873.3849,
          12265.5069,
          4349.462,
          12646.207,
          19442.3535,
          20177.67113,
          4151.0287,
          11944.59435,
          7749.1564,
          8444.474,
          1737.376,
          42124.5153,
          8124.4084,
          34838.873,
          9722.7695,
          8835.26495,
          10435.06525,
          7421.19455,
          4667.60765,
          4894.7533,
          24671.66334,
          35491.64,
          11566.30055,
          2866.091,
          6600.20595,
          3561.8889,
          42760.5022,
          47928.03,
          9144.565,
          48517.56315,
          24393.6224,
          13429.0354,
          11658.37915,
          19144.57652,
          13822.803,
          12142.5786,
          13937.6665,
          41919.097,
          8232.6388,
          18955.22017,
          13352.0998,
          13217.0945,
          13981.85035,
          10977.2063,
          6184.2994,
          4889.9995,
          8334.45755,
          5478.0368,
          1635.73365,
          11830.6072,
          8932.084,
          3554.203,
          12404.8791,
          14133.03775,
          24603.04837,
          8944.1151,
          9620.3307,
          1837.2819,
          1607.5101,
          10043.249,
          4751.07,
          13844.506,
          2597.779,
          3180.5101,
          9778.3472,
          13430.265,
          8017.06115,
          8116.26885,
          3481.868,
          13415.0381,
          12029.2867,
          7639.41745,
          36085.219,
          1391.5287,
          18033.9679,
          21659.9301,
          38126.2465,
          16455.70785,
          27000.98473,
          15006.57945,
          42303.69215,
          20781.48892,
          5846.9176,
          8302.53565,
          1261.859,
          11856.4115,
          30284.64294,
          3176.8159,
          4618.0799,
          10736.87075,
          2138.0707,
          8964.06055,
          9290.1395,
          9411.005,
          7526.70645,
          8522.003,
          16586.49771,
          14988.432,
          1631.6683,
          9264.797,
          8083.9198,
          14692.66935,
          10269.46,
          3260.199,
          11396.9002,
          4185.0979,
          8539.671,
          6652.5288,
          4074.4537,
          1621.3402,
          19594.80965,
          14455.64405,
          5080.096,
          2134.9015,
          7345.7266,
          9140.951,
          18608.262,
          14418.2804,
          28950.4692,
          46889.2612,
          46599.1084,
          39125.33225,
          2727.3951,
          8968.33,
          9788.8659,
          6555.07035,
          7323.734819,
          3167.45585,
          18804.7524,
          23082.95533,
          4906.40965,
          5969.723,
          12638.195,
          4243.59005,
          13919.8229,
          2254.7967,
          5926.846,
          12592.5345,
          2897.3235,
          4738.2682,
          37079.372,
          1149.3959,
          28287.89766,
          26109.32905,
          7345.084,
          12730.9996,
          11454.0215,
          5910.944,
          4762.329,
          7512.267,
          4032.2407,
          1969.614,
          1769.53165,
          4686.3887,
          21797.0004,
          11881.9696,
          11840.77505,
          10601.412,
          7682.67,
          10381.4787,
          22144.032,
          15230.32405,
          11165.41765,
          1632.03625,
          19521.9682,
          13224.693,
          12643.3778,
          23288.9284,
          2201.0971,
          2497.0383,
          2203.47185,
          1744.465,
          20878.78443,
          25382.297,
          28868.6639,
          35147.52848,
          2534.39375,
          1534.3045,
          1824.2854,
          15555.18875,
          9304.7019,
          1622.1885,
          9880.068,
          9563.029,
          4347.02335,
          12475.3513,
          1253.936,
          48885.13561,
          10461.9794,
          1748.774,
          24513.09126,
          2196.4732,
          12574.049,
          17942.106,
          1967.0227,
          4931.647,
          8027.968,
          8211.1002,
          13470.86,
          36197.699,
          6837.3687,
          22218.1149,
          32548.3405,
          5974.3847,
          6796.86325,
          2643.2685,
          3077.0955,
          3044.2133,
          11455.28,
          11763.0009,
          2498.4144,
          9361.3268,
          1256.299,
          21082.16,
          11362.755,
          27724.28875,
          8413.46305,
          5240.765,
          3857.75925,
          25656.57526,
          3994.1778,
          9866.30485,
          5397.6167,
          38245.59327,
          11482.63485,
          24059.68019,
          9861.025,
          8342.90875,
          1708.0014,
          48675.5177,
          14043.4767,
          12925.886,
          19214.70553,
          13831.1152,
          6067.12675,
          5972.378,
          8825.086,
          8233.0975,
          27346.04207,
          6196.448,
          3056.3881,
          13887.204,
          63770.42801,
          10231.4999,
          23807.2406,
          3268.84665,
          11538.421,
          3213.62205,
          45863.205,
          13390.559,
          3972.9247,
          12957.118,
          11187.6567,
          17878.90068,
          3847.674,
          8334.5896,
          3935.1799,
          39983.42595,
          1646.4297,
          9193.8385,
          10923.9332,
          2494.022,
          9058.7303,
          2801.2588,
          2128.43105,
          6373.55735,
          7256.7231,
          11552.904,
          45702.02235,
          3761.292,
          2219.4451,
          4753.6368,
          31620.00106,
          13224.05705,
          12222.8983,
          1664.9996,
          58571.07448,
          9724.53,
          3206.49135,
          12913.9924,
          1639.5631,
          6356.2707,
          17626.23951,
          1242.816,
          4779.6023,
          3861.20965,
          43943.8761,
          13635.6379,
          5976.8311,
          11842.442,
          8428.0693,
          2566.4707,
          15359.1045,
          5709.1644,
          8823.98575,
          7640.3092,
          5594.8455,
          7441.501,
          33471.97189,
          1633.0444,
          9174.13565,
          11070.535,
          16085.1275,
          17468.9839,
          9283.562,
          3558.62025,
          25678.77845,
          4435.0942,
          39241.442,
          8547.6913,
          6571.544,
          2207.69745,
          6753.038,
          1880.07,
          42969.8527,
          11658.11505,
          23306.547,
          34439.8559,
          10713.644,
          3659.346,
          40182.246,
          9182.17,
          34617.84065,
          12129.61415,
          3736.4647,
          6748.5912,
          11326.71487,
          11365.952,
          42983.4585,
          10085.846,
          1977.815,
          3366.6697,
          7173.35995,
          9391.346,
          14410.9321,
          2709.1119,
          24915.04626,
          20149.3229,
          12949.1554,
          6666.243,
          32787.45859,
          13143.86485,
          4466.6214,
          18806.14547,
          10141.1362,
          6123.5688,
          8252.2843,
          1712.227,
          12430.95335,
          9800.8882,
          10579.711,
          8280.6227,
          8527.532,
          12244.531,
          24667.419,
          3410.324,
          4058.71245,
          26392.26029,
          14394.39815,
          6435.6237,
          22192.43711,
          5148.5526,
          1136.3994,
          27037.9141,
          42560.4304,
          8703.456,
          40003.33225,
          45710.20785,
          6500.2359,
          4837.5823,
          3943.5954,
          4399.731,
          6185.3208,
          46200.9851,
          7222.78625,
          12485.8009,
          46130.5265,
          12363.547,
          10156.7832,
          2585.269,
          1242.26,
          40103.89,
          9863.4718,
          4766.022,
          11244.3769,
          7729.64575,
          5438.7491,
          26236.57997,
          34806.4677,
          2104.1134,
          8068.185,
          2362.22905,
          2352.96845,
          3577.999,
          3201.24515,
          29186.48236,
          40273.6455,
          10976.24575,
          3500.6123,
          2020.5523,
          9541.69555,
          9504.3103,
          5385.3379,
          8930.93455,
          5375.038,
          44400.4064,
          10264.4421,
          6113.23105,
          5469.0066,
          1727.54,
          10107.2206,
          8310.83915,
          1984.4533,
          2457.502,
          12146.971,
          9566.9909,
          13112.6048,
          10848.1343,
          12231.6136,
          9875.6804,
          11264.541,
          12979.358,
          1263.249,
          10106.13425,
          40932.4295,
          6664.68595,
          16657.71745,
          2217.6012,
          6781.3542,
          19361.9988,
          10065.413,
          4234.927,
          9447.25035,
          14007.222,
          9583.8933,
          40419.0191,
          3484.331,
          36189.1017,
          44585.45587,
          8604.48365,
          18246.4955,
          43254.41795,
          3757.8448,
          8827.2099,
          9910.35985,
          11737.84884,
          1627.28245,
          8556.907,
          3062.50825,
          19539.243,
          1906.35825,
          14210.53595,
          11833.7823,
          17128.42608,
          5031.26955,
          7985.815,
          23065.4207,
          5428.7277,
          36307.7983,
          3925.7582,
          2416.955,
          19040.876,
          3070.8087,
          9095.06825,
          11842.62375,
          8062.764,
          7050.642,
          14319.031,
          6933.24225,
          27941.28758,
          11150.78,
          12797.20962,
          17748.5062,
          7261.741,
          10560.4917,
          6986.697,
          7448.40395,
          5934.3798,
          9869.8102,
          18259.216,
          1146.7966,
          9386.1613,
          24520.264,
          4350.5144,
          6414.178,
          12741.16745,
          1917.3184,
          5209.57885,
          13457.9608,
          5662.225,
          1252.407,
          2731.9122,
          21195.818,
          7209.4918,
          18310.742,
          4266.1658,
          4719.52405,
          11848.141,
          17904.52705,
          7046.7222,
          14313.8463,
          2103.08,
          38792.6856,
          1815.8759,
          7731.85785,
          28476.73499,
          2136.88225,
          1131.5066,
          3309.7926,
          9414.92,
          6360.9936,
          11013.7119,
          4428.88785,
          5584.3057,
          1877.9294,
          2842.76075,
          3597.596,
          23401.30575,
          55135.40209,
          7445.918,
          2680.9493,
          1621.8827,
          8219.2039,
          12523.6048,
          16069.08475,
          43813.8661,
          20773.62775,
          39597.4072,
          6117.4945,
          13393.756,
          5266.3656,
          4719.73655,
          11743.9341,
          5377.4578,
          7160.3303,
          4402.233,
          11657.7189,
          6402.29135,
          12622.1795,
          1526.312,
          12323.936,
          36021.0112,
          27533.9129,
          10072.05505,
          45008.9555,
          9872.701,
          2438.0552,
          2974.126,
          10601.63225,
          37270.1512,
          14119.62,
          42111.6647,
          11729.6795,
          24106.91255,
          1875.344,
          40974.1649,
          15817.9857,
          18218.16139,
          10965.446,
          46113.511,
          7151.092,
          12269.68865,
          5458.04645,
          8782.469,
          6600.361,
          1141.4451,
          11576.13,
          13129.60345,
          4391.652,
          8457.818,
          3392.3652,
          5966.8874,
          6849.026,
          8891.1395,
          2690.1138,
          26140.3603,
          6653.7886,
          6282.235,
          6311.952,
          3443.064,
          2789.0574,
          2585.85065,
          46255.1125,
          4877.98105,
          19719.6947,
          27218.43725,
          5272.1758,
          1682.597,
          11945.1327,
          29330.98315,
          7243.8136,
          10422.91665,
          44202.6536,
          13555.0049,
          13063.883,
          19798.05455,
          2221.56445,
          1634.5734,
          2117.33885,
          8688.85885,
          48673.5588,
          4661.28635,
          8125.7845,
          12644.589,
          4564.19145,
          4846.92015,
          7633.7206,
          15170.069,
          17496.306,
          2639.0429,
          33732.6867,
          14382.70905,
          7626.993,
          5257.50795,
          2473.3341,
          21774.32215,
          35069.37452,
          13041.921,
          5245.2269,
          13451.122,
          13462.52,
          5488.262,
          4320.41085,
          6250.435,
          25333.33284,
          2913.569,
          12032.326,
          13470.8044,
          6289.7549,
          2927.0647,
          6238.298,
          10096.97,
          7348.142,
          4673.3922,
          12233.828,
          32108.66282,
          8965.79575,
          2304.0022,
          9487.6442,
          1121.8739,
          9549.5651,
          2217.46915,
          1628.4709,
          12982.8747,
          11674.13,
          7160.094,
          39047.285,
          6358.77645,
          19933.458,
          11534.87265,
          47462.894,
          4527.18295,
          38998.546,
          20009.63365,
          3875.7341,
          41999.52,
          12609.88702,
          41034.2214,
          28468.91901,
          2730.10785,
          3353.284,
          14474.675,
          9500.57305,
          26467.09737,
          4746.344,
          23967.38305,
          7518.02535,
          3279.86855,
          8596.8278,
          10702.6424,
          4992.3764,
          2527.81865,
          1759.338,
          2322.6218,
          16138.76205,
          7804.1605,
          2902.9065,
          9704.66805,
          4889.0368,
          25517.11363,
          4500.33925,
          19199.944,
          16796.41194,
          4915.05985,
          7624.63,
          8410.04685,
          28340.18885,
          4518.82625,
          14571.8908,
          3378.91,
          7144.86265,
          10118.424,
          5484.4673,
          16420.49455,
          7986.47525,
          7418.522,
          13887.9685,
          6551.7501,
          5267.81815,
          17361.7661,
          34472.841,
          1972.95,
          21232.18226,
          8627.5411,
          4433.3877,
          4438.2634,
          24915.22085,
          23241.47453,
          9957.7216,
          8269.044,
          18767.7377,
          36580.28216,
          8765.249,
          5383.536,
          12124.9924,
          2709.24395,
          3987.926,
          12495.29085,
          26018.95052,
          8798.593,
          35595.5898,
          42211.1382,
          1711.0268,
          8569.8618,
          2020.177,
          16450.8947,
          21595.38229,
          9850.432,
          6877.9801,
          21677.28345,
          44423.803,
          4137.5227,
          13747.87235,
          12950.0712,
          12094.478,
          37484.4493,
          39725.51805,
          2250.8352,
          22493.65964,
          20234.85475,
          1704.70015,
          33475.81715,
          3161.454,
          11394.06555,
          21880.82,
          7325.0482,
          44501.3982,
          3594.17085,
          39727.614,
          8023.13545,
          14394.5579,
          9288.0267,
          25309.489,
          3353.4703,
          10594.50155,
          8277.523,
          17929.30337,
          2480.9791,
          4462.7218,
          1981.5819,
          11554.2236,
          48970.2476,
          6548.19505,
          5708.867,
          7045.499,
          8978.1851,
          5757.41345,
          14349.8544,
          10928.849,
          39871.7043,
          13974.45555,
          1909.52745,
          12096.6512,
          13204.28565,
          4562.8421,
          8551.347,
          2102.2647,
          34672.1472,
          15161.5344,
          11884.04858,
          4454.40265,
          5855.9025,
          4076.497,
          15019.76005,
          19023.26,
          10796.35025,
          11353.2276,
          9748.9106,
          10577.087,
          41676.0811,
          11286.5387,
          3591.48,
          33907.548,
          11299.343,
          4561.1885,
          44641.1974,
          1674.6323,
          23045.56616,
          3227.1211,
          16776.30405,
          11253.421,
          3471.4096,
          11363.2832,
          20420.60465,
          10338.9316,
          8988.15875,
          10493.9458,
          2904.088,
          8605.3615,
          11512.405,
          41949.2441,
          24180.9335,
          5312.16985,
          2396.0959,
          10807.4863,
          9222.4026,
          36124.5737,
          38282.7495,
          5693.4305,
          34166.273,
          8347.1643,
          46661.4424,
          18903.49141,
          40904.1995,
          14254.6082,
          10214.636,
          5836.5204,
          14358.36437,
          1728.897,
          8582.3023,
          3693.428,
          20709.02034,
          9991.03765,
          19673.33573,
          11085.5868,
          7623.518,
          3176.2877,
          3704.3545,
          36898.73308,
          9048.0273,
          7954.517,
          27117.99378,
          6338.0756,
          9630.397,
          11289.10925,
          52590.82939,
          2261.5688,
          10791.96,
          5979.731,
          2203.73595,
          12235.8392,
          40941.2854,
          5630.45785,
          11015.1747,
          7228.21565,
          39722.7462,
          14426.07385,
          2459.7201,
          3989.841,
          7727.2532,
          5124.1887,
          18963.17192,
          2200.83085,
          7153.5539,
          5227.98875,
          10982.5013,
          4529.477,
          4670.64,
          6112.35295,
          17178.6824,
          22478.6,
          11093.6229,
          6457.8434,
          4433.9159,
          2154.361,
          23887.6627,
          6496.886,
          2899.48935,
          19350.3689,
          7650.77375,
          2850.68375,
          2632.992,
          9447.3824,
          18328.2381,
          8603.8234,
          37465.34375,
          13844.7972,
          21771.3423,
          13126.67745,
          5327.40025,
          13725.47184,
          13019.16105,
          8671.19125,
          4134.08245,
          18838.70366,
          33307.5508,
          5699.8375,
          6393.60345,
          4934.705,
          6198.7518,
          8733.22925,
          2055.3249,
          9964.06,
          18223.4512,
          5116.5004,
          36910.60803,
          38415.474,
          20296.86345,
          12347.172,
          5373.36425,
          23563.01618,
          1702.4553,
          10806.839,
          3956.07145,
          12890.05765,
          5415.6612,
          4058.1161,
          41661.602,
          7537.1639,
          4718.20355,
          6593.5083,
          8442.667,
          26125.67477,
          6858.4796,
          4795.6568,
          6640.54485,
          7162.0122,
          10594.2257,
          11938.25595,
          60021.39897,
          20167.33603,
          12479.70895,
          11345.519,
          8515.7587,
          2699.56835,
          14449.8544,
          12224.35085,
          6985.50695,
          3238.4357,
          47269.854,
          49577.6624,
          4296.2712,
          3171.6149,
          1135.9407,
          5615.369,
          9101.798,
          6059.173,
          1633.9618,
          37607.5277,
          18648.4217,
          1241.565,
          16232.847,
          15828.82173,
          4415.1588,
          6474.013,
          11436.73815,
          11305.93455,
          30063.58055,
          10197.7722,
          4544.2348,
          3277.161,
          6770.1925,
          7337.748,
          10370.91255,
          26926.5144,
          10704.47,
          34254.05335,
          1880.487,
          8615.3,
          3292.52985,
          3021.80915,
          14478.33015,
          4747.0529,
          17043.3414,
          10959.33,
          2741.948,
          4357.04365,
          22462.04375,
          4189.1131,
          8283.6807,
          24535.69855,
          14283.4594,
          1720.3537,
          47403.88,
          8534.6718,
          3732.6251,
          5472.449,
          38344.566,
          7147.4728,
          7133.9025,
          34828.654,
          1515.3449,
          9301.89355,
          11931.12525,
          1964.78,
          1708.92575,
          4340.4409,
          5261.46945,
          2710.82855,
          62592.87309,
          46718.16325,
          3208.787,
          37829.7242,
          21259.37795,
          2464.6188,
          16115.3045,
          21472.4788,
          33900.653,
          6875.961,
          6940.90985,
          4571.41305,
          4536.259,
          36397.576,
          18765.87545,
          11272.33139,
          1731.677,
          1163.4627,
          19496.71917,
          7201.70085,
          5425.02335,
          28101.33305,
          12981.3457,
          43896.3763,
          4239.89265,
          13143.33665,
          7050.0213,
          9377.9047,
          22395.74424,
          10325.206,
          12629.1656,
          10795.93733,
          11411.685,
          10600.5483,
          2205.9808,
          1629.8335,
          2007.945,
          29141.3603
         ]
        }
       ],
       "layout": {
        "height": 600,
        "template": {
         "data": {
          "bar": [
           {
            "error_x": {
             "color": "#2a3f5f"
            },
            "error_y": {
             "color": "#2a3f5f"
            },
            "marker": {
             "line": {
              "color": "white",
              "width": 0.5
             },
             "pattern": {
              "fillmode": "overlay",
              "size": 10,
              "solidity": 0.2
             }
            },
            "type": "bar"
           }
          ],
          "barpolar": [
           {
            "marker": {
             "line": {
              "color": "white",
              "width": 0.5
             },
             "pattern": {
              "fillmode": "overlay",
              "size": 10,
              "solidity": 0.2
             }
            },
            "type": "barpolar"
           }
          ],
          "carpet": [
           {
            "aaxis": {
             "endlinecolor": "#2a3f5f",
             "gridcolor": "#C8D4E3",
             "linecolor": "#C8D4E3",
             "minorgridcolor": "#C8D4E3",
             "startlinecolor": "#2a3f5f"
            },
            "baxis": {
             "endlinecolor": "#2a3f5f",
             "gridcolor": "#C8D4E3",
             "linecolor": "#C8D4E3",
             "minorgridcolor": "#C8D4E3",
             "startlinecolor": "#2a3f5f"
            },
            "type": "carpet"
           }
          ],
          "choropleth": [
           {
            "colorbar": {
             "outlinewidth": 0,
             "ticks": ""
            },
            "type": "choropleth"
           }
          ],
          "contour": [
           {
            "colorbar": {
             "outlinewidth": 0,
             "ticks": ""
            },
            "colorscale": [
             [
              0,
              "#0d0887"
             ],
             [
              0.1111111111111111,
              "#46039f"
             ],
             [
              0.2222222222222222,
              "#7201a8"
             ],
             [
              0.3333333333333333,
              "#9c179e"
             ],
             [
              0.4444444444444444,
              "#bd3786"
             ],
             [
              0.5555555555555556,
              "#d8576b"
             ],
             [
              0.6666666666666666,
              "#ed7953"
             ],
             [
              0.7777777777777778,
              "#fb9f3a"
             ],
             [
              0.8888888888888888,
              "#fdca26"
             ],
             [
              1,
              "#f0f921"
             ]
            ],
            "type": "contour"
           }
          ],
          "contourcarpet": [
           {
            "colorbar": {
             "outlinewidth": 0,
             "ticks": ""
            },
            "type": "contourcarpet"
           }
          ],
          "heatmap": [
           {
            "colorbar": {
             "outlinewidth": 0,
             "ticks": ""
            },
            "colorscale": [
             [
              0,
              "#0d0887"
             ],
             [
              0.1111111111111111,
              "#46039f"
             ],
             [
              0.2222222222222222,
              "#7201a8"
             ],
             [
              0.3333333333333333,
              "#9c179e"
             ],
             [
              0.4444444444444444,
              "#bd3786"
             ],
             [
              0.5555555555555556,
              "#d8576b"
             ],
             [
              0.6666666666666666,
              "#ed7953"
             ],
             [
              0.7777777777777778,
              "#fb9f3a"
             ],
             [
              0.8888888888888888,
              "#fdca26"
             ],
             [
              1,
              "#f0f921"
             ]
            ],
            "type": "heatmap"
           }
          ],
          "heatmapgl": [
           {
            "colorbar": {
             "outlinewidth": 0,
             "ticks": ""
            },
            "colorscale": [
             [
              0,
              "#0d0887"
             ],
             [
              0.1111111111111111,
              "#46039f"
             ],
             [
              0.2222222222222222,
              "#7201a8"
             ],
             [
              0.3333333333333333,
              "#9c179e"
             ],
             [
              0.4444444444444444,
              "#bd3786"
             ],
             [
              0.5555555555555556,
              "#d8576b"
             ],
             [
              0.6666666666666666,
              "#ed7953"
             ],
             [
              0.7777777777777778,
              "#fb9f3a"
             ],
             [
              0.8888888888888888,
              "#fdca26"
             ],
             [
              1,
              "#f0f921"
             ]
            ],
            "type": "heatmapgl"
           }
          ],
          "histogram": [
           {
            "marker": {
             "pattern": {
              "fillmode": "overlay",
              "size": 10,
              "solidity": 0.2
             }
            },
            "type": "histogram"
           }
          ],
          "histogram2d": [
           {
            "colorbar": {
             "outlinewidth": 0,
             "ticks": ""
            },
            "colorscale": [
             [
              0,
              "#0d0887"
             ],
             [
              0.1111111111111111,
              "#46039f"
             ],
             [
              0.2222222222222222,
              "#7201a8"
             ],
             [
              0.3333333333333333,
              "#9c179e"
             ],
             [
              0.4444444444444444,
              "#bd3786"
             ],
             [
              0.5555555555555556,
              "#d8576b"
             ],
             [
              0.6666666666666666,
              "#ed7953"
             ],
             [
              0.7777777777777778,
              "#fb9f3a"
             ],
             [
              0.8888888888888888,
              "#fdca26"
             ],
             [
              1,
              "#f0f921"
             ]
            ],
            "type": "histogram2d"
           }
          ],
          "histogram2dcontour": [
           {
            "colorbar": {
             "outlinewidth": 0,
             "ticks": ""
            },
            "colorscale": [
             [
              0,
              "#0d0887"
             ],
             [
              0.1111111111111111,
              "#46039f"
             ],
             [
              0.2222222222222222,
              "#7201a8"
             ],
             [
              0.3333333333333333,
              "#9c179e"
             ],
             [
              0.4444444444444444,
              "#bd3786"
             ],
             [
              0.5555555555555556,
              "#d8576b"
             ],
             [
              0.6666666666666666,
              "#ed7953"
             ],
             [
              0.7777777777777778,
              "#fb9f3a"
             ],
             [
              0.8888888888888888,
              "#fdca26"
             ],
             [
              1,
              "#f0f921"
             ]
            ],
            "type": "histogram2dcontour"
           }
          ],
          "mesh3d": [
           {
            "colorbar": {
             "outlinewidth": 0,
             "ticks": ""
            },
            "type": "mesh3d"
           }
          ],
          "parcoords": [
           {
            "line": {
             "colorbar": {
              "outlinewidth": 0,
              "ticks": ""
             }
            },
            "type": "parcoords"
           }
          ],
          "pie": [
           {
            "automargin": true,
            "type": "pie"
           }
          ],
          "scatter": [
           {
            "fillpattern": {
             "fillmode": "overlay",
             "size": 10,
             "solidity": 0.2
            },
            "type": "scatter"
           }
          ],
          "scatter3d": [
           {
            "line": {
             "colorbar": {
              "outlinewidth": 0,
              "ticks": ""
             }
            },
            "marker": {
             "colorbar": {
              "outlinewidth": 0,
              "ticks": ""
             }
            },
            "type": "scatter3d"
           }
          ],
          "scattercarpet": [
           {
            "marker": {
             "colorbar": {
              "outlinewidth": 0,
              "ticks": ""
             }
            },
            "type": "scattercarpet"
           }
          ],
          "scattergeo": [
           {
            "marker": {
             "colorbar": {
              "outlinewidth": 0,
              "ticks": ""
             }
            },
            "type": "scattergeo"
           }
          ],
          "scattergl": [
           {
            "marker": {
             "colorbar": {
              "outlinewidth": 0,
              "ticks": ""
             }
            },
            "type": "scattergl"
           }
          ],
          "scattermapbox": [
           {
            "marker": {
             "colorbar": {
              "outlinewidth": 0,
              "ticks": ""
             }
            },
            "type": "scattermapbox"
           }
          ],
          "scatterpolar": [
           {
            "marker": {
             "colorbar": {
              "outlinewidth": 0,
              "ticks": ""
             }
            },
            "type": "scatterpolar"
           }
          ],
          "scatterpolargl": [
           {
            "marker": {
             "colorbar": {
              "outlinewidth": 0,
              "ticks": ""
             }
            },
            "type": "scatterpolargl"
           }
          ],
          "scatterternary": [
           {
            "marker": {
             "colorbar": {
              "outlinewidth": 0,
              "ticks": ""
             }
            },
            "type": "scatterternary"
           }
          ],
          "surface": [
           {
            "colorbar": {
             "outlinewidth": 0,
             "ticks": ""
            },
            "colorscale": [
             [
              0,
              "#0d0887"
             ],
             [
              0.1111111111111111,
              "#46039f"
             ],
             [
              0.2222222222222222,
              "#7201a8"
             ],
             [
              0.3333333333333333,
              "#9c179e"
             ],
             [
              0.4444444444444444,
              "#bd3786"
             ],
             [
              0.5555555555555556,
              "#d8576b"
             ],
             [
              0.6666666666666666,
              "#ed7953"
             ],
             [
              0.7777777777777778,
              "#fb9f3a"
             ],
             [
              0.8888888888888888,
              "#fdca26"
             ],
             [
              1,
              "#f0f921"
             ]
            ],
            "type": "surface"
           }
          ],
          "table": [
           {
            "cells": {
             "fill": {
              "color": "#EBF0F8"
             },
             "line": {
              "color": "white"
             }
            },
            "header": {
             "fill": {
              "color": "#C8D4E3"
             },
             "line": {
              "color": "white"
             }
            },
            "type": "table"
           }
          ]
         },
         "layout": {
          "annotationdefaults": {
           "arrowcolor": "#2a3f5f",
           "arrowhead": 0,
           "arrowwidth": 1
          },
          "autotypenumbers": "strict",
          "coloraxis": {
           "colorbar": {
            "outlinewidth": 0,
            "ticks": ""
           }
          },
          "colorscale": {
           "diverging": [
            [
             0,
             "#8e0152"
            ],
            [
             0.1,
             "#c51b7d"
            ],
            [
             0.2,
             "#de77ae"
            ],
            [
             0.3,
             "#f1b6da"
            ],
            [
             0.4,
             "#fde0ef"
            ],
            [
             0.5,
             "#f7f7f7"
            ],
            [
             0.6,
             "#e6f5d0"
            ],
            [
             0.7,
             "#b8e186"
            ],
            [
             0.8,
             "#7fbc41"
            ],
            [
             0.9,
             "#4d9221"
            ],
            [
             1,
             "#276419"
            ]
           ],
           "sequential": [
            [
             0,
             "#0d0887"
            ],
            [
             0.1111111111111111,
             "#46039f"
            ],
            [
             0.2222222222222222,
             "#7201a8"
            ],
            [
             0.3333333333333333,
             "#9c179e"
            ],
            [
             0.4444444444444444,
             "#bd3786"
            ],
            [
             0.5555555555555556,
             "#d8576b"
            ],
            [
             0.6666666666666666,
             "#ed7953"
            ],
            [
             0.7777777777777778,
             "#fb9f3a"
            ],
            [
             0.8888888888888888,
             "#fdca26"
            ],
            [
             1,
             "#f0f921"
            ]
           ],
           "sequentialminus": [
            [
             0,
             "#0d0887"
            ],
            [
             0.1111111111111111,
             "#46039f"
            ],
            [
             0.2222222222222222,
             "#7201a8"
            ],
            [
             0.3333333333333333,
             "#9c179e"
            ],
            [
             0.4444444444444444,
             "#bd3786"
            ],
            [
             0.5555555555555556,
             "#d8576b"
            ],
            [
             0.6666666666666666,
             "#ed7953"
            ],
            [
             0.7777777777777778,
             "#fb9f3a"
            ],
            [
             0.8888888888888888,
             "#fdca26"
            ],
            [
             1,
             "#f0f921"
            ]
           ]
          },
          "colorway": [
           "#636efa",
           "#EF553B",
           "#00cc96",
           "#ab63fa",
           "#FFA15A",
           "#19d3f3",
           "#FF6692",
           "#B6E880",
           "#FF97FF",
           "#FECB52"
          ],
          "font": {
           "color": "#2a3f5f"
          },
          "geo": {
           "bgcolor": "white",
           "lakecolor": "white",
           "landcolor": "white",
           "showlakes": true,
           "showland": true,
           "subunitcolor": "#C8D4E3"
          },
          "hoverlabel": {
           "align": "left"
          },
          "hovermode": "closest",
          "mapbox": {
           "style": "light"
          },
          "paper_bgcolor": "white",
          "plot_bgcolor": "white",
          "polar": {
           "angularaxis": {
            "gridcolor": "#EBF0F8",
            "linecolor": "#EBF0F8",
            "ticks": ""
           },
           "bgcolor": "white",
           "radialaxis": {
            "gridcolor": "#EBF0F8",
            "linecolor": "#EBF0F8",
            "ticks": ""
           }
          },
          "scene": {
           "xaxis": {
            "backgroundcolor": "white",
            "gridcolor": "#DFE8F3",
            "gridwidth": 2,
            "linecolor": "#EBF0F8",
            "showbackground": true,
            "ticks": "",
            "zerolinecolor": "#EBF0F8"
           },
           "yaxis": {
            "backgroundcolor": "white",
            "gridcolor": "#DFE8F3",
            "gridwidth": 2,
            "linecolor": "#EBF0F8",
            "showbackground": true,
            "ticks": "",
            "zerolinecolor": "#EBF0F8"
           },
           "zaxis": {
            "backgroundcolor": "white",
            "gridcolor": "#DFE8F3",
            "gridwidth": 2,
            "linecolor": "#EBF0F8",
            "showbackground": true,
            "ticks": "",
            "zerolinecolor": "#EBF0F8"
           }
          },
          "shapedefaults": {
           "line": {
            "color": "#2a3f5f"
           }
          },
          "ternary": {
           "aaxis": {
            "gridcolor": "#DFE8F3",
            "linecolor": "#A2B1C6",
            "ticks": ""
           },
           "baxis": {
            "gridcolor": "#DFE8F3",
            "linecolor": "#A2B1C6",
            "ticks": ""
           },
           "bgcolor": "white",
           "caxis": {
            "gridcolor": "#DFE8F3",
            "linecolor": "#A2B1C6",
            "ticks": ""
           }
          },
          "title": {
           "x": 0.05
          },
          "xaxis": {
           "automargin": true,
           "gridcolor": "#EBF0F8",
           "linecolor": "#EBF0F8",
           "ticks": "",
           "title": {
            "standoff": 15
           },
           "zerolinecolor": "#EBF0F8",
           "zerolinewidth": 2
          },
          "yaxis": {
           "automargin": true,
           "gridcolor": "#EBF0F8",
           "linecolor": "#EBF0F8",
           "ticks": "",
           "title": {
            "standoff": 15
           },
           "zerolinecolor": "#EBF0F8",
           "zerolinewidth": 2
          }
         }
        },
        "title": {
         "text": "Relationship Between Age, Charges, and BMI"
        },
        "width": 1000,
        "xaxis": {
         "title": {
          "text": "Age"
         }
        },
        "yaxis": {
         "title": {
          "text": "Charges"
         }
        }
       }
      }
     },
     "metadata": {},
     "output_type": "display_data"
    }
   ],
   "source": [
    "# Create the scatter plot\n",
    "fig = go.Figure()\n",
    "\n",
    "# Add scatter trace\n",
    "fig.add_trace(\n",
    "    go.Scatter(\n",
    "        x=df['age'], \n",
    "        y=df['charges'], \n",
    "        mode='markers', \n",
    "        marker=dict(\n",
    "            size=10, \n",
    "            color=df['bmi'],\n",
    "            colorscale='Viridis',\n",
    "            showscale=True,  # Show color scale\n",
    "            colorbar=dict(title='BMI'),  # Colorbar title\n",
    "        ),\n",
    "        hovertemplate='<b>Age:</b> %{x}<br><b>Charges:</b> $%{y}<br><b>BMI:</b> %{marker.color}<extra></extra>'\n",
    "    )\n",
    ")\n",
    "\n",
    "# Update layout\n",
    "fig.update_layout(\n",
    "    title='Relationship Between Age, Charges, and BMI',\n",
    "    xaxis=dict(title='Age'),\n",
    "    yaxis=dict(title='Charges'),\n",
    "    template='plotly_white', \n",
    "    height=600,\n",
    "    width=1000\n",
    ")\n",
    "\n",
    "# Display the figure\n",
    "fig.show()"
   ]
  },
  {
   "cell_type": "code",
   "execution_count": 6,
   "metadata": {},
   "outputs": [
    {
     "data": {
      "application/vnd.plotly.v1+json": {
       "config": {
        "plotlyServerURL": "https://plot.ly"
       },
       "data": [
        {
         "colorbar": {
          "title": {
           "text": "Correlation"
          }
         },
         "colorscale": [
          [
           0,
           "#440154"
          ],
          [
           0.1111111111111111,
           "#482878"
          ],
          [
           0.2222222222222222,
           "#3e4989"
          ],
          [
           0.3333333333333333,
           "#31688e"
          ],
          [
           0.4444444444444444,
           "#26828e"
          ],
          [
           0.5555555555555556,
           "#1f9e89"
          ],
          [
           0.6666666666666666,
           "#35b779"
          ],
          [
           0.7777777777777778,
           "#6ece58"
          ],
          [
           0.8888888888888888,
           "#b5de2b"
          ],
          [
           1,
           "#fde725"
          ]
         ],
         "hovertemplate": "<b>%{x}</b> vs <b>%{y}</b>: %{z:.2f}<extra></extra>",
         "type": "heatmap",
         "x": [
          "age",
          "charges",
          "bmi"
         ],
         "y": [
          "age",
          "charges",
          "bmi"
         ],
         "z": [
          [
           1,
           0.299008193330648,
           0.10927188154853508
          ],
          [
           0.299008193330648,
           1,
           0.19834096883362903
          ],
          [
           0.10927188154853508,
           0.19834096883362903,
           1
          ]
         ],
         "zmax": 1,
         "zmin": -1
        }
       ],
       "layout": {
        "height": 600,
        "template": {
         "data": {
          "bar": [
           {
            "error_x": {
             "color": "#2a3f5f"
            },
            "error_y": {
             "color": "#2a3f5f"
            },
            "marker": {
             "line": {
              "color": "white",
              "width": 0.5
             },
             "pattern": {
              "fillmode": "overlay",
              "size": 10,
              "solidity": 0.2
             }
            },
            "type": "bar"
           }
          ],
          "barpolar": [
           {
            "marker": {
             "line": {
              "color": "white",
              "width": 0.5
             },
             "pattern": {
              "fillmode": "overlay",
              "size": 10,
              "solidity": 0.2
             }
            },
            "type": "barpolar"
           }
          ],
          "carpet": [
           {
            "aaxis": {
             "endlinecolor": "#2a3f5f",
             "gridcolor": "#C8D4E3",
             "linecolor": "#C8D4E3",
             "minorgridcolor": "#C8D4E3",
             "startlinecolor": "#2a3f5f"
            },
            "baxis": {
             "endlinecolor": "#2a3f5f",
             "gridcolor": "#C8D4E3",
             "linecolor": "#C8D4E3",
             "minorgridcolor": "#C8D4E3",
             "startlinecolor": "#2a3f5f"
            },
            "type": "carpet"
           }
          ],
          "choropleth": [
           {
            "colorbar": {
             "outlinewidth": 0,
             "ticks": ""
            },
            "type": "choropleth"
           }
          ],
          "contour": [
           {
            "colorbar": {
             "outlinewidth": 0,
             "ticks": ""
            },
            "colorscale": [
             [
              0,
              "#0d0887"
             ],
             [
              0.1111111111111111,
              "#46039f"
             ],
             [
              0.2222222222222222,
              "#7201a8"
             ],
             [
              0.3333333333333333,
              "#9c179e"
             ],
             [
              0.4444444444444444,
              "#bd3786"
             ],
             [
              0.5555555555555556,
              "#d8576b"
             ],
             [
              0.6666666666666666,
              "#ed7953"
             ],
             [
              0.7777777777777778,
              "#fb9f3a"
             ],
             [
              0.8888888888888888,
              "#fdca26"
             ],
             [
              1,
              "#f0f921"
             ]
            ],
            "type": "contour"
           }
          ],
          "contourcarpet": [
           {
            "colorbar": {
             "outlinewidth": 0,
             "ticks": ""
            },
            "type": "contourcarpet"
           }
          ],
          "heatmap": [
           {
            "colorbar": {
             "outlinewidth": 0,
             "ticks": ""
            },
            "colorscale": [
             [
              0,
              "#0d0887"
             ],
             [
              0.1111111111111111,
              "#46039f"
             ],
             [
              0.2222222222222222,
              "#7201a8"
             ],
             [
              0.3333333333333333,
              "#9c179e"
             ],
             [
              0.4444444444444444,
              "#bd3786"
             ],
             [
              0.5555555555555556,
              "#d8576b"
             ],
             [
              0.6666666666666666,
              "#ed7953"
             ],
             [
              0.7777777777777778,
              "#fb9f3a"
             ],
             [
              0.8888888888888888,
              "#fdca26"
             ],
             [
              1,
              "#f0f921"
             ]
            ],
            "type": "heatmap"
           }
          ],
          "heatmapgl": [
           {
            "colorbar": {
             "outlinewidth": 0,
             "ticks": ""
            },
            "colorscale": [
             [
              0,
              "#0d0887"
             ],
             [
              0.1111111111111111,
              "#46039f"
             ],
             [
              0.2222222222222222,
              "#7201a8"
             ],
             [
              0.3333333333333333,
              "#9c179e"
             ],
             [
              0.4444444444444444,
              "#bd3786"
             ],
             [
              0.5555555555555556,
              "#d8576b"
             ],
             [
              0.6666666666666666,
              "#ed7953"
             ],
             [
              0.7777777777777778,
              "#fb9f3a"
             ],
             [
              0.8888888888888888,
              "#fdca26"
             ],
             [
              1,
              "#f0f921"
             ]
            ],
            "type": "heatmapgl"
           }
          ],
          "histogram": [
           {
            "marker": {
             "pattern": {
              "fillmode": "overlay",
              "size": 10,
              "solidity": 0.2
             }
            },
            "type": "histogram"
           }
          ],
          "histogram2d": [
           {
            "colorbar": {
             "outlinewidth": 0,
             "ticks": ""
            },
            "colorscale": [
             [
              0,
              "#0d0887"
             ],
             [
              0.1111111111111111,
              "#46039f"
             ],
             [
              0.2222222222222222,
              "#7201a8"
             ],
             [
              0.3333333333333333,
              "#9c179e"
             ],
             [
              0.4444444444444444,
              "#bd3786"
             ],
             [
              0.5555555555555556,
              "#d8576b"
             ],
             [
              0.6666666666666666,
              "#ed7953"
             ],
             [
              0.7777777777777778,
              "#fb9f3a"
             ],
             [
              0.8888888888888888,
              "#fdca26"
             ],
             [
              1,
              "#f0f921"
             ]
            ],
            "type": "histogram2d"
           }
          ],
          "histogram2dcontour": [
           {
            "colorbar": {
             "outlinewidth": 0,
             "ticks": ""
            },
            "colorscale": [
             [
              0,
              "#0d0887"
             ],
             [
              0.1111111111111111,
              "#46039f"
             ],
             [
              0.2222222222222222,
              "#7201a8"
             ],
             [
              0.3333333333333333,
              "#9c179e"
             ],
             [
              0.4444444444444444,
              "#bd3786"
             ],
             [
              0.5555555555555556,
              "#d8576b"
             ],
             [
              0.6666666666666666,
              "#ed7953"
             ],
             [
              0.7777777777777778,
              "#fb9f3a"
             ],
             [
              0.8888888888888888,
              "#fdca26"
             ],
             [
              1,
              "#f0f921"
             ]
            ],
            "type": "histogram2dcontour"
           }
          ],
          "mesh3d": [
           {
            "colorbar": {
             "outlinewidth": 0,
             "ticks": ""
            },
            "type": "mesh3d"
           }
          ],
          "parcoords": [
           {
            "line": {
             "colorbar": {
              "outlinewidth": 0,
              "ticks": ""
             }
            },
            "type": "parcoords"
           }
          ],
          "pie": [
           {
            "automargin": true,
            "type": "pie"
           }
          ],
          "scatter": [
           {
            "fillpattern": {
             "fillmode": "overlay",
             "size": 10,
             "solidity": 0.2
            },
            "type": "scatter"
           }
          ],
          "scatter3d": [
           {
            "line": {
             "colorbar": {
              "outlinewidth": 0,
              "ticks": ""
             }
            },
            "marker": {
             "colorbar": {
              "outlinewidth": 0,
              "ticks": ""
             }
            },
            "type": "scatter3d"
           }
          ],
          "scattercarpet": [
           {
            "marker": {
             "colorbar": {
              "outlinewidth": 0,
              "ticks": ""
             }
            },
            "type": "scattercarpet"
           }
          ],
          "scattergeo": [
           {
            "marker": {
             "colorbar": {
              "outlinewidth": 0,
              "ticks": ""
             }
            },
            "type": "scattergeo"
           }
          ],
          "scattergl": [
           {
            "marker": {
             "colorbar": {
              "outlinewidth": 0,
              "ticks": ""
             }
            },
            "type": "scattergl"
           }
          ],
          "scattermapbox": [
           {
            "marker": {
             "colorbar": {
              "outlinewidth": 0,
              "ticks": ""
             }
            },
            "type": "scattermapbox"
           }
          ],
          "scatterpolar": [
           {
            "marker": {
             "colorbar": {
              "outlinewidth": 0,
              "ticks": ""
             }
            },
            "type": "scatterpolar"
           }
          ],
          "scatterpolargl": [
           {
            "marker": {
             "colorbar": {
              "outlinewidth": 0,
              "ticks": ""
             }
            },
            "type": "scatterpolargl"
           }
          ],
          "scatterternary": [
           {
            "marker": {
             "colorbar": {
              "outlinewidth": 0,
              "ticks": ""
             }
            },
            "type": "scatterternary"
           }
          ],
          "surface": [
           {
            "colorbar": {
             "outlinewidth": 0,
             "ticks": ""
            },
            "colorscale": [
             [
              0,
              "#0d0887"
             ],
             [
              0.1111111111111111,
              "#46039f"
             ],
             [
              0.2222222222222222,
              "#7201a8"
             ],
             [
              0.3333333333333333,
              "#9c179e"
             ],
             [
              0.4444444444444444,
              "#bd3786"
             ],
             [
              0.5555555555555556,
              "#d8576b"
             ],
             [
              0.6666666666666666,
              "#ed7953"
             ],
             [
              0.7777777777777778,
              "#fb9f3a"
             ],
             [
              0.8888888888888888,
              "#fdca26"
             ],
             [
              1,
              "#f0f921"
             ]
            ],
            "type": "surface"
           }
          ],
          "table": [
           {
            "cells": {
             "fill": {
              "color": "#EBF0F8"
             },
             "line": {
              "color": "white"
             }
            },
            "header": {
             "fill": {
              "color": "#C8D4E3"
             },
             "line": {
              "color": "white"
             }
            },
            "type": "table"
           }
          ]
         },
         "layout": {
          "annotationdefaults": {
           "arrowcolor": "#2a3f5f",
           "arrowhead": 0,
           "arrowwidth": 1
          },
          "autotypenumbers": "strict",
          "coloraxis": {
           "colorbar": {
            "outlinewidth": 0,
            "ticks": ""
           }
          },
          "colorscale": {
           "diverging": [
            [
             0,
             "#8e0152"
            ],
            [
             0.1,
             "#c51b7d"
            ],
            [
             0.2,
             "#de77ae"
            ],
            [
             0.3,
             "#f1b6da"
            ],
            [
             0.4,
             "#fde0ef"
            ],
            [
             0.5,
             "#f7f7f7"
            ],
            [
             0.6,
             "#e6f5d0"
            ],
            [
             0.7,
             "#b8e186"
            ],
            [
             0.8,
             "#7fbc41"
            ],
            [
             0.9,
             "#4d9221"
            ],
            [
             1,
             "#276419"
            ]
           ],
           "sequential": [
            [
             0,
             "#0d0887"
            ],
            [
             0.1111111111111111,
             "#46039f"
            ],
            [
             0.2222222222222222,
             "#7201a8"
            ],
            [
             0.3333333333333333,
             "#9c179e"
            ],
            [
             0.4444444444444444,
             "#bd3786"
            ],
            [
             0.5555555555555556,
             "#d8576b"
            ],
            [
             0.6666666666666666,
             "#ed7953"
            ],
            [
             0.7777777777777778,
             "#fb9f3a"
            ],
            [
             0.8888888888888888,
             "#fdca26"
            ],
            [
             1,
             "#f0f921"
            ]
           ],
           "sequentialminus": [
            [
             0,
             "#0d0887"
            ],
            [
             0.1111111111111111,
             "#46039f"
            ],
            [
             0.2222222222222222,
             "#7201a8"
            ],
            [
             0.3333333333333333,
             "#9c179e"
            ],
            [
             0.4444444444444444,
             "#bd3786"
            ],
            [
             0.5555555555555556,
             "#d8576b"
            ],
            [
             0.6666666666666666,
             "#ed7953"
            ],
            [
             0.7777777777777778,
             "#fb9f3a"
            ],
            [
             0.8888888888888888,
             "#fdca26"
            ],
            [
             1,
             "#f0f921"
            ]
           ]
          },
          "colorway": [
           "#636efa",
           "#EF553B",
           "#00cc96",
           "#ab63fa",
           "#FFA15A",
           "#19d3f3",
           "#FF6692",
           "#B6E880",
           "#FF97FF",
           "#FECB52"
          ],
          "font": {
           "color": "#2a3f5f"
          },
          "geo": {
           "bgcolor": "white",
           "lakecolor": "white",
           "landcolor": "white",
           "showlakes": true,
           "showland": true,
           "subunitcolor": "#C8D4E3"
          },
          "hoverlabel": {
           "align": "left"
          },
          "hovermode": "closest",
          "mapbox": {
           "style": "light"
          },
          "paper_bgcolor": "white",
          "plot_bgcolor": "white",
          "polar": {
           "angularaxis": {
            "gridcolor": "#EBF0F8",
            "linecolor": "#EBF0F8",
            "ticks": ""
           },
           "bgcolor": "white",
           "radialaxis": {
            "gridcolor": "#EBF0F8",
            "linecolor": "#EBF0F8",
            "ticks": ""
           }
          },
          "scene": {
           "xaxis": {
            "backgroundcolor": "white",
            "gridcolor": "#DFE8F3",
            "gridwidth": 2,
            "linecolor": "#EBF0F8",
            "showbackground": true,
            "ticks": "",
            "zerolinecolor": "#EBF0F8"
           },
           "yaxis": {
            "backgroundcolor": "white",
            "gridcolor": "#DFE8F3",
            "gridwidth": 2,
            "linecolor": "#EBF0F8",
            "showbackground": true,
            "ticks": "",
            "zerolinecolor": "#EBF0F8"
           },
           "zaxis": {
            "backgroundcolor": "white",
            "gridcolor": "#DFE8F3",
            "gridwidth": 2,
            "linecolor": "#EBF0F8",
            "showbackground": true,
            "ticks": "",
            "zerolinecolor": "#EBF0F8"
           }
          },
          "shapedefaults": {
           "line": {
            "color": "#2a3f5f"
           }
          },
          "ternary": {
           "aaxis": {
            "gridcolor": "#DFE8F3",
            "linecolor": "#A2B1C6",
            "ticks": ""
           },
           "baxis": {
            "gridcolor": "#DFE8F3",
            "linecolor": "#A2B1C6",
            "ticks": ""
           },
           "bgcolor": "white",
           "caxis": {
            "gridcolor": "#DFE8F3",
            "linecolor": "#A2B1C6",
            "ticks": ""
           }
          },
          "title": {
           "x": 0.05
          },
          "xaxis": {
           "automargin": true,
           "gridcolor": "#EBF0F8",
           "linecolor": "#EBF0F8",
           "ticks": "",
           "title": {
            "standoff": 15
           },
           "zerolinecolor": "#EBF0F8",
           "zerolinewidth": 2
          },
          "yaxis": {
           "automargin": true,
           "gridcolor": "#EBF0F8",
           "linecolor": "#EBF0F8",
           "ticks": "",
           "title": {
            "standoff": 15
           },
           "zerolinecolor": "#EBF0F8",
           "zerolinewidth": 2
          }
         }
        },
        "title": {
         "text": "Correlation Heatmap: Age, Charges, and BMI"
        },
        "width": 800,
        "xaxis": {
         "tickangle": -45,
         "title": {
          "text": "Features"
         }
        },
        "yaxis": {
         "title": {
          "text": "Features"
         }
        }
       }
      }
     },
     "metadata": {},
     "output_type": "display_data"
    }
   ],
   "source": [
    "# Calculate the correlation matrix\n",
    "correlation_matrix = df[['age', 'charges', 'bmi']].corr()\n",
    "\n",
    "# Create the heatmap\n",
    "fig = go.Figure(\n",
    "    data=go.Heatmap(\n",
    "        z=correlation_matrix.values,  # Correlation values\n",
    "        x=correlation_matrix.columns,  # Labels for x-axis\n",
    "        y=correlation_matrix.index,  # Labels for y-axis\n",
    "        colorscale='Viridis',  # Use Viridis colormap\n",
    "        colorbar=dict(title='Correlation'),  # Colorbar title\n",
    "        zmin=-1,  # Min correlation value\n",
    "        zmax=1,   # Max correlation value\n",
    "        hovertemplate='<b>%{x}</b> vs <b>%{y}</b>: %{z:.2f}<extra></extra>'\n",
    "    )\n",
    ")\n",
    "\n",
    "# Update layout\n",
    "fig.update_layout(\n",
    "    title='Correlation Heatmap: Age, Charges, and BMI',\n",
    "    xaxis=dict(title='Features', tickangle=-45),  # Rotate x-axis labels\n",
    "    yaxis=dict(title='Features'),\n",
    "    template='plotly_white',  # Clean background\n",
    "    height=600,\n",
    "    width=800,\n",
    ")\n",
    "\n",
    "# Display the figure\n",
    "fig.show()"
   ]
  },
  {
   "cell_type": "markdown",
   "metadata": {},
   "source": [
    "#### 4. Charges by Age Categories"
   ]
  },
  {
   "cell_type": "code",
   "execution_count": 7,
   "metadata": {},
   "outputs": [
    {
     "data": {
      "application/vnd.plotly.v1+json": {
       "config": {
        "plotlyServerURL": "https://plot.ly"
       },
       "data": [
        {
         "marker": {
          "color": "#29AF7F"
         },
         "name": "Mean",
         "type": "bar",
         "x": [
          "Young Adults",
          "Middle Aged Adults",
          "Senior"
         ],
         "xaxis": "x",
         "y": [
          9744.478281339721,
          14785.6930530292,
          18795.99381578704
         ],
         "yaxis": "y"
        },
        {
         "marker": {
          "color": "#541352"
         },
         "name": "Median",
         "type": "bar",
         "x": [
          "Young Adults",
          "Middle Aged Adults",
          "Senior"
         ],
         "xaxis": "x2",
         "y": [
          4252.167025,
          9565.00995,
          13429.6502
         ],
         "yaxis": "y2"
        }
       ],
       "layout": {
        "annotations": [
         {
          "font": {
           "size": 16
          },
          "showarrow": false,
          "text": "Average Charges by Age",
          "x": 0.225,
          "xanchor": "center",
          "xref": "paper",
          "y": 1,
          "yanchor": "bottom",
          "yref": "paper"
         },
         {
          "font": {
           "size": 16
          },
          "showarrow": false,
          "text": "Median Charges by Age",
          "x": 0.775,
          "xanchor": "center",
          "xref": "paper",
          "y": 1,
          "yanchor": "bottom",
          "yref": "paper"
         }
        ],
        "bargap": 0.15,
        "height": 500,
        "showlegend": true,
        "template": {
         "data": {
          "bar": [
           {
            "error_x": {
             "color": "#2a3f5f"
            },
            "error_y": {
             "color": "#2a3f5f"
            },
            "marker": {
             "line": {
              "color": "white",
              "width": 0.5
             },
             "pattern": {
              "fillmode": "overlay",
              "size": 10,
              "solidity": 0.2
             }
            },
            "type": "bar"
           }
          ],
          "barpolar": [
           {
            "marker": {
             "line": {
              "color": "white",
              "width": 0.5
             },
             "pattern": {
              "fillmode": "overlay",
              "size": 10,
              "solidity": 0.2
             }
            },
            "type": "barpolar"
           }
          ],
          "carpet": [
           {
            "aaxis": {
             "endlinecolor": "#2a3f5f",
             "gridcolor": "#C8D4E3",
             "linecolor": "#C8D4E3",
             "minorgridcolor": "#C8D4E3",
             "startlinecolor": "#2a3f5f"
            },
            "baxis": {
             "endlinecolor": "#2a3f5f",
             "gridcolor": "#C8D4E3",
             "linecolor": "#C8D4E3",
             "minorgridcolor": "#C8D4E3",
             "startlinecolor": "#2a3f5f"
            },
            "type": "carpet"
           }
          ],
          "choropleth": [
           {
            "colorbar": {
             "outlinewidth": 0,
             "ticks": ""
            },
            "type": "choropleth"
           }
          ],
          "contour": [
           {
            "colorbar": {
             "outlinewidth": 0,
             "ticks": ""
            },
            "colorscale": [
             [
              0,
              "#0d0887"
             ],
             [
              0.1111111111111111,
              "#46039f"
             ],
             [
              0.2222222222222222,
              "#7201a8"
             ],
             [
              0.3333333333333333,
              "#9c179e"
             ],
             [
              0.4444444444444444,
              "#bd3786"
             ],
             [
              0.5555555555555556,
              "#d8576b"
             ],
             [
              0.6666666666666666,
              "#ed7953"
             ],
             [
              0.7777777777777778,
              "#fb9f3a"
             ],
             [
              0.8888888888888888,
              "#fdca26"
             ],
             [
              1,
              "#f0f921"
             ]
            ],
            "type": "contour"
           }
          ],
          "contourcarpet": [
           {
            "colorbar": {
             "outlinewidth": 0,
             "ticks": ""
            },
            "type": "contourcarpet"
           }
          ],
          "heatmap": [
           {
            "colorbar": {
             "outlinewidth": 0,
             "ticks": ""
            },
            "colorscale": [
             [
              0,
              "#0d0887"
             ],
             [
              0.1111111111111111,
              "#46039f"
             ],
             [
              0.2222222222222222,
              "#7201a8"
             ],
             [
              0.3333333333333333,
              "#9c179e"
             ],
             [
              0.4444444444444444,
              "#bd3786"
             ],
             [
              0.5555555555555556,
              "#d8576b"
             ],
             [
              0.6666666666666666,
              "#ed7953"
             ],
             [
              0.7777777777777778,
              "#fb9f3a"
             ],
             [
              0.8888888888888888,
              "#fdca26"
             ],
             [
              1,
              "#f0f921"
             ]
            ],
            "type": "heatmap"
           }
          ],
          "heatmapgl": [
           {
            "colorbar": {
             "outlinewidth": 0,
             "ticks": ""
            },
            "colorscale": [
             [
              0,
              "#0d0887"
             ],
             [
              0.1111111111111111,
              "#46039f"
             ],
             [
              0.2222222222222222,
              "#7201a8"
             ],
             [
              0.3333333333333333,
              "#9c179e"
             ],
             [
              0.4444444444444444,
              "#bd3786"
             ],
             [
              0.5555555555555556,
              "#d8576b"
             ],
             [
              0.6666666666666666,
              "#ed7953"
             ],
             [
              0.7777777777777778,
              "#fb9f3a"
             ],
             [
              0.8888888888888888,
              "#fdca26"
             ],
             [
              1,
              "#f0f921"
             ]
            ],
            "type": "heatmapgl"
           }
          ],
          "histogram": [
           {
            "marker": {
             "pattern": {
              "fillmode": "overlay",
              "size": 10,
              "solidity": 0.2
             }
            },
            "type": "histogram"
           }
          ],
          "histogram2d": [
           {
            "colorbar": {
             "outlinewidth": 0,
             "ticks": ""
            },
            "colorscale": [
             [
              0,
              "#0d0887"
             ],
             [
              0.1111111111111111,
              "#46039f"
             ],
             [
              0.2222222222222222,
              "#7201a8"
             ],
             [
              0.3333333333333333,
              "#9c179e"
             ],
             [
              0.4444444444444444,
              "#bd3786"
             ],
             [
              0.5555555555555556,
              "#d8576b"
             ],
             [
              0.6666666666666666,
              "#ed7953"
             ],
             [
              0.7777777777777778,
              "#fb9f3a"
             ],
             [
              0.8888888888888888,
              "#fdca26"
             ],
             [
              1,
              "#f0f921"
             ]
            ],
            "type": "histogram2d"
           }
          ],
          "histogram2dcontour": [
           {
            "colorbar": {
             "outlinewidth": 0,
             "ticks": ""
            },
            "colorscale": [
             [
              0,
              "#0d0887"
             ],
             [
              0.1111111111111111,
              "#46039f"
             ],
             [
              0.2222222222222222,
              "#7201a8"
             ],
             [
              0.3333333333333333,
              "#9c179e"
             ],
             [
              0.4444444444444444,
              "#bd3786"
             ],
             [
              0.5555555555555556,
              "#d8576b"
             ],
             [
              0.6666666666666666,
              "#ed7953"
             ],
             [
              0.7777777777777778,
              "#fb9f3a"
             ],
             [
              0.8888888888888888,
              "#fdca26"
             ],
             [
              1,
              "#f0f921"
             ]
            ],
            "type": "histogram2dcontour"
           }
          ],
          "mesh3d": [
           {
            "colorbar": {
             "outlinewidth": 0,
             "ticks": ""
            },
            "type": "mesh3d"
           }
          ],
          "parcoords": [
           {
            "line": {
             "colorbar": {
              "outlinewidth": 0,
              "ticks": ""
             }
            },
            "type": "parcoords"
           }
          ],
          "pie": [
           {
            "automargin": true,
            "type": "pie"
           }
          ],
          "scatter": [
           {
            "fillpattern": {
             "fillmode": "overlay",
             "size": 10,
             "solidity": 0.2
            },
            "type": "scatter"
           }
          ],
          "scatter3d": [
           {
            "line": {
             "colorbar": {
              "outlinewidth": 0,
              "ticks": ""
             }
            },
            "marker": {
             "colorbar": {
              "outlinewidth": 0,
              "ticks": ""
             }
            },
            "type": "scatter3d"
           }
          ],
          "scattercarpet": [
           {
            "marker": {
             "colorbar": {
              "outlinewidth": 0,
              "ticks": ""
             }
            },
            "type": "scattercarpet"
           }
          ],
          "scattergeo": [
           {
            "marker": {
             "colorbar": {
              "outlinewidth": 0,
              "ticks": ""
             }
            },
            "type": "scattergeo"
           }
          ],
          "scattergl": [
           {
            "marker": {
             "colorbar": {
              "outlinewidth": 0,
              "ticks": ""
             }
            },
            "type": "scattergl"
           }
          ],
          "scattermapbox": [
           {
            "marker": {
             "colorbar": {
              "outlinewidth": 0,
              "ticks": ""
             }
            },
            "type": "scattermapbox"
           }
          ],
          "scatterpolar": [
           {
            "marker": {
             "colorbar": {
              "outlinewidth": 0,
              "ticks": ""
             }
            },
            "type": "scatterpolar"
           }
          ],
          "scatterpolargl": [
           {
            "marker": {
             "colorbar": {
              "outlinewidth": 0,
              "ticks": ""
             }
            },
            "type": "scatterpolargl"
           }
          ],
          "scatterternary": [
           {
            "marker": {
             "colorbar": {
              "outlinewidth": 0,
              "ticks": ""
             }
            },
            "type": "scatterternary"
           }
          ],
          "surface": [
           {
            "colorbar": {
             "outlinewidth": 0,
             "ticks": ""
            },
            "colorscale": [
             [
              0,
              "#0d0887"
             ],
             [
              0.1111111111111111,
              "#46039f"
             ],
             [
              0.2222222222222222,
              "#7201a8"
             ],
             [
              0.3333333333333333,
              "#9c179e"
             ],
             [
              0.4444444444444444,
              "#bd3786"
             ],
             [
              0.5555555555555556,
              "#d8576b"
             ],
             [
              0.6666666666666666,
              "#ed7953"
             ],
             [
              0.7777777777777778,
              "#fb9f3a"
             ],
             [
              0.8888888888888888,
              "#fdca26"
             ],
             [
              1,
              "#f0f921"
             ]
            ],
            "type": "surface"
           }
          ],
          "table": [
           {
            "cells": {
             "fill": {
              "color": "#EBF0F8"
             },
             "line": {
              "color": "white"
             }
            },
            "header": {
             "fill": {
              "color": "#C8D4E3"
             },
             "line": {
              "color": "white"
             }
            },
            "type": "table"
           }
          ]
         },
         "layout": {
          "annotationdefaults": {
           "arrowcolor": "#2a3f5f",
           "arrowhead": 0,
           "arrowwidth": 1
          },
          "autotypenumbers": "strict",
          "coloraxis": {
           "colorbar": {
            "outlinewidth": 0,
            "ticks": ""
           }
          },
          "colorscale": {
           "diverging": [
            [
             0,
             "#8e0152"
            ],
            [
             0.1,
             "#c51b7d"
            ],
            [
             0.2,
             "#de77ae"
            ],
            [
             0.3,
             "#f1b6da"
            ],
            [
             0.4,
             "#fde0ef"
            ],
            [
             0.5,
             "#f7f7f7"
            ],
            [
             0.6,
             "#e6f5d0"
            ],
            [
             0.7,
             "#b8e186"
            ],
            [
             0.8,
             "#7fbc41"
            ],
            [
             0.9,
             "#4d9221"
            ],
            [
             1,
             "#276419"
            ]
           ],
           "sequential": [
            [
             0,
             "#0d0887"
            ],
            [
             0.1111111111111111,
             "#46039f"
            ],
            [
             0.2222222222222222,
             "#7201a8"
            ],
            [
             0.3333333333333333,
             "#9c179e"
            ],
            [
             0.4444444444444444,
             "#bd3786"
            ],
            [
             0.5555555555555556,
             "#d8576b"
            ],
            [
             0.6666666666666666,
             "#ed7953"
            ],
            [
             0.7777777777777778,
             "#fb9f3a"
            ],
            [
             0.8888888888888888,
             "#fdca26"
            ],
            [
             1,
             "#f0f921"
            ]
           ],
           "sequentialminus": [
            [
             0,
             "#0d0887"
            ],
            [
             0.1111111111111111,
             "#46039f"
            ],
            [
             0.2222222222222222,
             "#7201a8"
            ],
            [
             0.3333333333333333,
             "#9c179e"
            ],
            [
             0.4444444444444444,
             "#bd3786"
            ],
            [
             0.5555555555555556,
             "#d8576b"
            ],
            [
             0.6666666666666666,
             "#ed7953"
            ],
            [
             0.7777777777777778,
             "#fb9f3a"
            ],
            [
             0.8888888888888888,
             "#fdca26"
            ],
            [
             1,
             "#f0f921"
            ]
           ]
          },
          "colorway": [
           "#636efa",
           "#EF553B",
           "#00cc96",
           "#ab63fa",
           "#FFA15A",
           "#19d3f3",
           "#FF6692",
           "#B6E880",
           "#FF97FF",
           "#FECB52"
          ],
          "font": {
           "color": "#2a3f5f"
          },
          "geo": {
           "bgcolor": "white",
           "lakecolor": "white",
           "landcolor": "white",
           "showlakes": true,
           "showland": true,
           "subunitcolor": "#C8D4E3"
          },
          "hoverlabel": {
           "align": "left"
          },
          "hovermode": "closest",
          "mapbox": {
           "style": "light"
          },
          "paper_bgcolor": "white",
          "plot_bgcolor": "white",
          "polar": {
           "angularaxis": {
            "gridcolor": "#EBF0F8",
            "linecolor": "#EBF0F8",
            "ticks": ""
           },
           "bgcolor": "white",
           "radialaxis": {
            "gridcolor": "#EBF0F8",
            "linecolor": "#EBF0F8",
            "ticks": ""
           }
          },
          "scene": {
           "xaxis": {
            "backgroundcolor": "white",
            "gridcolor": "#DFE8F3",
            "gridwidth": 2,
            "linecolor": "#EBF0F8",
            "showbackground": true,
            "ticks": "",
            "zerolinecolor": "#EBF0F8"
           },
           "yaxis": {
            "backgroundcolor": "white",
            "gridcolor": "#DFE8F3",
            "gridwidth": 2,
            "linecolor": "#EBF0F8",
            "showbackground": true,
            "ticks": "",
            "zerolinecolor": "#EBF0F8"
           },
           "zaxis": {
            "backgroundcolor": "white",
            "gridcolor": "#DFE8F3",
            "gridwidth": 2,
            "linecolor": "#EBF0F8",
            "showbackground": true,
            "ticks": "",
            "zerolinecolor": "#EBF0F8"
           }
          },
          "shapedefaults": {
           "line": {
            "color": "#2a3f5f"
           }
          },
          "ternary": {
           "aaxis": {
            "gridcolor": "#DFE8F3",
            "linecolor": "#A2B1C6",
            "ticks": ""
           },
           "baxis": {
            "gridcolor": "#DFE8F3",
            "linecolor": "#A2B1C6",
            "ticks": ""
           },
           "bgcolor": "white",
           "caxis": {
            "gridcolor": "#DFE8F3",
            "linecolor": "#A2B1C6",
            "ticks": ""
           }
          },
          "title": {
           "x": 0.05
          },
          "xaxis": {
           "automargin": true,
           "gridcolor": "#EBF0F8",
           "linecolor": "#EBF0F8",
           "ticks": "",
           "title": {
            "standoff": 15
           },
           "zerolinecolor": "#EBF0F8",
           "zerolinewidth": 2
          },
          "yaxis": {
           "automargin": true,
           "gridcolor": "#EBF0F8",
           "linecolor": "#EBF0F8",
           "ticks": "",
           "title": {
            "standoff": 15
           },
           "zerolinecolor": "#EBF0F8",
           "zerolinewidth": 2
          }
         }
        },
        "title": {
         "text": "Charges by Age Categories"
        },
        "width": 900,
        "xaxis": {
         "anchor": "y",
         "domain": [
          0,
          0.45
         ],
         "title": {
          "text": "Age Category"
         }
        },
        "xaxis2": {
         "anchor": "y2",
         "domain": [
          0.55,
          1
         ]
        },
        "yaxis": {
         "anchor": "x",
         "domain": [
          0,
          1
         ],
         "title": {
          "text": "Patient Charges ($)"
         }
        },
        "yaxis2": {
         "anchor": "x2",
         "domain": [
          0,
          1
         ],
         "matches": "y",
         "showticklabels": false
        }
       }
      }
     },
     "metadata": {},
     "output_type": "display_data"
    }
   ],
   "source": [
    "# Calculate Mean and Median for the updated age categories\n",
    "# Means\n",
    "avg_ya_charge = df[\"charges\"].loc[df[\"age_cat\"] == \"Young Adult\"].mean()\n",
    "avg_ma_charge = df[\"charges\"].loc[df[\"age_cat\"] == \"Middle Aged Adult\"].mean()\n",
    "avg_s_charge = df[\"charges\"].loc[df[\"age_cat\"] == \"Senior\"].mean()\n",
    "\n",
    "# Medians\n",
    "med_ya_charge = df[\"charges\"].loc[df[\"age_cat\"] == \"Young Adult\"].median()\n",
    "med_ma_charge = df[\"charges\"].loc[df[\"age_cat\"] == \"Middle Aged Adult\"].median()\n",
    "med_s_charge = df[\"charges\"].loc[df[\"age_cat\"] == \"Senior\"].median()\n",
    "\n",
    "# Bar plot for Mean\n",
    "average_plot = go.Bar(\n",
    "    x=['Young Adults', 'Middle Aged Adults', 'Senior'],\n",
    "    y=[avg_ya_charge, avg_ma_charge, avg_s_charge],\n",
    "    name='Mean',\n",
    "    marker=dict(color=\"#29AF7F\")\n",
    ")\n",
    "\n",
    "# Bar plot for Median\n",
    "med_plot = go.Bar(\n",
    "    x=['Young Adults', 'Middle Aged Adults', 'Senior'],\n",
    "    y=[med_ya_charge, med_ma_charge, med_s_charge],\n",
    "    name='Median',\n",
    "    marker=dict(color=\"#541352\")\n",
    ")\n",
    "\n",
    "# Create subplots\n",
    "fig = make_subplots(\n",
    "    rows=1, cols=2, \n",
    "    subplot_titles=('Average Charges by Age', 'Median Charges by Age'),\n",
    "    shared_yaxes=True\n",
    ")\n",
    "\n",
    "# Add traces\n",
    "fig.add_trace(average_plot, row=1, col=1)\n",
    "fig.add_trace(med_plot, row=1, col=2)\n",
    "\n",
    "# Update layout\n",
    "fig.update_layout(\n",
    "    title='Charges by Age Categories',\n",
    "    xaxis_title='Age Category',\n",
    "    yaxis_title='Patient Charges ($)',\n",
    "    bargap=0.15,  # Bar gap\n",
    "    showlegend=True,\n",
    "    template='plotly_white',  # Clean background style\n",
    "    height=500,\n",
    "    width=900\n",
    ")\n",
    "\n",
    "# Show plot\n",
    "fig.show()"
   ]
  },
  {
   "cell_type": "markdown",
   "metadata": {},
   "source": [
    "#### 4. Charges by Smoking Status"
   ]
  },
  {
   "cell_type": "code",
   "execution_count": 8,
   "metadata": {},
   "outputs": [
    {
     "data": {
      "application/vnd.plotly.v1+json": {
       "config": {
        "plotlyServerURL": "https://plot.ly"
       },
       "data": [
        {
         "marker": {
          "color": "#B8DE29"
         },
         "name": "Smoker",
         "opacity": 0.6,
         "type": "histogram",
         "x": [
          16884.924,
          27808.7251,
          39611.7577,
          36837.467,
          37701.8768,
          38711,
          35585.576,
          51194.55914,
          39774.2763,
          48173.361,
          38709.176,
          23568.272,
          37742.5757,
          47496.49445,
          34303.1672,
          23244.7902,
          14711.7438,
          17663.1442,
          16577.7795,
          37165.1638,
          39836.519,
          21098.55405,
          43578.9394,
          30184.9367,
          47291.055,
          22412.6485,
          15820.699,
          30942.1918,
          17560.37975,
          47055.5321,
          19107.7796,
          39556.4945,
          17081.08,
          32734.1863,
          18972.495,
          20745.9891,
          40720.55105,
          19964.7463,
          21223.6758,
          15518.18025,
          36950.2567,
          21348.706,
          36149.4835,
          48824.45,
          43753.33705,
          37133.8982,
          20984.0936,
          34779.615,
          19515.5416,
          19444.2658,
          17352.6803,
          38511.6283,
          29523.1656,
          12829.4551,
          47305.305,
          44260.7499,
          41097.16175,
          43921.1837,
          33750.2918,
          17085.2676,
          24869.8368,
          36219.40545,
          46151.1245,
          17179.522,
          42856.838,
          22331.5668,
          48549.17835,
          47896.79135,
          42112.2356,
          16297.846,
          21978.6769,
          38746.3551,
          24873.3849,
          42124.5153,
          34838.873,
          35491.64,
          42760.5022,
          47928.03,
          48517.56315,
          24393.6224,
          41919.097,
          13844.506,
          36085.219,
          18033.9679,
          21659.9301,
          38126.2465,
          15006.57945,
          42303.69215,
          19594.80965,
          14455.64405,
          18608.262,
          28950.4692,
          46889.2612,
          46599.1084,
          39125.33225,
          37079.372,
          26109.32905,
          22144.032,
          19521.9682,
          25382.297,
          28868.6639,
          35147.52848,
          48885.13561,
          17942.106,
          36197.699,
          22218.1149,
          32548.3405,
          21082.16,
          38245.59327,
          48675.5177,
          63770.42801,
          23807.2406,
          45863.205,
          39983.42595,
          45702.02235,
          58571.07448,
          43943.8761,
          15359.1045,
          17468.9839,
          25678.77845,
          39241.442,
          42969.8527,
          23306.547,
          34439.8559,
          40182.246,
          34617.84065,
          42983.4585,
          20149.3229,
          32787.45859,
          24667.419,
          27037.9141,
          42560.4304,
          40003.33225,
          45710.20785,
          46200.9851,
          46130.5265,
          40103.89,
          34806.4677,
          40273.6455,
          44400.4064,
          40932.4295,
          16657.71745,
          19361.9988,
          40419.0191,
          36189.1017,
          44585.45587,
          18246.4955,
          43254.41795,
          19539.243,
          23065.4207,
          36307.7983,
          19040.876,
          17748.5062,
          18259.216,
          24520.264,
          21195.818,
          18310.742,
          17904.52705,
          38792.6856,
          23401.30575,
          55135.40209,
          43813.8661,
          20773.62775,
          39597.4072,
          36021.0112,
          27533.9129,
          45008.9555,
          37270.1512,
          42111.6647,
          24106.91255,
          40974.1649,
          15817.9857,
          46113.511,
          46255.1125,
          19719.6947,
          27218.43725,
          29330.98315,
          44202.6536,
          19798.05455,
          48673.5588,
          17496.306,
          33732.6867,
          21774.32215,
          35069.37452,
          39047.285,
          19933.458,
          47462.894,
          38998.546,
          20009.63365,
          41999.52,
          41034.2214,
          23967.38305,
          16138.76205,
          19199.944,
          14571.8908,
          16420.49455,
          17361.7661,
          34472.841,
          24915.22085,
          18767.7377,
          35595.5898,
          42211.1382,
          16450.8947,
          21677.28345,
          44423.803,
          13747.87235,
          37484.4493,
          39725.51805,
          20234.85475,
          33475.81715,
          21880.82,
          44501.3982,
          39727.614,
          25309.489,
          48970.2476,
          39871.7043,
          34672.1472,
          19023.26,
          41676.0811,
          33907.548,
          44641.1974,
          16776.30405,
          41949.2441,
          24180.9335,
          36124.5737,
          38282.7495,
          34166.273,
          46661.4424,
          40904.1995,
          36898.73308,
          52590.82939,
          40941.2854,
          39722.7462,
          17178.6824,
          22478.6,
          23887.6627,
          19350.3689,
          18328.2381,
          37465.34375,
          21771.3423,
          33307.5508,
          18223.4512,
          38415.474,
          20296.86345,
          41661.602,
          26125.67477,
          60021.39897,
          20167.33603,
          47269.854,
          49577.6624,
          37607.5277,
          18648.4217,
          16232.847,
          26926.5144,
          34254.05335,
          17043.3414,
          22462.04375,
          24535.69855,
          14283.4594,
          47403.88,
          38344.566,
          34828.654,
          62592.87309,
          46718.16325,
          37829.7242,
          21259.37795,
          16115.3045,
          21472.4788,
          33900.653,
          36397.576,
          18765.87545,
          28101.33305,
          43896.3763,
          29141.3603
         ]
        },
        {
         "marker": {
          "color": "#287D8E"
         },
         "name": "Non-Smoker",
         "opacity": 0.6,
         "type": "histogram",
         "x": [
          1725.5523,
          4449.462,
          21984.47061,
          3866.8552,
          3756.6216,
          8240.5896,
          7281.5056,
          6406.4107,
          28923.13692,
          2721.3208,
          1826.843,
          11090.7178,
          1837.237,
          10797.3362,
          2395.17155,
          10602.385,
          13228.84695,
          4149.736,
          1137.011,
          6203.90175,
          14001.1338,
          14451.83515,
          12268.63225,
          2775.19215,
          2198.18985,
          4687.797,
          13770.0979,
          1625.43375,
          15612.19335,
          2302.3,
          3046.062,
          4949.7587,
          6272.4772,
          6313.759,
          6079.6715,
          20630.28351,
          3393.35635,
          3556.9223,
          12629.8967,
          2211.13075,
          3579.8287,
          8059.6791,
          13607.36875,
          5989.52365,
          8606.2174,
          4504.6624,
          30166.61817,
          4133.64165,
          1743.214,
          14235.072,
          6389.37785,
          5920.1041,
          6799.458,
          11741.726,
          11946.6259,
          7726.854,
          11356.6609,
          3947.4131,
          1532.4697,
          2755.02095,
          6571.02435,
          4441.21315,
          7935.29115,
          11033.6617,
          11073.176,
          8026.6666,
          11082.5772,
          2026.9741,
          10942.13205,
          5729.0053,
          3766.8838,
          12105.32,
          10226.2842,
          6186.127,
          3645.0894,
          21344.8467,
          5003.853,
          2331.519,
          3877.30425,
          2867.1196,
          10825.2537,
          11881.358,
          4646.759,
          2404.7338,
          11488.31695,
          30259.99556,
          11381.3254,
          8601.3293,
          6686.4313,
          7740.337,
          1705.6245,
          2257.47525,
          10115.00885,
          3385.39915,
          9634.538,
          6082.405,
          12815.44495,
          13616.3586,
          11163.568,
          1632.56445,
          2457.21115,
          2155.6815,
          1261.442,
          2045.68525,
          27322.73386,
          2166.732,
          27375.90478,
          3490.5491,
          18157.876,
          5138.2567,
          9877.6077,
          10959.6947,
          1842.519,
          5125.2157,
          7789.635,
          6334.34355,
          7077.1894,
          6948.7008,
          19749.38338,
          10450.552,
          5152.134,
          5028.1466,
          10407.08585,
          4830.63,
          6128.79745,
          2719.27975,
          4827.90495,
          13405.3903,
          8116.68,
          1694.7964,
          5246.047,
          2855.43755,
          6455.86265,
          10436.096,
          8823.279,
          8538.28845,
          11735.87905,
          1631.8212,
          4005.4225,
          7419.4779,
          7731.4271,
          3981.9768,
          5325.651,
          6775.961,
          4922.9159,
          12557.6053,
          4883.866,
          2137.6536,
          12044.342,
          1137.4697,
          1639.5631,
          5649.715,
          8516.829,
          9644.2525,
          14901.5167,
          2130.6759,
          8871.1517,
          13012.20865,
          7147.105,
          4337.7352,
          11743.299,
          13880.949,
          6610.1097,
          1980.07,
          8162.71625,
          3537.703,
          5002.7827,
          8520.026,
          7371.772,
          10355.641,
          2483.736,
          3392.9768,
          25081.76784,
          5012.471,
          10564.8845,
          5253.524,
          11987.1682,
          2689.4954,
          24227.33724,
          7358.17565,
          9225.2564,
          7443.64305,
          14001.2867,
          1727.785,
          12333.828,
          6710.1919,
          1615.7667,
          4463.2051,
          7152.6714,
          5354.07465,
          35160.13457,
          7196.867,
          24476.47851,
          12648.7034,
          1986.9334,
          1832.094,
          4040.55825,
          4260.744,
          13047.33235,
          5400.9805,
          11520.09985,
          11837.16,
          20462.99766,
          14590.63205,
          7441.053,
          9282.4806,
          1719.4363,
          7265.7025,
          9617.66245,
          2523.1695,
          9715.841,
          2803.69785,
          2150.469,
          12928.7911,
          9855.1314,
          4237.12655,
          11879.10405,
          9625.92,
          7742.1098,
          9432.9253,
          14256.1928,
          25992.82104,
          3172.018,
          20277.80751,
          2156.7518,
          3906.127,
          1704.5681,
          9249.4952,
          6746.7425,
          12265.5069,
          4349.462,
          12646.207,
          19442.3535,
          20177.67113,
          4151.0287,
          11944.59435,
          7749.1564,
          8444.474,
          1737.376,
          8124.4084,
          9722.7695,
          8835.26495,
          10435.06525,
          7421.19455,
          4667.60765,
          4894.7533,
          24671.66334,
          11566.30055,
          2866.091,
          6600.20595,
          3561.8889,
          9144.565,
          13429.0354,
          11658.37915,
          19144.57652,
          13822.803,
          12142.5786,
          13937.6665,
          8232.6388,
          18955.22017,
          13352.0998,
          13217.0945,
          13981.85035,
          10977.2063,
          6184.2994,
          4889.9995,
          8334.45755,
          5478.0368,
          1635.73365,
          11830.6072,
          8932.084,
          3554.203,
          12404.8791,
          14133.03775,
          24603.04837,
          8944.1151,
          9620.3307,
          1837.2819,
          1607.5101,
          10043.249,
          4751.07,
          2597.779,
          3180.5101,
          9778.3472,
          13430.265,
          8017.06115,
          8116.26885,
          3481.868,
          13415.0381,
          12029.2867,
          7639.41745,
          1391.5287,
          16455.70785,
          27000.98473,
          20781.48892,
          5846.9176,
          8302.53565,
          1261.859,
          11856.4115,
          30284.64294,
          3176.8159,
          4618.0799,
          10736.87075,
          2138.0707,
          8964.06055,
          9290.1395,
          9411.005,
          7526.70645,
          8522.003,
          16586.49771,
          14988.432,
          1631.6683,
          9264.797,
          8083.9198,
          14692.66935,
          10269.46,
          3260.199,
          11396.9002,
          4185.0979,
          8539.671,
          6652.5288,
          4074.4537,
          1621.3402,
          5080.096,
          2134.9015,
          7345.7266,
          9140.951,
          14418.2804,
          2727.3951,
          8968.33,
          9788.8659,
          6555.07035,
          7323.734819,
          3167.45585,
          18804.7524,
          23082.95533,
          4906.40965,
          5969.723,
          12638.195,
          4243.59005,
          13919.8229,
          2254.7967,
          5926.846,
          12592.5345,
          2897.3235,
          4738.2682,
          1149.3959,
          28287.89766,
          7345.084,
          12730.9996,
          11454.0215,
          5910.944,
          4762.329,
          7512.267,
          4032.2407,
          1969.614,
          1769.53165,
          4686.3887,
          21797.0004,
          11881.9696,
          11840.77505,
          10601.412,
          7682.67,
          10381.4787,
          15230.32405,
          11165.41765,
          1632.03625,
          13224.693,
          12643.3778,
          23288.9284,
          2201.0971,
          2497.0383,
          2203.47185,
          1744.465,
          20878.78443,
          2534.39375,
          1534.3045,
          1824.2854,
          15555.18875,
          9304.7019,
          1622.1885,
          9880.068,
          9563.029,
          4347.02335,
          12475.3513,
          1253.936,
          10461.9794,
          1748.774,
          24513.09126,
          2196.4732,
          12574.049,
          1967.0227,
          4931.647,
          8027.968,
          8211.1002,
          13470.86,
          6837.3687,
          5974.3847,
          6796.86325,
          2643.2685,
          3077.0955,
          3044.2133,
          11455.28,
          11763.0009,
          2498.4144,
          9361.3268,
          1256.299,
          11362.755,
          27724.28875,
          8413.46305,
          5240.765,
          3857.75925,
          25656.57526,
          3994.1778,
          9866.30485,
          5397.6167,
          11482.63485,
          24059.68019,
          9861.025,
          8342.90875,
          1708.0014,
          14043.4767,
          12925.886,
          19214.70553,
          13831.1152,
          6067.12675,
          5972.378,
          8825.086,
          8233.0975,
          27346.04207,
          6196.448,
          3056.3881,
          13887.204,
          10231.4999,
          3268.84665,
          11538.421,
          3213.62205,
          13390.559,
          3972.9247,
          12957.118,
          11187.6567,
          17878.90068,
          3847.674,
          8334.5896,
          3935.1799,
          1646.4297,
          9193.8385,
          10923.9332,
          2494.022,
          9058.7303,
          2801.2588,
          2128.43105,
          6373.55735,
          7256.7231,
          11552.904,
          3761.292,
          2219.4451,
          4753.6368,
          31620.00106,
          13224.05705,
          12222.8983,
          1664.9996,
          9724.53,
          3206.49135,
          12913.9924,
          1639.5631,
          6356.2707,
          17626.23951,
          1242.816,
          4779.6023,
          3861.20965,
          13635.6379,
          5976.8311,
          11842.442,
          8428.0693,
          2566.4707,
          5709.1644,
          8823.98575,
          7640.3092,
          5594.8455,
          7441.501,
          33471.97189,
          1633.0444,
          9174.13565,
          11070.535,
          16085.1275,
          9283.562,
          3558.62025,
          4435.0942,
          8547.6913,
          6571.544,
          2207.69745,
          6753.038,
          1880.07,
          11658.11505,
          10713.644,
          3659.346,
          9182.17,
          12129.61415,
          3736.4647,
          6748.5912,
          11326.71487,
          11365.952,
          10085.846,
          1977.815,
          3366.6697,
          7173.35995,
          9391.346,
          14410.9321,
          2709.1119,
          24915.04626,
          12949.1554,
          6666.243,
          13143.86485,
          4466.6214,
          18806.14547,
          10141.1362,
          6123.5688,
          8252.2843,
          1712.227,
          12430.95335,
          9800.8882,
          10579.711,
          8280.6227,
          8527.532,
          12244.531,
          3410.324,
          4058.71245,
          26392.26029,
          14394.39815,
          6435.6237,
          22192.43711,
          5148.5526,
          1136.3994,
          8703.456,
          6500.2359,
          4837.5823,
          3943.5954,
          4399.731,
          6185.3208,
          7222.78625,
          12485.8009,
          12363.547,
          10156.7832,
          2585.269,
          1242.26,
          9863.4718,
          4766.022,
          11244.3769,
          7729.64575,
          5438.7491,
          26236.57997,
          2104.1134,
          8068.185,
          2362.22905,
          2352.96845,
          3577.999,
          3201.24515,
          29186.48236,
          10976.24575,
          3500.6123,
          2020.5523,
          9541.69555,
          9504.3103,
          5385.3379,
          8930.93455,
          5375.038,
          10264.4421,
          6113.23105,
          5469.0066,
          1727.54,
          10107.2206,
          8310.83915,
          1984.4533,
          2457.502,
          12146.971,
          9566.9909,
          13112.6048,
          10848.1343,
          12231.6136,
          9875.6804,
          11264.541,
          12979.358,
          1263.249,
          10106.13425,
          6664.68595,
          2217.6012,
          6781.3542,
          10065.413,
          4234.927,
          9447.25035,
          14007.222,
          9583.8933,
          3484.331,
          8604.48365,
          3757.8448,
          8827.2099,
          9910.35985,
          11737.84884,
          1627.28245,
          8556.907,
          3062.50825,
          1906.35825,
          14210.53595,
          11833.7823,
          17128.42608,
          5031.26955,
          7985.815,
          5428.7277,
          3925.7582,
          2416.955,
          3070.8087,
          9095.06825,
          11842.62375,
          8062.764,
          7050.642,
          14319.031,
          6933.24225,
          27941.28758,
          11150.78,
          12797.20962,
          7261.741,
          10560.4917,
          6986.697,
          7448.40395,
          5934.3798,
          9869.8102,
          1146.7966,
          9386.1613,
          4350.5144,
          6414.178,
          12741.16745,
          1917.3184,
          5209.57885,
          13457.9608,
          5662.225,
          1252.407,
          2731.9122,
          7209.4918,
          4266.1658,
          4719.52405,
          11848.141,
          7046.7222,
          14313.8463,
          2103.08,
          1815.8759,
          7731.85785,
          28476.73499,
          2136.88225,
          1131.5066,
          3309.7926,
          9414.92,
          6360.9936,
          11013.7119,
          4428.88785,
          5584.3057,
          1877.9294,
          2842.76075,
          3597.596,
          7445.918,
          2680.9493,
          1621.8827,
          8219.2039,
          12523.6048,
          16069.08475,
          6117.4945,
          13393.756,
          5266.3656,
          4719.73655,
          11743.9341,
          5377.4578,
          7160.3303,
          4402.233,
          11657.7189,
          6402.29135,
          12622.1795,
          1526.312,
          12323.936,
          10072.05505,
          9872.701,
          2438.0552,
          2974.126,
          10601.63225,
          14119.62,
          11729.6795,
          1875.344,
          18218.16139,
          10965.446,
          7151.092,
          12269.68865,
          5458.04645,
          8782.469,
          6600.361,
          1141.4451,
          11576.13,
          13129.60345,
          4391.652,
          8457.818,
          3392.3652,
          5966.8874,
          6849.026,
          8891.1395,
          2690.1138,
          26140.3603,
          6653.7886,
          6282.235,
          6311.952,
          3443.064,
          2789.0574,
          2585.85065,
          4877.98105,
          5272.1758,
          1682.597,
          11945.1327,
          7243.8136,
          10422.91665,
          13555.0049,
          13063.883,
          2221.56445,
          1634.5734,
          2117.33885,
          8688.85885,
          4661.28635,
          8125.7845,
          12644.589,
          4564.19145,
          4846.92015,
          7633.7206,
          15170.069,
          2639.0429,
          14382.70905,
          7626.993,
          5257.50795,
          2473.3341,
          13041.921,
          5245.2269,
          13451.122,
          13462.52,
          5488.262,
          4320.41085,
          6250.435,
          25333.33284,
          2913.569,
          12032.326,
          13470.8044,
          6289.7549,
          2927.0647,
          6238.298,
          10096.97,
          7348.142,
          4673.3922,
          12233.828,
          32108.66282,
          8965.79575,
          2304.0022,
          9487.6442,
          1121.8739,
          9549.5651,
          2217.46915,
          1628.4709,
          12982.8747,
          11674.13,
          7160.094,
          6358.77645,
          11534.87265,
          4527.18295,
          3875.7341,
          12609.88702,
          28468.91901,
          2730.10785,
          3353.284,
          14474.675,
          9500.57305,
          26467.09737,
          4746.344,
          7518.02535,
          3279.86855,
          8596.8278,
          10702.6424,
          4992.3764,
          2527.81865,
          1759.338,
          2322.6218,
          7804.1605,
          2902.9065,
          9704.66805,
          4889.0368,
          25517.11363,
          4500.33925,
          16796.41194,
          4915.05985,
          7624.63,
          8410.04685,
          28340.18885,
          4518.82625,
          3378.91,
          7144.86265,
          10118.424,
          5484.4673,
          7986.47525,
          7418.522,
          13887.9685,
          6551.7501,
          5267.81815,
          1972.95,
          21232.18226,
          8627.5411,
          4433.3877,
          4438.2634,
          23241.47453,
          9957.7216,
          8269.044,
          36580.28216,
          8765.249,
          5383.536,
          12124.9924,
          2709.24395,
          3987.926,
          12495.29085,
          26018.95052,
          8798.593,
          1711.0268,
          8569.8618,
          2020.177,
          21595.38229,
          9850.432,
          6877.9801,
          4137.5227,
          12950.0712,
          12094.478,
          2250.8352,
          22493.65964,
          1704.70015,
          3161.454,
          11394.06555,
          7325.0482,
          3594.17085,
          8023.13545,
          14394.5579,
          9288.0267,
          3353.4703,
          10594.50155,
          8277.523,
          17929.30337,
          2480.9791,
          4462.7218,
          1981.5819,
          11554.2236,
          6548.19505,
          5708.867,
          7045.499,
          8978.1851,
          5757.41345,
          14349.8544,
          10928.849,
          13974.45555,
          1909.52745,
          12096.6512,
          13204.28565,
          4562.8421,
          8551.347,
          2102.2647,
          15161.5344,
          11884.04858,
          4454.40265,
          5855.9025,
          4076.497,
          15019.76005,
          10796.35025,
          11353.2276,
          9748.9106,
          10577.087,
          11286.5387,
          3591.48,
          11299.343,
          4561.1885,
          1674.6323,
          23045.56616,
          3227.1211,
          11253.421,
          3471.4096,
          11363.2832,
          20420.60465,
          10338.9316,
          8988.15875,
          10493.9458,
          2904.088,
          8605.3615,
          11512.405,
          5312.16985,
          2396.0959,
          10807.4863,
          9222.4026,
          5693.4305,
          8347.1643,
          18903.49141,
          14254.6082,
          10214.636,
          5836.5204,
          14358.36437,
          1728.897,
          8582.3023,
          3693.428,
          20709.02034,
          9991.03765,
          19673.33573,
          11085.5868,
          7623.518,
          3176.2877,
          3704.3545,
          9048.0273,
          7954.517,
          27117.99378,
          6338.0756,
          9630.397,
          11289.10925,
          2261.5688,
          10791.96,
          5979.731,
          2203.73595,
          12235.8392,
          5630.45785,
          11015.1747,
          7228.21565,
          14426.07385,
          2459.7201,
          3989.841,
          7727.2532,
          5124.1887,
          18963.17192,
          2200.83085,
          7153.5539,
          5227.98875,
          10982.5013,
          4529.477,
          4670.64,
          6112.35295,
          11093.6229,
          6457.8434,
          4433.9159,
          2154.361,
          6496.886,
          2899.48935,
          7650.77375,
          2850.68375,
          2632.992,
          9447.3824,
          8603.8234,
          13844.7972,
          13126.67745,
          5327.40025,
          13725.47184,
          13019.16105,
          8671.19125,
          4134.08245,
          18838.70366,
          5699.8375,
          6393.60345,
          4934.705,
          6198.7518,
          8733.22925,
          2055.3249,
          9964.06,
          5116.5004,
          36910.60803,
          12347.172,
          5373.36425,
          23563.01618,
          1702.4553,
          10806.839,
          3956.07145,
          12890.05765,
          5415.6612,
          4058.1161,
          7537.1639,
          4718.20355,
          6593.5083,
          8442.667,
          6858.4796,
          4795.6568,
          6640.54485,
          7162.0122,
          10594.2257,
          11938.25595,
          12479.70895,
          11345.519,
          8515.7587,
          2699.56835,
          14449.8544,
          12224.35085,
          6985.50695,
          3238.4357,
          4296.2712,
          3171.6149,
          1135.9407,
          5615.369,
          9101.798,
          6059.173,
          1633.9618,
          1241.565,
          15828.82173,
          4415.1588,
          6474.013,
          11436.73815,
          11305.93455,
          30063.58055,
          10197.7722,
          4544.2348,
          3277.161,
          6770.1925,
          7337.748,
          10370.91255,
          10704.47,
          1880.487,
          8615.3,
          3292.52985,
          3021.80915,
          14478.33015,
          4747.0529,
          10959.33,
          2741.948,
          4357.04365,
          4189.1131,
          8283.6807,
          1720.3537,
          8534.6718,
          3732.6251,
          5472.449,
          7147.4728,
          7133.9025,
          1515.3449,
          9301.89355,
          11931.12525,
          1964.78,
          1708.92575,
          4340.4409,
          5261.46945,
          2710.82855,
          3208.787,
          2464.6188,
          6875.961,
          6940.90985,
          4571.41305,
          4536.259,
          11272.33139,
          1731.677,
          1163.4627,
          19496.71917,
          7201.70085,
          5425.02335,
          12981.3457,
          4239.89265,
          13143.33665,
          7050.0213,
          9377.9047,
          22395.74424,
          10325.206,
          12629.1656,
          10795.93733,
          11411.685,
          10600.5483,
          2205.9808,
          1629.8335,
          2007.945
         ]
        }
       ],
       "layout": {
        "barmode": "overlay",
        "height": 500,
        "legend": {
         "font": {
          "size": 12
         },
         "title": {
          "text": "Smoking Status"
         }
        },
        "template": {
         "data": {
          "bar": [
           {
            "error_x": {
             "color": "#2a3f5f"
            },
            "error_y": {
             "color": "#2a3f5f"
            },
            "marker": {
             "line": {
              "color": "white",
              "width": 0.5
             },
             "pattern": {
              "fillmode": "overlay",
              "size": 10,
              "solidity": 0.2
             }
            },
            "type": "bar"
           }
          ],
          "barpolar": [
           {
            "marker": {
             "line": {
              "color": "white",
              "width": 0.5
             },
             "pattern": {
              "fillmode": "overlay",
              "size": 10,
              "solidity": 0.2
             }
            },
            "type": "barpolar"
           }
          ],
          "carpet": [
           {
            "aaxis": {
             "endlinecolor": "#2a3f5f",
             "gridcolor": "#C8D4E3",
             "linecolor": "#C8D4E3",
             "minorgridcolor": "#C8D4E3",
             "startlinecolor": "#2a3f5f"
            },
            "baxis": {
             "endlinecolor": "#2a3f5f",
             "gridcolor": "#C8D4E3",
             "linecolor": "#C8D4E3",
             "minorgridcolor": "#C8D4E3",
             "startlinecolor": "#2a3f5f"
            },
            "type": "carpet"
           }
          ],
          "choropleth": [
           {
            "colorbar": {
             "outlinewidth": 0,
             "ticks": ""
            },
            "type": "choropleth"
           }
          ],
          "contour": [
           {
            "colorbar": {
             "outlinewidth": 0,
             "ticks": ""
            },
            "colorscale": [
             [
              0,
              "#0d0887"
             ],
             [
              0.1111111111111111,
              "#46039f"
             ],
             [
              0.2222222222222222,
              "#7201a8"
             ],
             [
              0.3333333333333333,
              "#9c179e"
             ],
             [
              0.4444444444444444,
              "#bd3786"
             ],
             [
              0.5555555555555556,
              "#d8576b"
             ],
             [
              0.6666666666666666,
              "#ed7953"
             ],
             [
              0.7777777777777778,
              "#fb9f3a"
             ],
             [
              0.8888888888888888,
              "#fdca26"
             ],
             [
              1,
              "#f0f921"
             ]
            ],
            "type": "contour"
           }
          ],
          "contourcarpet": [
           {
            "colorbar": {
             "outlinewidth": 0,
             "ticks": ""
            },
            "type": "contourcarpet"
           }
          ],
          "heatmap": [
           {
            "colorbar": {
             "outlinewidth": 0,
             "ticks": ""
            },
            "colorscale": [
             [
              0,
              "#0d0887"
             ],
             [
              0.1111111111111111,
              "#46039f"
             ],
             [
              0.2222222222222222,
              "#7201a8"
             ],
             [
              0.3333333333333333,
              "#9c179e"
             ],
             [
              0.4444444444444444,
              "#bd3786"
             ],
             [
              0.5555555555555556,
              "#d8576b"
             ],
             [
              0.6666666666666666,
              "#ed7953"
             ],
             [
              0.7777777777777778,
              "#fb9f3a"
             ],
             [
              0.8888888888888888,
              "#fdca26"
             ],
             [
              1,
              "#f0f921"
             ]
            ],
            "type": "heatmap"
           }
          ],
          "heatmapgl": [
           {
            "colorbar": {
             "outlinewidth": 0,
             "ticks": ""
            },
            "colorscale": [
             [
              0,
              "#0d0887"
             ],
             [
              0.1111111111111111,
              "#46039f"
             ],
             [
              0.2222222222222222,
              "#7201a8"
             ],
             [
              0.3333333333333333,
              "#9c179e"
             ],
             [
              0.4444444444444444,
              "#bd3786"
             ],
             [
              0.5555555555555556,
              "#d8576b"
             ],
             [
              0.6666666666666666,
              "#ed7953"
             ],
             [
              0.7777777777777778,
              "#fb9f3a"
             ],
             [
              0.8888888888888888,
              "#fdca26"
             ],
             [
              1,
              "#f0f921"
             ]
            ],
            "type": "heatmapgl"
           }
          ],
          "histogram": [
           {
            "marker": {
             "pattern": {
              "fillmode": "overlay",
              "size": 10,
              "solidity": 0.2
             }
            },
            "type": "histogram"
           }
          ],
          "histogram2d": [
           {
            "colorbar": {
             "outlinewidth": 0,
             "ticks": ""
            },
            "colorscale": [
             [
              0,
              "#0d0887"
             ],
             [
              0.1111111111111111,
              "#46039f"
             ],
             [
              0.2222222222222222,
              "#7201a8"
             ],
             [
              0.3333333333333333,
              "#9c179e"
             ],
             [
              0.4444444444444444,
              "#bd3786"
             ],
             [
              0.5555555555555556,
              "#d8576b"
             ],
             [
              0.6666666666666666,
              "#ed7953"
             ],
             [
              0.7777777777777778,
              "#fb9f3a"
             ],
             [
              0.8888888888888888,
              "#fdca26"
             ],
             [
              1,
              "#f0f921"
             ]
            ],
            "type": "histogram2d"
           }
          ],
          "histogram2dcontour": [
           {
            "colorbar": {
             "outlinewidth": 0,
             "ticks": ""
            },
            "colorscale": [
             [
              0,
              "#0d0887"
             ],
             [
              0.1111111111111111,
              "#46039f"
             ],
             [
              0.2222222222222222,
              "#7201a8"
             ],
             [
              0.3333333333333333,
              "#9c179e"
             ],
             [
              0.4444444444444444,
              "#bd3786"
             ],
             [
              0.5555555555555556,
              "#d8576b"
             ],
             [
              0.6666666666666666,
              "#ed7953"
             ],
             [
              0.7777777777777778,
              "#fb9f3a"
             ],
             [
              0.8888888888888888,
              "#fdca26"
             ],
             [
              1,
              "#f0f921"
             ]
            ],
            "type": "histogram2dcontour"
           }
          ],
          "mesh3d": [
           {
            "colorbar": {
             "outlinewidth": 0,
             "ticks": ""
            },
            "type": "mesh3d"
           }
          ],
          "parcoords": [
           {
            "line": {
             "colorbar": {
              "outlinewidth": 0,
              "ticks": ""
             }
            },
            "type": "parcoords"
           }
          ],
          "pie": [
           {
            "automargin": true,
            "type": "pie"
           }
          ],
          "scatter": [
           {
            "fillpattern": {
             "fillmode": "overlay",
             "size": 10,
             "solidity": 0.2
            },
            "type": "scatter"
           }
          ],
          "scatter3d": [
           {
            "line": {
             "colorbar": {
              "outlinewidth": 0,
              "ticks": ""
             }
            },
            "marker": {
             "colorbar": {
              "outlinewidth": 0,
              "ticks": ""
             }
            },
            "type": "scatter3d"
           }
          ],
          "scattercarpet": [
           {
            "marker": {
             "colorbar": {
              "outlinewidth": 0,
              "ticks": ""
             }
            },
            "type": "scattercarpet"
           }
          ],
          "scattergeo": [
           {
            "marker": {
             "colorbar": {
              "outlinewidth": 0,
              "ticks": ""
             }
            },
            "type": "scattergeo"
           }
          ],
          "scattergl": [
           {
            "marker": {
             "colorbar": {
              "outlinewidth": 0,
              "ticks": ""
             }
            },
            "type": "scattergl"
           }
          ],
          "scattermapbox": [
           {
            "marker": {
             "colorbar": {
              "outlinewidth": 0,
              "ticks": ""
             }
            },
            "type": "scattermapbox"
           }
          ],
          "scatterpolar": [
           {
            "marker": {
             "colorbar": {
              "outlinewidth": 0,
              "ticks": ""
             }
            },
            "type": "scatterpolar"
           }
          ],
          "scatterpolargl": [
           {
            "marker": {
             "colorbar": {
              "outlinewidth": 0,
              "ticks": ""
             }
            },
            "type": "scatterpolargl"
           }
          ],
          "scatterternary": [
           {
            "marker": {
             "colorbar": {
              "outlinewidth": 0,
              "ticks": ""
             }
            },
            "type": "scatterternary"
           }
          ],
          "surface": [
           {
            "colorbar": {
             "outlinewidth": 0,
             "ticks": ""
            },
            "colorscale": [
             [
              0,
              "#0d0887"
             ],
             [
              0.1111111111111111,
              "#46039f"
             ],
             [
              0.2222222222222222,
              "#7201a8"
             ],
             [
              0.3333333333333333,
              "#9c179e"
             ],
             [
              0.4444444444444444,
              "#bd3786"
             ],
             [
              0.5555555555555556,
              "#d8576b"
             ],
             [
              0.6666666666666666,
              "#ed7953"
             ],
             [
              0.7777777777777778,
              "#fb9f3a"
             ],
             [
              0.8888888888888888,
              "#fdca26"
             ],
             [
              1,
              "#f0f921"
             ]
            ],
            "type": "surface"
           }
          ],
          "table": [
           {
            "cells": {
             "fill": {
              "color": "#EBF0F8"
             },
             "line": {
              "color": "white"
             }
            },
            "header": {
             "fill": {
              "color": "#C8D4E3"
             },
             "line": {
              "color": "white"
             }
            },
            "type": "table"
           }
          ]
         },
         "layout": {
          "annotationdefaults": {
           "arrowcolor": "#2a3f5f",
           "arrowhead": 0,
           "arrowwidth": 1
          },
          "autotypenumbers": "strict",
          "coloraxis": {
           "colorbar": {
            "outlinewidth": 0,
            "ticks": ""
           }
          },
          "colorscale": {
           "diverging": [
            [
             0,
             "#8e0152"
            ],
            [
             0.1,
             "#c51b7d"
            ],
            [
             0.2,
             "#de77ae"
            ],
            [
             0.3,
             "#f1b6da"
            ],
            [
             0.4,
             "#fde0ef"
            ],
            [
             0.5,
             "#f7f7f7"
            ],
            [
             0.6,
             "#e6f5d0"
            ],
            [
             0.7,
             "#b8e186"
            ],
            [
             0.8,
             "#7fbc41"
            ],
            [
             0.9,
             "#4d9221"
            ],
            [
             1,
             "#276419"
            ]
           ],
           "sequential": [
            [
             0,
             "#0d0887"
            ],
            [
             0.1111111111111111,
             "#46039f"
            ],
            [
             0.2222222222222222,
             "#7201a8"
            ],
            [
             0.3333333333333333,
             "#9c179e"
            ],
            [
             0.4444444444444444,
             "#bd3786"
            ],
            [
             0.5555555555555556,
             "#d8576b"
            ],
            [
             0.6666666666666666,
             "#ed7953"
            ],
            [
             0.7777777777777778,
             "#fb9f3a"
            ],
            [
             0.8888888888888888,
             "#fdca26"
            ],
            [
             1,
             "#f0f921"
            ]
           ],
           "sequentialminus": [
            [
             0,
             "#0d0887"
            ],
            [
             0.1111111111111111,
             "#46039f"
            ],
            [
             0.2222222222222222,
             "#7201a8"
            ],
            [
             0.3333333333333333,
             "#9c179e"
            ],
            [
             0.4444444444444444,
             "#bd3786"
            ],
            [
             0.5555555555555556,
             "#d8576b"
            ],
            [
             0.6666666666666666,
             "#ed7953"
            ],
            [
             0.7777777777777778,
             "#fb9f3a"
            ],
            [
             0.8888888888888888,
             "#fdca26"
            ],
            [
             1,
             "#f0f921"
            ]
           ]
          },
          "colorway": [
           "#636efa",
           "#EF553B",
           "#00cc96",
           "#ab63fa",
           "#FFA15A",
           "#19d3f3",
           "#FF6692",
           "#B6E880",
           "#FF97FF",
           "#FECB52"
          ],
          "font": {
           "color": "#2a3f5f"
          },
          "geo": {
           "bgcolor": "white",
           "lakecolor": "white",
           "landcolor": "white",
           "showlakes": true,
           "showland": true,
           "subunitcolor": "#C8D4E3"
          },
          "hoverlabel": {
           "align": "left"
          },
          "hovermode": "closest",
          "mapbox": {
           "style": "light"
          },
          "paper_bgcolor": "white",
          "plot_bgcolor": "white",
          "polar": {
           "angularaxis": {
            "gridcolor": "#EBF0F8",
            "linecolor": "#EBF0F8",
            "ticks": ""
           },
           "bgcolor": "white",
           "radialaxis": {
            "gridcolor": "#EBF0F8",
            "linecolor": "#EBF0F8",
            "ticks": ""
           }
          },
          "scene": {
           "xaxis": {
            "backgroundcolor": "white",
            "gridcolor": "#DFE8F3",
            "gridwidth": 2,
            "linecolor": "#EBF0F8",
            "showbackground": true,
            "ticks": "",
            "zerolinecolor": "#EBF0F8"
           },
           "yaxis": {
            "backgroundcolor": "white",
            "gridcolor": "#DFE8F3",
            "gridwidth": 2,
            "linecolor": "#EBF0F8",
            "showbackground": true,
            "ticks": "",
            "zerolinecolor": "#EBF0F8"
           },
           "zaxis": {
            "backgroundcolor": "white",
            "gridcolor": "#DFE8F3",
            "gridwidth": 2,
            "linecolor": "#EBF0F8",
            "showbackground": true,
            "ticks": "",
            "zerolinecolor": "#EBF0F8"
           }
          },
          "shapedefaults": {
           "line": {
            "color": "#2a3f5f"
           }
          },
          "ternary": {
           "aaxis": {
            "gridcolor": "#DFE8F3",
            "linecolor": "#A2B1C6",
            "ticks": ""
           },
           "baxis": {
            "gridcolor": "#DFE8F3",
            "linecolor": "#A2B1C6",
            "ticks": ""
           },
           "bgcolor": "white",
           "caxis": {
            "gridcolor": "#DFE8F3",
            "linecolor": "#A2B1C6",
            "ticks": ""
           }
          },
          "title": {
           "x": 0.05
          },
          "xaxis": {
           "automargin": true,
           "gridcolor": "#EBF0F8",
           "linecolor": "#EBF0F8",
           "ticks": "",
           "title": {
            "standoff": 15
           },
           "zerolinecolor": "#EBF0F8",
           "zerolinewidth": 2
          },
          "yaxis": {
           "automargin": true,
           "gridcolor": "#EBF0F8",
           "linecolor": "#EBF0F8",
           "ticks": "",
           "title": {
            "standoff": 15
           },
           "zerolinecolor": "#EBF0F8",
           "zerolinewidth": 2
          }
         }
        },
        "title": {
         "text": "Distribution of Charges by Smoking Status"
        },
        "width": 900,
        "xaxis": {
         "title": {
          "font": {
           "size": 14
          },
          "text": "Medical Charges ($)"
         }
        },
        "yaxis": {
         "title": {
          "font": {
           "size": 14
          },
          "text": "Frequency"
         }
        }
       }
      }
     },
     "metadata": {},
     "output_type": "display_data"
    }
   ],
   "source": [
    "# Filter data for smokers and non-smokers\n",
    "smoker_charges = df[df['smoker'] == 'yes']['charges']\n",
    "nonsmoker_charges = df[df['smoker'] == 'no']['charges']\n",
    "\n",
    "# Create histograms\n",
    "smoker_hist = go.Histogram(\n",
    "    x=smoker_charges,\n",
    "    name='Smoker',  # Legend name\n",
    "    marker=dict(color='#B8DE29'),\n",
    "    opacity=0.6,  # Transparency to overlap histograms\n",
    ")\n",
    "\n",
    "nonsmoker_hist = go.Histogram(\n",
    "    x=nonsmoker_charges,\n",
    "    name='Non-Smoker',  # Legend name\n",
    "    marker=dict(color='#287D8E'),\n",
    "    opacity=0.6,\n",
    ")\n",
    "\n",
    "# Create the layout\n",
    "layout = go.Layout(\n",
    "    title='Distribution of Charges by Smoking Status',\n",
    "    xaxis=dict(\n",
    "        title='Medical Charges ($)',\n",
    "        titlefont=dict(size=14),\n",
    "    ),\n",
    "    yaxis=dict(\n",
    "        title='Frequency',\n",
    "        titlefont=dict(size=14),\n",
    "    ),\n",
    "    barmode='overlay',  # Overlay histograms\n",
    "    template='plotly_white',  # Clean background\n",
    "    legend=dict(\n",
    "        title='Smoking Status',\n",
    "        font=dict(size=12),\n",
    "    ),\n",
    "    height=500,  # Plot height\n",
    "    width=900,  # Plot width\n",
    ")\n",
    "\n",
    "# Combine traces and layout\n",
    "fig = go.Figure(data=[smoker_hist, nonsmoker_hist], layout=layout)\n",
    "\n",
    "# Show plot\n",
    "fig.show()"
   ]
  },
  {
   "cell_type": "markdown",
   "metadata": {},
   "source": [
    "#### 5. Median Charges by Region"
   ]
  },
  {
   "cell_type": "code",
   "execution_count": 9,
   "metadata": {},
   "outputs": [
    {
     "data": {
      "application/vnd.plotly.v1+json": {
       "config": {
        "linkText": "Export to plot.ly",
        "plotlyServerURL": "https://plot.ly",
        "showLink": false
       },
       "data": [
        {
         "fill": "toself",
         "r": [
          8798.593,
          9294.131949999999,
          8965.79575,
          10057.652025
         ],
         "theta": [
          "SouthWest",
          "SouthEast",
          "NorthWest",
          "NorthEast"
         ],
         "type": "scatterpolar"
        }
       ],
       "layout": {
        "polar": {
         "radialaxis": {
          "range": [
           0,
           10057.652025
          ],
          "visible": true
         }
        },
        "showlegend": false,
        "template": {
         "data": {
          "bar": [
           {
            "error_x": {
             "color": "#2a3f5f"
            },
            "error_y": {
             "color": "#2a3f5f"
            },
            "marker": {
             "line": {
              "color": "#E5ECF6",
              "width": 0.5
             },
             "pattern": {
              "fillmode": "overlay",
              "size": 10,
              "solidity": 0.2
             }
            },
            "type": "bar"
           }
          ],
          "barpolar": [
           {
            "marker": {
             "line": {
              "color": "#E5ECF6",
              "width": 0.5
             },
             "pattern": {
              "fillmode": "overlay",
              "size": 10,
              "solidity": 0.2
             }
            },
            "type": "barpolar"
           }
          ],
          "carpet": [
           {
            "aaxis": {
             "endlinecolor": "#2a3f5f",
             "gridcolor": "white",
             "linecolor": "white",
             "minorgridcolor": "white",
             "startlinecolor": "#2a3f5f"
            },
            "baxis": {
             "endlinecolor": "#2a3f5f",
             "gridcolor": "white",
             "linecolor": "white",
             "minorgridcolor": "white",
             "startlinecolor": "#2a3f5f"
            },
            "type": "carpet"
           }
          ],
          "choropleth": [
           {
            "colorbar": {
             "outlinewidth": 0,
             "ticks": ""
            },
            "type": "choropleth"
           }
          ],
          "contour": [
           {
            "colorbar": {
             "outlinewidth": 0,
             "ticks": ""
            },
            "colorscale": [
             [
              0,
              "#0d0887"
             ],
             [
              0.1111111111111111,
              "#46039f"
             ],
             [
              0.2222222222222222,
              "#7201a8"
             ],
             [
              0.3333333333333333,
              "#9c179e"
             ],
             [
              0.4444444444444444,
              "#bd3786"
             ],
             [
              0.5555555555555556,
              "#d8576b"
             ],
             [
              0.6666666666666666,
              "#ed7953"
             ],
             [
              0.7777777777777778,
              "#fb9f3a"
             ],
             [
              0.8888888888888888,
              "#fdca26"
             ],
             [
              1,
              "#f0f921"
             ]
            ],
            "type": "contour"
           }
          ],
          "contourcarpet": [
           {
            "colorbar": {
             "outlinewidth": 0,
             "ticks": ""
            },
            "type": "contourcarpet"
           }
          ],
          "heatmap": [
           {
            "colorbar": {
             "outlinewidth": 0,
             "ticks": ""
            },
            "colorscale": [
             [
              0,
              "#0d0887"
             ],
             [
              0.1111111111111111,
              "#46039f"
             ],
             [
              0.2222222222222222,
              "#7201a8"
             ],
             [
              0.3333333333333333,
              "#9c179e"
             ],
             [
              0.4444444444444444,
              "#bd3786"
             ],
             [
              0.5555555555555556,
              "#d8576b"
             ],
             [
              0.6666666666666666,
              "#ed7953"
             ],
             [
              0.7777777777777778,
              "#fb9f3a"
             ],
             [
              0.8888888888888888,
              "#fdca26"
             ],
             [
              1,
              "#f0f921"
             ]
            ],
            "type": "heatmap"
           }
          ],
          "heatmapgl": [
           {
            "colorbar": {
             "outlinewidth": 0,
             "ticks": ""
            },
            "colorscale": [
             [
              0,
              "#0d0887"
             ],
             [
              0.1111111111111111,
              "#46039f"
             ],
             [
              0.2222222222222222,
              "#7201a8"
             ],
             [
              0.3333333333333333,
              "#9c179e"
             ],
             [
              0.4444444444444444,
              "#bd3786"
             ],
             [
              0.5555555555555556,
              "#d8576b"
             ],
             [
              0.6666666666666666,
              "#ed7953"
             ],
             [
              0.7777777777777778,
              "#fb9f3a"
             ],
             [
              0.8888888888888888,
              "#fdca26"
             ],
             [
              1,
              "#f0f921"
             ]
            ],
            "type": "heatmapgl"
           }
          ],
          "histogram": [
           {
            "marker": {
             "pattern": {
              "fillmode": "overlay",
              "size": 10,
              "solidity": 0.2
             }
            },
            "type": "histogram"
           }
          ],
          "histogram2d": [
           {
            "colorbar": {
             "outlinewidth": 0,
             "ticks": ""
            },
            "colorscale": [
             [
              0,
              "#0d0887"
             ],
             [
              0.1111111111111111,
              "#46039f"
             ],
             [
              0.2222222222222222,
              "#7201a8"
             ],
             [
              0.3333333333333333,
              "#9c179e"
             ],
             [
              0.4444444444444444,
              "#bd3786"
             ],
             [
              0.5555555555555556,
              "#d8576b"
             ],
             [
              0.6666666666666666,
              "#ed7953"
             ],
             [
              0.7777777777777778,
              "#fb9f3a"
             ],
             [
              0.8888888888888888,
              "#fdca26"
             ],
             [
              1,
              "#f0f921"
             ]
            ],
            "type": "histogram2d"
           }
          ],
          "histogram2dcontour": [
           {
            "colorbar": {
             "outlinewidth": 0,
             "ticks": ""
            },
            "colorscale": [
             [
              0,
              "#0d0887"
             ],
             [
              0.1111111111111111,
              "#46039f"
             ],
             [
              0.2222222222222222,
              "#7201a8"
             ],
             [
              0.3333333333333333,
              "#9c179e"
             ],
             [
              0.4444444444444444,
              "#bd3786"
             ],
             [
              0.5555555555555556,
              "#d8576b"
             ],
             [
              0.6666666666666666,
              "#ed7953"
             ],
             [
              0.7777777777777778,
              "#fb9f3a"
             ],
             [
              0.8888888888888888,
              "#fdca26"
             ],
             [
              1,
              "#f0f921"
             ]
            ],
            "type": "histogram2dcontour"
           }
          ],
          "mesh3d": [
           {
            "colorbar": {
             "outlinewidth": 0,
             "ticks": ""
            },
            "type": "mesh3d"
           }
          ],
          "parcoords": [
           {
            "line": {
             "colorbar": {
              "outlinewidth": 0,
              "ticks": ""
             }
            },
            "type": "parcoords"
           }
          ],
          "pie": [
           {
            "automargin": true,
            "type": "pie"
           }
          ],
          "scatter": [
           {
            "fillpattern": {
             "fillmode": "overlay",
             "size": 10,
             "solidity": 0.2
            },
            "type": "scatter"
           }
          ],
          "scatter3d": [
           {
            "line": {
             "colorbar": {
              "outlinewidth": 0,
              "ticks": ""
             }
            },
            "marker": {
             "colorbar": {
              "outlinewidth": 0,
              "ticks": ""
             }
            },
            "type": "scatter3d"
           }
          ],
          "scattercarpet": [
           {
            "marker": {
             "colorbar": {
              "outlinewidth": 0,
              "ticks": ""
             }
            },
            "type": "scattercarpet"
           }
          ],
          "scattergeo": [
           {
            "marker": {
             "colorbar": {
              "outlinewidth": 0,
              "ticks": ""
             }
            },
            "type": "scattergeo"
           }
          ],
          "scattergl": [
           {
            "marker": {
             "colorbar": {
              "outlinewidth": 0,
              "ticks": ""
             }
            },
            "type": "scattergl"
           }
          ],
          "scattermapbox": [
           {
            "marker": {
             "colorbar": {
              "outlinewidth": 0,
              "ticks": ""
             }
            },
            "type": "scattermapbox"
           }
          ],
          "scatterpolar": [
           {
            "marker": {
             "colorbar": {
              "outlinewidth": 0,
              "ticks": ""
             }
            },
            "type": "scatterpolar"
           }
          ],
          "scatterpolargl": [
           {
            "marker": {
             "colorbar": {
              "outlinewidth": 0,
              "ticks": ""
             }
            },
            "type": "scatterpolargl"
           }
          ],
          "scatterternary": [
           {
            "marker": {
             "colorbar": {
              "outlinewidth": 0,
              "ticks": ""
             }
            },
            "type": "scatterternary"
           }
          ],
          "surface": [
           {
            "colorbar": {
             "outlinewidth": 0,
             "ticks": ""
            },
            "colorscale": [
             [
              0,
              "#0d0887"
             ],
             [
              0.1111111111111111,
              "#46039f"
             ],
             [
              0.2222222222222222,
              "#7201a8"
             ],
             [
              0.3333333333333333,
              "#9c179e"
             ],
             [
              0.4444444444444444,
              "#bd3786"
             ],
             [
              0.5555555555555556,
              "#d8576b"
             ],
             [
              0.6666666666666666,
              "#ed7953"
             ],
             [
              0.7777777777777778,
              "#fb9f3a"
             ],
             [
              0.8888888888888888,
              "#fdca26"
             ],
             [
              1,
              "#f0f921"
             ]
            ],
            "type": "surface"
           }
          ],
          "table": [
           {
            "cells": {
             "fill": {
              "color": "#EBF0F8"
             },
             "line": {
              "color": "white"
             }
            },
            "header": {
             "fill": {
              "color": "#C8D4E3"
             },
             "line": {
              "color": "white"
             }
            },
            "type": "table"
           }
          ]
         },
         "layout": {
          "annotationdefaults": {
           "arrowcolor": "#2a3f5f",
           "arrowhead": 0,
           "arrowwidth": 1
          },
          "autotypenumbers": "strict",
          "coloraxis": {
           "colorbar": {
            "outlinewidth": 0,
            "ticks": ""
           }
          },
          "colorscale": {
           "diverging": [
            [
             0,
             "#8e0152"
            ],
            [
             0.1,
             "#c51b7d"
            ],
            [
             0.2,
             "#de77ae"
            ],
            [
             0.3,
             "#f1b6da"
            ],
            [
             0.4,
             "#fde0ef"
            ],
            [
             0.5,
             "#f7f7f7"
            ],
            [
             0.6,
             "#e6f5d0"
            ],
            [
             0.7,
             "#b8e186"
            ],
            [
             0.8,
             "#7fbc41"
            ],
            [
             0.9,
             "#4d9221"
            ],
            [
             1,
             "#276419"
            ]
           ],
           "sequential": [
            [
             0,
             "#0d0887"
            ],
            [
             0.1111111111111111,
             "#46039f"
            ],
            [
             0.2222222222222222,
             "#7201a8"
            ],
            [
             0.3333333333333333,
             "#9c179e"
            ],
            [
             0.4444444444444444,
             "#bd3786"
            ],
            [
             0.5555555555555556,
             "#d8576b"
            ],
            [
             0.6666666666666666,
             "#ed7953"
            ],
            [
             0.7777777777777778,
             "#fb9f3a"
            ],
            [
             0.8888888888888888,
             "#fdca26"
            ],
            [
             1,
             "#f0f921"
            ]
           ],
           "sequentialminus": [
            [
             0,
             "#0d0887"
            ],
            [
             0.1111111111111111,
             "#46039f"
            ],
            [
             0.2222222222222222,
             "#7201a8"
            ],
            [
             0.3333333333333333,
             "#9c179e"
            ],
            [
             0.4444444444444444,
             "#bd3786"
            ],
            [
             0.5555555555555556,
             "#d8576b"
            ],
            [
             0.6666666666666666,
             "#ed7953"
            ],
            [
             0.7777777777777778,
             "#fb9f3a"
            ],
            [
             0.8888888888888888,
             "#fdca26"
            ],
            [
             1,
             "#f0f921"
            ]
           ]
          },
          "colorway": [
           "#636efa",
           "#EF553B",
           "#00cc96",
           "#ab63fa",
           "#FFA15A",
           "#19d3f3",
           "#FF6692",
           "#B6E880",
           "#FF97FF",
           "#FECB52"
          ],
          "font": {
           "color": "#2a3f5f"
          },
          "geo": {
           "bgcolor": "white",
           "lakecolor": "white",
           "landcolor": "#E5ECF6",
           "showlakes": true,
           "showland": true,
           "subunitcolor": "white"
          },
          "hoverlabel": {
           "align": "left"
          },
          "hovermode": "closest",
          "mapbox": {
           "style": "light"
          },
          "paper_bgcolor": "white",
          "plot_bgcolor": "#E5ECF6",
          "polar": {
           "angularaxis": {
            "gridcolor": "white",
            "linecolor": "white",
            "ticks": ""
           },
           "bgcolor": "#E5ECF6",
           "radialaxis": {
            "gridcolor": "white",
            "linecolor": "white",
            "ticks": ""
           }
          },
          "scene": {
           "xaxis": {
            "backgroundcolor": "#E5ECF6",
            "gridcolor": "white",
            "gridwidth": 2,
            "linecolor": "white",
            "showbackground": true,
            "ticks": "",
            "zerolinecolor": "white"
           },
           "yaxis": {
            "backgroundcolor": "#E5ECF6",
            "gridcolor": "white",
            "gridwidth": 2,
            "linecolor": "white",
            "showbackground": true,
            "ticks": "",
            "zerolinecolor": "white"
           },
           "zaxis": {
            "backgroundcolor": "#E5ECF6",
            "gridcolor": "white",
            "gridwidth": 2,
            "linecolor": "white",
            "showbackground": true,
            "ticks": "",
            "zerolinecolor": "white"
           }
          },
          "shapedefaults": {
           "line": {
            "color": "#2a3f5f"
           }
          },
          "ternary": {
           "aaxis": {
            "gridcolor": "white",
            "linecolor": "white",
            "ticks": ""
           },
           "baxis": {
            "gridcolor": "white",
            "linecolor": "white",
            "ticks": ""
           },
           "bgcolor": "#E5ECF6",
           "caxis": {
            "gridcolor": "white",
            "linecolor": "white",
            "ticks": ""
           }
          },
          "title": {
           "x": 0.05
          },
          "xaxis": {
           "automargin": true,
           "gridcolor": "white",
           "linecolor": "white",
           "ticks": "",
           "title": {
            "standoff": 15
           },
           "zerolinecolor": "white",
           "zerolinewidth": 2
          },
          "yaxis": {
           "automargin": true,
           "gridcolor": "white",
           "linecolor": "white",
           "ticks": "",
           "title": {
            "standoff": 15
           },
           "zerolinecolor": "white",
           "zerolinewidth": 2
          }
         }
        },
        "title": {
         "text": "Median Charges by Region"
        }
       }
      }
     },
     "metadata": {},
     "output_type": "display_data"
    }
   ],
   "source": [
    "# Average charge by Region\n",
    "df[\"region\"].unique()\n",
    "\n",
    "# Median Charges per Region\n",
    "southwest = np.median(df[\"charges\"].loc[df[\"region\"] == \"southwest\"].values)\n",
    "southeast = np.median(df[\"charges\"].loc[df[\"region\"] == \"southeast\"].values)\n",
    "northwest = np.median(df[\"charges\"].loc[df[\"region\"] == \"northwest\"].values)\n",
    "northeast = np.median(df[\"charges\"].loc[df[\"region\"] == \"northeast\"].values)\n",
    "\n",
    "lst = [southwest, southeast, northwest, northeast]\n",
    "\n",
    "data = [go.Scatterpolar(\n",
    "  r = [southwest, southeast, northwest, northeast],\n",
    "  theta = ['SouthWest', 'SouthEast', 'NorthWest', 'NorthEast'],\n",
    "  fill = 'toself'\n",
    ")]\n",
    "\n",
    "layout = go.Layout(\n",
    "    title=\"Median Charges by Region\",\n",
    "  \n",
    "  polar = dict(\n",
    "    radialaxis = dict(\n",
    "      visible = True,\n",
    "      range = [0, max(lst)]\n",
    "    )\n",
    "  ),\n",
    "  showlegend = False\n",
    ")\n",
    "\n",
    "\n",
    "fig = go.Figure(data=data, layout=layout)\n",
    "iplot(fig, filename = \"radar/basic\")"
   ]
  },
  {
   "cell_type": "markdown",
   "metadata": {},
   "source": [
    "## Data Cleaning"
   ]
  },
  {
   "cell_type": "code",
   "execution_count": 10,
   "metadata": {},
   "outputs": [
    {
     "name": "stdout",
     "output_type": "stream",
     "text": [
      "      age     sex     bmi children smoker     region      charges  \\\n",
      "0      19  female  27.900        0    yes  southwest  16884.92400   \n",
      "1      18    male  33.770        1     no  southeast   1725.55230   \n",
      "2      28    male  33.000        3     no  southeast   4449.46200   \n",
      "3      33    male  22.705        0     no  northwest  21984.47061   \n",
      "4      32    male  28.880        0     no  northwest   3866.85520   \n",
      "...   ...     ...     ...      ...    ...        ...          ...   \n",
      "1333   50    male  30.970        3     no  northwest  10600.54830   \n",
      "1334   18  female  31.920        0     no  northeast   2205.98080   \n",
      "1335   18  female  36.850        0     no  southeast   1629.83350   \n",
      "1336   21  female  25.800        0     no  southwest   2007.94500   \n",
      "1337   61  female  29.070        0    yes  northwest  29141.36030   \n",
      "\n",
      "                age_cat  \n",
      "0           Young Adult  \n",
      "1           Young Adult  \n",
      "2           Young Adult  \n",
      "3           Young Adult  \n",
      "4           Young Adult  \n",
      "...                 ...  \n",
      "1333  Middle Aged Adult  \n",
      "1334        Young Adult  \n",
      "1335        Young Adult  \n",
      "1336        Young Adult  \n",
      "1337             Senior  \n",
      "\n",
      "[1338 rows x 8 columns]\n",
      "      age     sex     bmi children smoker     region      charges  \\\n",
      "0      19  female  27.900        0    yes  southwest  16884.92400   \n",
      "1      18    male  33.770        1     no  southeast   1725.55230   \n",
      "2      28    male  33.000        3     no  southeast   4449.46200   \n",
      "3      33    male  22.705        0     no  northwest  21984.47061   \n",
      "4      32    male  28.880        0     no  northwest   3866.85520   \n",
      "...   ...     ...     ...      ...    ...        ...          ...   \n",
      "1333   50    male  30.970        3     no  northwest  10600.54830   \n",
      "1334   18  female  31.920        0     no  northeast   2205.98080   \n",
      "1335   18  female  36.850        0     no  southeast   1629.83350   \n",
      "1336   21  female  25.800        0     no  southwest   2007.94500   \n",
      "1337   61  female  29.070        0    yes  northwest  29141.36030   \n",
      "\n",
      "                age_cat  \n",
      "0           Young Adult  \n",
      "1           Young Adult  \n",
      "2           Young Adult  \n",
      "3           Young Adult  \n",
      "4           Young Adult  \n",
      "...                 ...  \n",
      "1333  Middle Aged Adult  \n",
      "1334        Young Adult  \n",
      "1335        Young Adult  \n",
      "1336        Young Adult  \n",
      "1337             Senior  \n",
      "\n",
      "[1337 rows x 8 columns]\n"
     ]
    }
   ],
   "source": [
    "print(df)\n",
    "\n",
    "# Clean null values (drop rows with any NaN) and remove duplicates\n",
    "df_cleaned = df.dropna().drop_duplicates()\n",
    "\n",
    "# Print the cleaned dataframe\n",
    "print(df_cleaned)"
   ]
  },
  {
   "cell_type": "markdown",
   "metadata": {},
   "source": [
    "## Data Splitting"
   ]
  },
  {
   "cell_type": "code",
   "execution_count": 11,
   "metadata": {},
   "outputs": [],
   "source": [
    "# In this section we will preprocess our data\n",
    "# First we should split our original data.\n",
    "\n",
    "from sklearn.model_selection import train_test_split\n",
    "\n",
    "# Shuffle our dataset before splitting\n",
    "\n",
    "df_cleaned = df_cleaned.sample(frac=1, random_state=1)\n",
    "\n",
    "X = df_cleaned.drop(\"charges\", axis=1)\n",
    "y = df_cleaned[\"charges\"]\n",
    "\n",
    "# Split into both training and testing\n",
    "X_train, X_test, y_train, y_test = train_test_split(X, y, test_size=0.2)"
   ]
  },
  {
   "cell_type": "markdown",
   "metadata": {},
   "source": [
    "## Categorical Encoding"
   ]
  },
  {
   "cell_type": "code",
   "execution_count": 12,
   "metadata": {},
   "outputs": [],
   "source": [
    "from sklearn.base import BaseEstimator, TransformerMixin\n",
    "from sklearn.preprocessing import LabelEncoder\n",
    "from sklearn.utils import check_array\n",
    "from scipy import sparse\n",
    "\n",
    "class CategoricalEncoder(BaseEstimator, TransformerMixin):\n",
    "    def __init__(self, encoding='onehot', categories='auto', dtype=np.float64, handle_unknown='error'):\n",
    "        self.encoding = encoding\n",
    "        self.categories = categories\n",
    "        self.dtype = dtype\n",
    "        self.handle_unknown = handle_unknown\n",
    "\n",
    "    def fit(self, X, y=None):\n",
    "        X = check_array(X, dtype=np.object, accept_sparse='csc')\n",
    "        n_samples, n_features = X.shape\n",
    "        self._label_encoders_ = [LabelEncoder() for _ in range(n_features)]\n",
    "        \n",
    "        for i in range(n_features):\n",
    "            le = self._label_encoders_[i]\n",
    "            Xi = X[:, i]\n",
    "            if self.categories == 'auto':\n",
    "                le.fit(Xi)\n",
    "            else:\n",
    "                valid_mask = np.in1d(Xi, self.categories[i])\n",
    "                if not np.all(valid_mask):\n",
    "                    if self.handle_unknown == 'error':\n",
    "                        diff = np.unique(Xi[~valid_mask])\n",
    "                        raise ValueError(f\"Found unknown categories {diff} in column {i}\")\n",
    "                le.classes_ = np.array(np.sort(self.categories[i]))\n",
    "        self.categories_ = [le.classes_ for le in self._label_encoders_]\n",
    "        return self\n",
    "\n",
    "    def transform(self, X):\n",
    "        X = check_array(X, accept_sparse='csc', dtype=np.object)\n",
    "        n_samples, n_features = X.shape\n",
    "        X_int = np.zeros_like(X, dtype=np.int)\n",
    "        X_mask = np.ones_like(X, dtype=np.bool)\n",
    "        \n",
    "        for i in range(n_features):\n",
    "            valid_mask = np.in1d(X[:, i], self.categories_[i])\n",
    "            if not np.all(valid_mask):\n",
    "                if self.handle_unknown == 'error':\n",
    "                    diff = np.unique(X[~valid_mask, i])\n",
    "                    raise ValueError(f\"Found unknown categories {diff} in column {i}\")\n",
    "                else:\n",
    "                    X_mask[:, i] = valid_mask\n",
    "                    X[:, i][~valid_mask] = self.categories_[i][0]\n",
    "            X_int[:, i] = self._label_encoders_[i].transform(X[:, i])\n",
    "\n",
    "        if self.encoding == 'ordinal':\n",
    "            return X_int.astype(self.dtype)\n",
    "        \n",
    "        mask = X_mask.ravel()\n",
    "        n_values = [cats.shape[0] for cats in self.categories_]\n",
    "        n_values = np.array([0] + n_values)\n",
    "        indices = np.cumsum(n_values)\n",
    "        \n",
    "        column_indices = (X_int + indices[:-1]).ravel()[mask]\n",
    "        row_indices = np.repeat(np.arange(n_samples), n_features)[mask]\n",
    "        data = np.ones(n_samples * n_features)[mask]\n",
    "\n",
    "        out = sparse.csc_matrix((data, (row_indices, column_indices)),\n",
    "                                shape=(n_samples, indices[-1]), dtype=self.dtype).tocsr()\n",
    "        if self.encoding == 'onehot-dense':\n",
    "            return out.toarray()\n",
    "        return out"
   ]
  },
  {
   "cell_type": "code",
   "execution_count": 13,
   "metadata": {},
   "outputs": [],
   "source": [
    "from sklearn.base import BaseEstimator, TransformerMixin\n",
    "\n",
    "# A class to select numerical or categorical columns \n",
    "# since Scikit-Learn doesn't handle DataFrames yet\n",
    "class DataFrameSelector(BaseEstimator, TransformerMixin):\n",
    "    def __init__(self, attribute_names):\n",
    "        self.attribute_names = attribute_names\n",
    "    def fit(self, X, y=None):\n",
    "        return self\n",
    "    def transform(self, X):\n",
    "        return X[self.attribute_names]"
   ]
  },
  {
   "cell_type": "code",
   "execution_count": 14,
   "metadata": {},
   "outputs": [],
   "source": [
    "from sklearn.compose import ColumnTransformer\n",
    "from sklearn.preprocessing import OneHotEncoder\n",
    "from sklearn.preprocessing import StandardScaler\n",
    "\n",
    "numerics = X_train.select_dtypes(exclude=\"object\")\n",
    "categoricals = X_train.select_dtypes(include=\"object\")\n",
    "\n",
    "# Column transformer to handle numerical and categorical pipelines\n",
    "preprocessor = ColumnTransformer(\n",
    "    transformers=[\n",
    "        ('num', StandardScaler(), numerics.columns.tolist()),\n",
    "        ('cat', OneHotEncoder(sparse_output=False), categoricals.columns.tolist())  # Use sparse_output=False\n",
    "    ])\n",
    "\n",
    "# Fit and transform the data\n",
    "scaled_xtrain = preprocessor.fit_transform(X_train)"
   ]
  },
  {
   "cell_type": "markdown",
   "metadata": {},
   "source": [
    "## Modeling"
   ]
  },
  {
   "cell_type": "code",
   "execution_count": 15,
   "metadata": {},
   "outputs": [
    {
     "data": {
      "text/html": [
       "<div>\n",
       "<style scoped>\n",
       "    .dataframe tbody tr th:only-of-type {\n",
       "        vertical-align: middle;\n",
       "    }\n",
       "\n",
       "    .dataframe tbody tr th {\n",
       "        vertical-align: top;\n",
       "    }\n",
       "\n",
       "    .dataframe thead th {\n",
       "        text-align: right;\n",
       "    }\n",
       "</style>\n",
       "<table border=\"1\" class=\"dataframe\">\n",
       "  <thead>\n",
       "    <tr style=\"text-align: right;\">\n",
       "      <th></th>\n",
       "      <th>age</th>\n",
       "      <th>sex</th>\n",
       "      <th>bmi</th>\n",
       "      <th>children</th>\n",
       "      <th>smoker</th>\n",
       "      <th>region</th>\n",
       "      <th>age_cat</th>\n",
       "      <th>charges</th>\n",
       "    </tr>\n",
       "  </thead>\n",
       "  <tbody>\n",
       "    <tr>\n",
       "      <th>317</th>\n",
       "      <td>54</td>\n",
       "      <td>male</td>\n",
       "      <td>32.775</td>\n",
       "      <td>0</td>\n",
       "      <td>no</td>\n",
       "      <td>northeast</td>\n",
       "      <td>Middle Aged Adult</td>\n",
       "      <td>10435.06525</td>\n",
       "    </tr>\n",
       "    <tr>\n",
       "      <th>661</th>\n",
       "      <td>57</td>\n",
       "      <td>female</td>\n",
       "      <td>23.980</td>\n",
       "      <td>1</td>\n",
       "      <td>no</td>\n",
       "      <td>southeast</td>\n",
       "      <td>Senior</td>\n",
       "      <td>22192.43711</td>\n",
       "    </tr>\n",
       "    <tr>\n",
       "      <th>1320</th>\n",
       "      <td>31</td>\n",
       "      <td>male</td>\n",
       "      <td>31.065</td>\n",
       "      <td>3</td>\n",
       "      <td>no</td>\n",
       "      <td>northwest</td>\n",
       "      <td>Young Adult</td>\n",
       "      <td>5425.02335</td>\n",
       "    </tr>\n",
       "    <tr>\n",
       "      <th>385</th>\n",
       "      <td>19</td>\n",
       "      <td>male</td>\n",
       "      <td>34.400</td>\n",
       "      <td>0</td>\n",
       "      <td>no</td>\n",
       "      <td>southwest</td>\n",
       "      <td>Young Adult</td>\n",
       "      <td>1261.85900</td>\n",
       "    </tr>\n",
       "    <tr>\n",
       "      <th>493</th>\n",
       "      <td>61</td>\n",
       "      <td>male</td>\n",
       "      <td>43.400</td>\n",
       "      <td>0</td>\n",
       "      <td>no</td>\n",
       "      <td>southwest</td>\n",
       "      <td>Senior</td>\n",
       "      <td>12574.04900</td>\n",
       "    </tr>\n",
       "  </tbody>\n",
       "</table>\n",
       "</div>"
      ],
      "text/plain": [
       "      age     sex     bmi children smoker     region            age_cat  \\\n",
       "317    54    male  32.775        0     no  northeast  Middle Aged Adult   \n",
       "661    57  female  23.980        1     no  southeast             Senior   \n",
       "1320   31    male  31.065        3     no  northwest        Young Adult   \n",
       "385    19    male  34.400        0     no  southwest        Young Adult   \n",
       "493    61    male  43.400        0     no  southwest             Senior   \n",
       "\n",
       "          charges  \n",
       "317   10435.06525  \n",
       "661   22192.43711  \n",
       "1320   5425.02335  \n",
       "385    1261.85900  \n",
       "493   12574.04900  "
      ]
     },
     "execution_count": 15,
     "metadata": {},
     "output_type": "execute_result"
    }
   ],
   "source": [
    "train = X_train.join(y_train, lsuffix='_X_train', rsuffix='_y_train')\n",
    "test = X_test.join(y_test, lsuffix='_X_test', rsuffix='_y_test')\n",
    "\n",
    "# Random seed\n",
    "np.random.seed(42)\n",
    "\n",
    "# Shuffle Randomly the training set\n",
    "train = train.sample(frac=1)\n",
    "train.head()"
   ]
  },
  {
   "cell_type": "code",
   "execution_count": 16,
   "metadata": {},
   "outputs": [
    {
     "name": "stdout",
     "output_type": "stream",
     "text": [
      "                            OLS Regression Results                            \n",
      "==============================================================================\n",
      "Dep. Variable:                      y   R-squared:                       0.745\n",
      "Model:                            OLS   Adj. R-squared:                  0.741\n",
      "Method:                 Least Squares   F-statistic:                     219.7\n",
      "Date:                Sat, 04 Jan 2025   Prob (F-statistic):          1.50e-300\n",
      "Time:                        21:13:54   Log-Likelihood:                -10845.\n",
      "No. Observations:                1069   AIC:                         2.172e+04\n",
      "Df Residuals:                    1054   BIC:                         2.180e+04\n",
      "Df Model:                          14                                         \n",
      "Covariance Type:            nonrobust                                         \n",
      "==============================================================================\n",
      "                 coef    std err          t      P>|t|      [0.025      0.975]\n",
      "------------------------------------------------------------------------------\n",
      "const       7739.5644    181.122     42.731      0.000    7384.164    8094.965\n",
      "x1          3690.3408    521.426      7.077      0.000    2667.189    4713.492\n",
      "x2          2086.9543    199.775     10.447      0.000    1694.952    2478.957\n",
      "x3          4075.0707    217.661     18.722      0.000    3647.973    4502.169\n",
      "x4          3664.4937    205.374     17.843      0.000    3261.504    4067.483\n",
      "x5             2.2250    471.202      0.005      0.996    -922.377     926.827\n",
      "x6           458.5476    512.040      0.896      0.371    -546.186    1463.282\n",
      "x7          1569.4924    549.730      2.855      0.004     490.803    2648.182\n",
      "x8           986.6120    617.485      1.598      0.110    -225.028    2198.252\n",
      "x9          2358.5069   1193.337      1.976      0.048      16.921    4700.093\n",
      "x10         2364.1804   1684.835      1.403      0.161    -941.832    5670.192\n",
      "x11        -8137.4850    227.132    -35.827      0.000   -8583.168   -7691.802\n",
      "x12         1.588e+04    281.324     56.437      0.000    1.53e+04    1.64e+04\n",
      "x13         2660.5001    336.637      7.903      0.000    1999.944    3321.056\n",
      "x14         2214.3609    347.089      6.380      0.000    1533.298    2895.424\n",
      "x15         1400.8055    331.596      4.224      0.000     750.142    2051.469\n",
      "x16         1463.8978    337.328      4.340      0.000     801.986    2125.809\n",
      "x17         2147.2883    293.009      7.328      0.000    1572.341    2722.236\n",
      "x18         2886.1676    728.629      3.961      0.000    1456.439    4315.896\n",
      "x19         2706.1085    714.706      3.786      0.000    1303.699    4108.518\n",
      "==============================================================================\n",
      "Omnibus:                      244.238   Durbin-Watson:                   1.992\n",
      "Prob(Omnibus):                  0.000   Jarque-Bera (JB):              575.128\n",
      "Skew:                           1.229   Prob(JB):                    1.30e-125\n",
      "Kurtosis:                       5.622   Cond. No.                     2.81e+16\n",
      "==============================================================================\n",
      "\n",
      "Notes:\n",
      "[1] Standard Errors assume that the covariance matrix of the errors is correctly specified.\n",
      "[2] The smallest eigenvalue is 4.25e-30. This might indicate that there are\n",
      "strong multicollinearity problems or that the design matrix is singular.\n"
     ]
    }
   ],
   "source": [
    "X_train = sm.add_constant(scaled_xtrain)\n",
    "y_train = y_train.values\n",
    "\n",
    "model = sm.OLS(y_train, X_train)\n",
    "results = model.fit()\n",
    "print(results.summary())"
   ]
  },
  {
   "cell_type": "code",
   "execution_count": 17,
   "metadata": {},
   "outputs": [
    {
     "name": "stdout",
     "output_type": "stream",
     "text": [
      "Parameters:  [ 7.73956439e+03  3.69034080e+03  2.08695433e+03  4.07507068e+03\n",
      "  3.66449371e+03  2.22497984e+00  4.58547605e+02  1.56949242e+03\n",
      "  9.86612023e+02  2.35850694e+03  2.36418043e+03 -8.13748504e+03\n",
      "  1.58770494e+04  2.66050012e+03  2.21436088e+03  1.40080555e+03\n",
      "  1.46389785e+03  2.14728832e+03  2.88616758e+03  2.70610849e+03]\n",
      "R2:  0.7447702582887035\n"
     ]
    }
   ],
   "source": [
    "print('Parameters: ', results.params)\n",
    "print('R2: ', results.rsquared)"
   ]
  },
  {
   "cell_type": "code",
   "execution_count": 18,
   "metadata": {},
   "outputs": [
    {
     "data": {
      "image/png": "[encoded data removed]",
      "text/plain": [
       "<Figure size 1000x600 with 1 Axes>"
      ]
     },
     "metadata": {},
     "output_type": "display_data"
    }
   ],
   "source": [
    "from sklearn.cluster import KMeans\n",
    "import matplotlib.pyplot as plt\n",
    "\n",
    "# Replace this with your actual DataFrame\n",
    "X = df[[\"bmi\", \"charges\"]]\n",
    "\n",
    "# Compute inertia for different values of k\n",
    "inertia = []\n",
    "k_range = range(1, 11)  # Test k from 1 to 10\n",
    "for k in k_range:\n",
    "    kmeans = KMeans(n_clusters=k, random_state=42)\n",
    "    kmeans.fit(X)\n",
    "    inertia.append(kmeans.inertia_)\n",
    "\n",
    "# Plot the elbow curve\n",
    "plt.figure(figsize=(10, 6))\n",
    "plt.plot(k_range, inertia, marker='o', linestyle='--')\n",
    "plt.xlabel('Number of Clusters (k)')\n",
    "plt.ylabel('Inertia')\n",
    "plt.title('Elbow Method for Optimal k')\n",
    "plt.show()"
   ]
  },
  {
   "cell_type": "code",
   "execution_count": 19,
   "metadata": {},
   "outputs": [
    {
     "data": {
      "text/html": [
       "<style>#sk-container-id-1 {\n",
       "  /* Definition of color scheme common for light and dark mode */\n",
       "  --sklearn-color-text: black;\n",
       "  --sklearn-color-line: gray;\n",
       "  /* Definition of color scheme for unfitted estimators */\n",
       "  --sklearn-color-unfitted-level-0: #fff5e6;\n",
       "  --sklearn-color-unfitted-level-1: #f6e4d2;\n",
       "  --sklearn-color-unfitted-level-2: #ffe0b3;\n",
       "  --sklearn-color-unfitted-level-3: chocolate;\n",
       "  /* Definition of color scheme for fitted estimators */\n",
       "  --sklearn-color-fitted-level-0: #f0f8ff;\n",
       "  --sklearn-color-fitted-level-1: #d4ebff;\n",
       "  --sklearn-color-fitted-level-2: #b3dbfd;\n",
       "  --sklearn-color-fitted-level-3: cornflowerblue;\n",
       "\n",
       "  /* Specific color for light theme */\n",
       "  --sklearn-color-text-on-default-background: var(--sg-text-color, var(--theme-code-foreground, var(--jp-content-font-color1, black)));\n",
       "  --sklearn-color-background: var(--sg-background-color, var(--theme-background, var(--jp-layout-color0, white)));\n",
       "  --sklearn-color-border-box: var(--sg-text-color, var(--theme-code-foreground, var(--jp-content-font-color1, black)));\n",
       "  --sklearn-color-icon: #696969;\n",
       "\n",
       "  @media (prefers-color-scheme: dark) {\n",
       "    /* Redefinition of color scheme for dark theme */\n",
       "    --sklearn-color-text-on-default-background: var(--sg-text-color, var(--theme-code-foreground, var(--jp-content-font-color1, white)));\n",
       "    --sklearn-color-background: var(--sg-background-color, var(--theme-background, var(--jp-layout-color0, #111)));\n",
       "    --sklearn-color-border-box: var(--sg-text-color, var(--theme-code-foreground, var(--jp-content-font-color1, white)));\n",
       "    --sklearn-color-icon: #878787;\n",
       "  }\n",
       "}\n",
       "\n",
       "#sk-container-id-1 {\n",
       "  color: var(--sklearn-color-text);\n",
       "}\n",
       "\n",
       "#sk-container-id-1 pre {\n",
       "  padding: 0;\n",
       "}\n",
       "\n",
       "#sk-container-id-1 input.sk-hidden--visually {\n",
       "  border: 0;\n",
       "  clip: rect(1px 1px 1px 1px);\n",
       "  clip: rect(1px, 1px, 1px, 1px);\n",
       "  height: 1px;\n",
       "  margin: -1px;\n",
       "  overflow: hidden;\n",
       "  padding: 0;\n",
       "  position: absolute;\n",
       "  width: 1px;\n",
       "}\n",
       "\n",
       "#sk-container-id-1 div.sk-dashed-wrapped {\n",
       "  border: 1px dashed var(--sklearn-color-line);\n",
       "  margin: 0 0.4em 0.5em 0.4em;\n",
       "  box-sizing: border-box;\n",
       "  padding-bottom: 0.4em;\n",
       "  background-color: var(--sklearn-color-background);\n",
       "}\n",
       "\n",
       "#sk-container-id-1 div.sk-container {\n",
       "  /* jupyter's `normalize.less` sets `[hidden] { display: none; }`\n",
       "     but bootstrap.min.css set `[hidden] { display: none !important; }`\n",
       "     so we also need the `!important` here to be able to override the\n",
       "     default hidden behavior on the sphinx rendered scikit-learn.org.\n",
       "     See: https://github.com/scikit-learn/scikit-learn/issues/21755 */\n",
       "  display: inline-block !important;\n",
       "  position: relative;\n",
       "}\n",
       "\n",
       "#sk-container-id-1 div.sk-text-repr-fallback {\n",
       "  display: none;\n",
       "}\n",
       "\n",
       "div.sk-parallel-item,\n",
       "div.sk-serial,\n",
       "div.sk-item {\n",
       "  /* draw centered vertical line to link estimators */\n",
       "  background-image: linear-gradient(var(--sklearn-color-text-on-default-background), var(--sklearn-color-text-on-default-background));\n",
       "  background-size: 2px 100%;\n",
       "  background-repeat: no-repeat;\n",
       "  background-position: center center;\n",
       "}\n",
       "\n",
       "/* Parallel-specific style estimator block */\n",
       "\n",
       "#sk-container-id-1 div.sk-parallel-item::after {\n",
       "  content: \"\";\n",
       "  width: 100%;\n",
       "  border-bottom: 2px solid var(--sklearn-color-text-on-default-background);\n",
       "  flex-grow: 1;\n",
       "}\n",
       "\n",
       "#sk-container-id-1 div.sk-parallel {\n",
       "  display: flex;\n",
       "  align-items: stretch;\n",
       "  justify-content: center;\n",
       "  background-color: var(--sklearn-color-background);\n",
       "  position: relative;\n",
       "}\n",
       "\n",
       "#sk-container-id-1 div.sk-parallel-item {\n",
       "  display: flex;\n",
       "  flex-direction: column;\n",
       "}\n",
       "\n",
       "#sk-container-id-1 div.sk-parallel-item:first-child::after {\n",
       "  align-self: flex-end;\n",
       "  width: 50%;\n",
       "}\n",
       "\n",
       "#sk-container-id-1 div.sk-parallel-item:last-child::after {\n",
       "  align-self: flex-start;\n",
       "  width: 50%;\n",
       "}\n",
       "\n",
       "#sk-container-id-1 div.sk-parallel-item:only-child::after {\n",
       "  width: 0;\n",
       "}\n",
       "\n",
       "/* Serial-specific style estimator block */\n",
       "\n",
       "#sk-container-id-1 div.sk-serial {\n",
       "  display: flex;\n",
       "  flex-direction: column;\n",
       "  align-items: center;\n",
       "  background-color: var(--sklearn-color-background);\n",
       "  padding-right: 1em;\n",
       "  padding-left: 1em;\n",
       "}\n",
       "\n",
       "\n",
       "/* Toggleable style: style used for estimator/Pipeline/ColumnTransformer box that is\n",
       "clickable and can be expanded/collapsed.\n",
       "- Pipeline and ColumnTransformer use this feature and define the default style\n",
       "- Estimators will overwrite some part of the style using the `sk-estimator` class\n",
       "*/\n",
       "\n",
       "/* Pipeline and ColumnTransformer style (default) */\n",
       "\n",
       "#sk-container-id-1 div.sk-toggleable {\n",
       "  /* Default theme specific background. It is overwritten whether we have a\n",
       "  specific estimator or a Pipeline/ColumnTransformer */\n",
       "  background-color: var(--sklearn-color-background);\n",
       "}\n",
       "\n",
       "/* Toggleable label */\n",
       "#sk-container-id-1 label.sk-toggleable__label {\n",
       "  cursor: pointer;\n",
       "  display: block;\n",
       "  width: 100%;\n",
       "  margin-bottom: 0;\n",
       "  padding: 0.5em;\n",
       "  box-sizing: border-box;\n",
       "  text-align: center;\n",
       "}\n",
       "\n",
       "#sk-container-id-1 label.sk-toggleable__label-arrow:before {\n",
       "  /* Arrow on the left of the label */\n",
       "  content: \"▸\";\n",
       "  float: left;\n",
       "  margin-right: 0.25em;\n",
       "  color: var(--sklearn-color-icon);\n",
       "}\n",
       "\n",
       "#sk-container-id-1 label.sk-toggleable__label-arrow:hover:before {\n",
       "  color: var(--sklearn-color-text);\n",
       "}\n",
       "\n",
       "/* Toggleable content - dropdown */\n",
       "\n",
       "#sk-container-id-1 div.sk-toggleable__content {\n",
       "  max-height: 0;\n",
       "  max-width: 0;\n",
       "  overflow: hidden;\n",
       "  text-align: left;\n",
       "  /* unfitted */\n",
       "  background-color: var(--sklearn-color-unfitted-level-0);\n",
       "}\n",
       "\n",
       "#sk-container-id-1 div.sk-toggleable__content.fitted {\n",
       "  /* fitted */\n",
       "  background-color: var(--sklearn-color-fitted-level-0);\n",
       "}\n",
       "\n",
       "#sk-container-id-1 div.sk-toggleable__content pre {\n",
       "  margin: 0.2em;\n",
       "  border-radius: 0.25em;\n",
       "  color: var(--sklearn-color-text);\n",
       "  /* unfitted */\n",
       "  background-color: var(--sklearn-color-unfitted-level-0);\n",
       "}\n",
       "\n",
       "#sk-container-id-1 div.sk-toggleable__content.fitted pre {\n",
       "  /* unfitted */\n",
       "  background-color: var(--sklearn-color-fitted-level-0);\n",
       "}\n",
       "\n",
       "#sk-container-id-1 input.sk-toggleable__control:checked~div.sk-toggleable__content {\n",
       "  /* Expand drop-down */\n",
       "  max-height: 200px;\n",
       "  max-width: 100%;\n",
       "  overflow: auto;\n",
       "}\n",
       "\n",
       "#sk-container-id-1 input.sk-toggleable__control:checked~label.sk-toggleable__label-arrow:before {\n",
       "  content: \"▾\";\n",
       "}\n",
       "\n",
       "/* Pipeline/ColumnTransformer-specific style */\n",
       "\n",
       "#sk-container-id-1 div.sk-label input.sk-toggleable__control:checked~label.sk-toggleable__label {\n",
       "  color: var(--sklearn-color-text);\n",
       "  background-color: var(--sklearn-color-unfitted-level-2);\n",
       "}\n",
       "\n",
       "#sk-container-id-1 div.sk-label.fitted input.sk-toggleable__control:checked~label.sk-toggleable__label {\n",
       "  background-color: var(--sklearn-color-fitted-level-2);\n",
       "}\n",
       "\n",
       "/* Estimator-specific style */\n",
       "\n",
       "/* Colorize estimator box */\n",
       "#sk-container-id-1 div.sk-estimator input.sk-toggleable__control:checked~label.sk-toggleable__label {\n",
       "  /* unfitted */\n",
       "  background-color: var(--sklearn-color-unfitted-level-2);\n",
       "}\n",
       "\n",
       "#sk-container-id-1 div.sk-estimator.fitted input.sk-toggleable__control:checked~label.sk-toggleable__label {\n",
       "  /* fitted */\n",
       "  background-color: var(--sklearn-color-fitted-level-2);\n",
       "}\n",
       "\n",
       "#sk-container-id-1 div.sk-label label.sk-toggleable__label,\n",
       "#sk-container-id-1 div.sk-label label {\n",
       "  /* The background is the default theme color */\n",
       "  color: var(--sklearn-color-text-on-default-background);\n",
       "}\n",
       "\n",
       "/* On hover, darken the color of the background */\n",
       "#sk-container-id-1 div.sk-label:hover label.sk-toggleable__label {\n",
       "  color: var(--sklearn-color-text);\n",
       "  background-color: var(--sklearn-color-unfitted-level-2);\n",
       "}\n",
       "\n",
       "/* Label box, darken color on hover, fitted */\n",
       "#sk-container-id-1 div.sk-label.fitted:hover label.sk-toggleable__label.fitted {\n",
       "  color: var(--sklearn-color-text);\n",
       "  background-color: var(--sklearn-color-fitted-level-2);\n",
       "}\n",
       "\n",
       "/* Estimator label */\n",
       "\n",
       "#sk-container-id-1 div.sk-label label {\n",
       "  font-family: monospace;\n",
       "  font-weight: bold;\n",
       "  display: inline-block;\n",
       "  line-height: 1.2em;\n",
       "}\n",
       "\n",
       "#sk-container-id-1 div.sk-label-container {\n",
       "  text-align: center;\n",
       "}\n",
       "\n",
       "/* Estimator-specific */\n",
       "#sk-container-id-1 div.sk-estimator {\n",
       "  font-family: monospace;\n",
       "  border: 1px dotted var(--sklearn-color-border-box);\n",
       "  border-radius: 0.25em;\n",
       "  box-sizing: border-box;\n",
       "  margin-bottom: 0.5em;\n",
       "  /* unfitted */\n",
       "  background-color: var(--sklearn-color-unfitted-level-0);\n",
       "}\n",
       "\n",
       "#sk-container-id-1 div.sk-estimator.fitted {\n",
       "  /* fitted */\n",
       "  background-color: var(--sklearn-color-fitted-level-0);\n",
       "}\n",
       "\n",
       "/* on hover */\n",
       "#sk-container-id-1 div.sk-estimator:hover {\n",
       "  /* unfitted */\n",
       "  background-color: var(--sklearn-color-unfitted-level-2);\n",
       "}\n",
       "\n",
       "#sk-container-id-1 div.sk-estimator.fitted:hover {\n",
       "  /* fitted */\n",
       "  background-color: var(--sklearn-color-fitted-level-2);\n",
       "}\n",
       "\n",
       "/* Specification for estimator info (e.g. \"i\" and \"?\") */\n",
       "\n",
       "/* Common style for \"i\" and \"?\" */\n",
       "\n",
       ".sk-estimator-doc-link,\n",
       "a:link.sk-estimator-doc-link,\n",
       "a:visited.sk-estimator-doc-link {\n",
       "  float: right;\n",
       "  font-size: smaller;\n",
       "  line-height: 1em;\n",
       "  font-family: monospace;\n",
       "  background-color: var(--sklearn-color-background);\n",
       "  border-radius: 1em;\n",
       "  height: 1em;\n",
       "  width: 1em;\n",
       "  text-decoration: none !important;\n",
       "  margin-left: 1ex;\n",
       "  /* unfitted */\n",
       "  border: var(--sklearn-color-unfitted-level-1) 1pt solid;\n",
       "  color: var(--sklearn-color-unfitted-level-1);\n",
       "}\n",
       "\n",
       ".sk-estimator-doc-link.fitted,\n",
       "a:link.sk-estimator-doc-link.fitted,\n",
       "a:visited.sk-estimator-doc-link.fitted {\n",
       "  /* fitted */\n",
       "  border: var(--sklearn-color-fitted-level-1) 1pt solid;\n",
       "  color: var(--sklearn-color-fitted-level-1);\n",
       "}\n",
       "\n",
       "/* On hover */\n",
       "div.sk-estimator:hover .sk-estimator-doc-link:hover,\n",
       ".sk-estimator-doc-link:hover,\n",
       "div.sk-label-container:hover .sk-estimator-doc-link:hover,\n",
       ".sk-estimator-doc-link:hover {\n",
       "  /* unfitted */\n",
       "  background-color: var(--sklearn-color-unfitted-level-3);\n",
       "  color: var(--sklearn-color-background);\n",
       "  text-decoration: none;\n",
       "}\n",
       "\n",
       "div.sk-estimator.fitted:hover .sk-estimator-doc-link.fitted:hover,\n",
       ".sk-estimator-doc-link.fitted:hover,\n",
       "div.sk-label-container:hover .sk-estimator-doc-link.fitted:hover,\n",
       ".sk-estimator-doc-link.fitted:hover {\n",
       "  /* fitted */\n",
       "  background-color: var(--sklearn-color-fitted-level-3);\n",
       "  color: var(--sklearn-color-background);\n",
       "  text-decoration: none;\n",
       "}\n",
       "\n",
       "/* Span, style for the box shown on hovering the info icon */\n",
       ".sk-estimator-doc-link span {\n",
       "  display: none;\n",
       "  z-index: 9999;\n",
       "  position: relative;\n",
       "  font-weight: normal;\n",
       "  right: .2ex;\n",
       "  padding: .5ex;\n",
       "  margin: .5ex;\n",
       "  width: min-content;\n",
       "  min-width: 20ex;\n",
       "  max-width: 50ex;\n",
       "  color: var(--sklearn-color-text);\n",
       "  box-shadow: 2pt 2pt 4pt #999;\n",
       "  /* unfitted */\n",
       "  background: var(--sklearn-color-unfitted-level-0);\n",
       "  border: .5pt solid var(--sklearn-color-unfitted-level-3);\n",
       "}\n",
       "\n",
       ".sk-estimator-doc-link.fitted span {\n",
       "  /* fitted */\n",
       "  background: var(--sklearn-color-fitted-level-0);\n",
       "  border: var(--sklearn-color-fitted-level-3);\n",
       "}\n",
       "\n",
       ".sk-estimator-doc-link:hover span {\n",
       "  display: block;\n",
       "}\n",
       "\n",
       "/* \"?\"-specific style due to the `<a>` HTML tag */\n",
       "\n",
       "#sk-container-id-1 a.estimator_doc_link {\n",
       "  float: right;\n",
       "  font-size: 1rem;\n",
       "  line-height: 1em;\n",
       "  font-family: monospace;\n",
       "  background-color: var(--sklearn-color-background);\n",
       "  border-radius: 1rem;\n",
       "  height: 1rem;\n",
       "  width: 1rem;\n",
       "  text-decoration: none;\n",
       "  /* unfitted */\n",
       "  color: var(--sklearn-color-unfitted-level-1);\n",
       "  border: var(--sklearn-color-unfitted-level-1) 1pt solid;\n",
       "}\n",
       "\n",
       "#sk-container-id-1 a.estimator_doc_link.fitted {\n",
       "  /* fitted */\n",
       "  border: var(--sklearn-color-fitted-level-1) 1pt solid;\n",
       "  color: var(--sklearn-color-fitted-level-1);\n",
       "}\n",
       "\n",
       "/* On hover */\n",
       "#sk-container-id-1 a.estimator_doc_link:hover {\n",
       "  /* unfitted */\n",
       "  background-color: var(--sklearn-color-unfitted-level-3);\n",
       "  color: var(--sklearn-color-background);\n",
       "  text-decoration: none;\n",
       "}\n",
       "\n",
       "#sk-container-id-1 a.estimator_doc_link.fitted:hover {\n",
       "  /* fitted */\n",
       "  background-color: var(--sklearn-color-fitted-level-3);\n",
       "}\n",
       "</style><div id=\"sk-container-id-1\" class=\"sk-top-container\"><div class=\"sk-text-repr-fallback\"><pre>KMeans(n_clusters=3)</pre><b>In a Jupyter environment, please rerun this cell to show the HTML representation or trust the notebook. <br />On GitHub, the HTML representation is unable to render, please try loading this page with nbviewer.org.</b></div><div class=\"sk-container\" hidden><div class=\"sk-item\"><div class=\"sk-estimator fitted sk-toggleable\"><input class=\"sk-toggleable__control sk-hidden--visually\" id=\"sk-estimator-id-1\" type=\"checkbox\" checked><label for=\"sk-estimator-id-1\" class=\"sk-toggleable__label fitted sk-toggleable__label-arrow fitted\">&nbsp;&nbsp;KMeans<a class=\"sk-estimator-doc-link fitted\" rel=\"noreferrer\" target=\"_blank\" href=\"https://scikit-learn.org/1.5/modules/generated/sklearn.cluster.KMeans.html\">?<span>Documentation for KMeans</span></a><span class=\"sk-estimator-doc-link fitted\">i<span>Fitted</span></span></label><div class=\"sk-toggleable__content fitted\"><pre>KMeans(n_clusters=3)</pre></div> </div></div></div></div>"
      ],
      "text/plain": [
       "KMeans(n_clusters=3)"
      ]
     },
     "execution_count": 19,
     "metadata": {},
     "output_type": "execute_result"
    }
   ],
   "source": [
    "from sklearn.cluster import KMeans\n",
    "\n",
    "kmeans = KMeans(n_clusters=3)  \n",
    "kmeans.fit(X)"
   ]
  },
  {
   "cell_type": "code",
   "execution_count": 20,
   "metadata": {},
   "outputs": [
    {
     "data": {
      "image/png": "[encoded data removed]",
      "text/plain": [
       "<Figure size 1200x800 with 1 Axes>"
      ]
     },
     "metadata": {},
     "output_type": "display_data"
    }
   ],
   "source": [
    "fig = plt.figure(figsize=(12,8))\n",
    "\n",
    "# Scatter plot of bmi vs charges, color-coded by cluster labels\n",
    "plt.scatter(X.values[:, 0], X.values[:, 1], c=kmeans.labels_, cmap=\"viridis\", s=25)\n",
    "\n",
    "# Mark the cluster centers with black 'x' markers\n",
    "plt.scatter(kmeans.cluster_centers_[:, 0], kmeans.cluster_centers_[:, 1], color='black', marker=\"x\", s=250)\n",
    "\n",
    "# Add a more specific title and axis labels\n",
    "plt.title(\"KMeans Clustering\", fontsize=16)\n",
    "plt.xlabel(\"BMI\", fontsize=12)\n",
    "plt.ylabel(\"Charges\", fontsize=12)\n",
    "\n",
    "# Show the plot\n",
    "plt.show()"
   ]
  },
  {
   "cell_type": "code",
   "execution_count": 21,
   "metadata": {},
   "outputs": [
    {
     "name": "stdout",
     "output_type": "stream",
     "text": [
      "Silhouette Score: 0.5931598206215869\n"
     ]
    }
   ],
   "source": [
    "from sklearn.metrics import silhouette_score\n",
    "\n",
    "# Calculate the Silhouette Score\n",
    "silhouette_avg = silhouette_score(X, kmeans.labels_)\n",
    "\n",
    "# Print the silhouette score\n",
    "print(f\"Silhouette Score: {silhouette_avg}\")"
   ]
  },
  {
   "cell_type": "markdown",
   "metadata": {},
   "source": [
    "## Evaluation"
   ]
  },
  {
   "cell_type": "code",
   "execution_count": 22,
   "metadata": {},
   "outputs": [
    {
     "data": {
      "application/vnd.plotly.v1+json": {
       "config": {
        "linkText": "Export to plot.ly",
        "plotlyServerURL": "https://plot.ly",
        "showLink": false
       },
       "data": [
        {
         "marker": {
          "color": "rgb(158,202,225)",
          "line": {
           "color": "rgb(8,48,107)",
           "width": 1.5
          }
         },
         "opacity": 0.6,
         "text": [
          "Not Normalized Skewness",
          "Normalized Skewness"
         ],
         "type": "bar",
         "x": [
          "Not Normalized",
          "Normalized"
         ],
         "y": [
          1.5136902413349014,
          -0.0897378120974535
         ]
        }
       ],
       "layout": {
        "template": {
         "data": {
          "bar": [
           {
            "error_x": {
             "color": "#2a3f5f"
            },
            "error_y": {
             "color": "#2a3f5f"
            },
            "marker": {
             "line": {
              "color": "#E5ECF6",
              "width": 0.5
             },
             "pattern": {
              "fillmode": "overlay",
              "size": 10,
              "solidity": 0.2
             }
            },
            "type": "bar"
           }
          ],
          "barpolar": [
           {
            "marker": {
             "line": {
              "color": "#E5ECF6",
              "width": 0.5
             },
             "pattern": {
              "fillmode": "overlay",
              "size": 10,
              "solidity": 0.2
             }
            },
            "type": "barpolar"
           }
          ],
          "carpet": [
           {
            "aaxis": {
             "endlinecolor": "#2a3f5f",
             "gridcolor": "white",
             "linecolor": "white",
             "minorgridcolor": "white",
             "startlinecolor": "#2a3f5f"
            },
            "baxis": {
             "endlinecolor": "#2a3f5f",
             "gridcolor": "white",
             "linecolor": "white",
             "minorgridcolor": "white",
             "startlinecolor": "#2a3f5f"
            },
            "type": "carpet"
           }
          ],
          "choropleth": [
           {
            "colorbar": {
             "outlinewidth": 0,
             "ticks": ""
            },
            "type": "choropleth"
           }
          ],
          "contour": [
           {
            "colorbar": {
             "outlinewidth": 0,
             "ticks": ""
            },
            "colorscale": [
             [
              0,
              "#0d0887"
             ],
             [
              0.1111111111111111,
              "#46039f"
             ],
             [
              0.2222222222222222,
              "#7201a8"
             ],
             [
              0.3333333333333333,
              "#9c179e"
             ],
             [
              0.4444444444444444,
              "#bd3786"
             ],
             [
              0.5555555555555556,
              "#d8576b"
             ],
             [
              0.6666666666666666,
              "#ed7953"
             ],
             [
              0.7777777777777778,
              "#fb9f3a"
             ],
             [
              0.8888888888888888,
              "#fdca26"
             ],
             [
              1,
              "#f0f921"
             ]
            ],
            "type": "contour"
           }
          ],
          "contourcarpet": [
           {
            "colorbar": {
             "outlinewidth": 0,
             "ticks": ""
            },
            "type": "contourcarpet"
           }
          ],
          "heatmap": [
           {
            "colorbar": {
             "outlinewidth": 0,
             "ticks": ""
            },
            "colorscale": [
             [
              0,
              "#0d0887"
             ],
             [
              0.1111111111111111,
              "#46039f"
             ],
             [
              0.2222222222222222,
              "#7201a8"
             ],
             [
              0.3333333333333333,
              "#9c179e"
             ],
             [
              0.4444444444444444,
              "#bd3786"
             ],
             [
              0.5555555555555556,
              "#d8576b"
             ],
             [
              0.6666666666666666,
              "#ed7953"
             ],
             [
              0.7777777777777778,
              "#fb9f3a"
             ],
             [
              0.8888888888888888,
              "#fdca26"
             ],
             [
              1,
              "#f0f921"
             ]
            ],
            "type": "heatmap"
           }
          ],
          "heatmapgl": [
           {
            "colorbar": {
             "outlinewidth": 0,
             "ticks": ""
            },
            "colorscale": [
             [
              0,
              "#0d0887"
             ],
             [
              0.1111111111111111,
              "#46039f"
             ],
             [
              0.2222222222222222,
              "#7201a8"
             ],
             [
              0.3333333333333333,
              "#9c179e"
             ],
             [
              0.4444444444444444,
              "#bd3786"
             ],
             [
              0.5555555555555556,
              "#d8576b"
             ],
             [
              0.6666666666666666,
              "#ed7953"
             ],
             [
              0.7777777777777778,
              "#fb9f3a"
             ],
             [
              0.8888888888888888,
              "#fdca26"
             ],
             [
              1,
              "#f0f921"
             ]
            ],
            "type": "heatmapgl"
           }
          ],
          "histogram": [
           {
            "marker": {
             "pattern": {
              "fillmode": "overlay",
              "size": 10,
              "solidity": 0.2
             }
            },
            "type": "histogram"
           }
          ],
          "histogram2d": [
           {
            "colorbar": {
             "outlinewidth": 0,
             "ticks": ""
            },
            "colorscale": [
             [
              0,
              "#0d0887"
             ],
             [
              0.1111111111111111,
              "#46039f"
             ],
             [
              0.2222222222222222,
              "#7201a8"
             ],
             [
              0.3333333333333333,
              "#9c179e"
             ],
             [
              0.4444444444444444,
              "#bd3786"
             ],
             [
              0.5555555555555556,
              "#d8576b"
             ],
             [
              0.6666666666666666,
              "#ed7953"
             ],
             [
              0.7777777777777778,
              "#fb9f3a"
             ],
             [
              0.8888888888888888,
              "#fdca26"
             ],
             [
              1,
              "#f0f921"
             ]
            ],
            "type": "histogram2d"
           }
          ],
          "histogram2dcontour": [
           {
            "colorbar": {
             "outlinewidth": 0,
             "ticks": ""
            },
            "colorscale": [
             [
              0,
              "#0d0887"
             ],
             [
              0.1111111111111111,
              "#46039f"
             ],
             [
              0.2222222222222222,
              "#7201a8"
             ],
             [
              0.3333333333333333,
              "#9c179e"
             ],
             [
              0.4444444444444444,
              "#bd3786"
             ],
             [
              0.5555555555555556,
              "#d8576b"
             ],
             [
              0.6666666666666666,
              "#ed7953"
             ],
             [
              0.7777777777777778,
              "#fb9f3a"
             ],
             [
              0.8888888888888888,
              "#fdca26"
             ],
             [
              1,
              "#f0f921"
             ]
            ],
            "type": "histogram2dcontour"
           }
          ],
          "mesh3d": [
           {
            "colorbar": {
             "outlinewidth": 0,
             "ticks": ""
            },
            "type": "mesh3d"
           }
          ],
          "parcoords": [
           {
            "line": {
             "colorbar": {
              "outlinewidth": 0,
              "ticks": ""
             }
            },
            "type": "parcoords"
           }
          ],
          "pie": [
           {
            "automargin": true,
            "type": "pie"
           }
          ],
          "scatter": [
           {
            "fillpattern": {
             "fillmode": "overlay",
             "size": 10,
             "solidity": 0.2
            },
            "type": "scatter"
           }
          ],
          "scatter3d": [
           {
            "line": {
             "colorbar": {
              "outlinewidth": 0,
              "ticks": ""
             }
            },
            "marker": {
             "colorbar": {
              "outlinewidth": 0,
              "ticks": ""
             }
            },
            "type": "scatter3d"
           }
          ],
          "scattercarpet": [
           {
            "marker": {
             "colorbar": {
              "outlinewidth": 0,
              "ticks": ""
             }
            },
            "type": "scattercarpet"
           }
          ],
          "scattergeo": [
           {
            "marker": {
             "colorbar": {
              "outlinewidth": 0,
              "ticks": ""
             }
            },
            "type": "scattergeo"
           }
          ],
          "scattergl": [
           {
            "marker": {
             "colorbar": {
              "outlinewidth": 0,
              "ticks": ""
             }
            },
            "type": "scattergl"
           }
          ],
          "scattermapbox": [
           {
            "marker": {
             "colorbar": {
              "outlinewidth": 0,
              "ticks": ""
             }
            },
            "type": "scattermapbox"
           }
          ],
          "scatterpolar": [
           {
            "marker": {
             "colorbar": {
              "outlinewidth": 0,
              "ticks": ""
             }
            },
            "type": "scatterpolar"
           }
          ],
          "scatterpolargl": [
           {
            "marker": {
             "colorbar": {
              "outlinewidth": 0,
              "ticks": ""
             }
            },
            "type": "scatterpolargl"
           }
          ],
          "scatterternary": [
           {
            "marker": {
             "colorbar": {
              "outlinewidth": 0,
              "ticks": ""
             }
            },
            "type": "scatterternary"
           }
          ],
          "surface": [
           {
            "colorbar": {
             "outlinewidth": 0,
             "ticks": ""
            },
            "colorscale": [
             [
              0,
              "#0d0887"
             ],
             [
              0.1111111111111111,
              "#46039f"
             ],
             [
              0.2222222222222222,
              "#7201a8"
             ],
             [
              0.3333333333333333,
              "#9c179e"
             ],
             [
              0.4444444444444444,
              "#bd3786"
             ],
             [
              0.5555555555555556,
              "#d8576b"
             ],
             [
              0.6666666666666666,
              "#ed7953"
             ],
             [
              0.7777777777777778,
              "#fb9f3a"
             ],
             [
              0.8888888888888888,
              "#fdca26"
             ],
             [
              1,
              "#f0f921"
             ]
            ],
            "type": "surface"
           }
          ],
          "table": [
           {
            "cells": {
             "fill": {
              "color": "#EBF0F8"
             },
             "line": {
              "color": "white"
             }
            },
            "header": {
             "fill": {
              "color": "#C8D4E3"
             },
             "line": {
              "color": "white"
             }
            },
            "type": "table"
           }
          ]
         },
         "layout": {
          "annotationdefaults": {
           "arrowcolor": "#2a3f5f",
           "arrowhead": 0,
           "arrowwidth": 1
          },
          "autotypenumbers": "strict",
          "coloraxis": {
           "colorbar": {
            "outlinewidth": 0,
            "ticks": ""
           }
          },
          "colorscale": {
           "diverging": [
            [
             0,
             "#8e0152"
            ],
            [
             0.1,
             "#c51b7d"
            ],
            [
             0.2,
             "#de77ae"
            ],
            [
             0.3,
             "#f1b6da"
            ],
            [
             0.4,
             "#fde0ef"
            ],
            [
             0.5,
             "#f7f7f7"
            ],
            [
             0.6,
             "#e6f5d0"
            ],
            [
             0.7,
             "#b8e186"
            ],
            [
             0.8,
             "#7fbc41"
            ],
            [
             0.9,
             "#4d9221"
            ],
            [
             1,
             "#276419"
            ]
           ],
           "sequential": [
            [
             0,
             "#0d0887"
            ],
            [
             0.1111111111111111,
             "#46039f"
            ],
            [
             0.2222222222222222,
             "#7201a8"
            ],
            [
             0.3333333333333333,
             "#9c179e"
            ],
            [
             0.4444444444444444,
             "#bd3786"
            ],
            [
             0.5555555555555556,
             "#d8576b"
            ],
            [
             0.6666666666666666,
             "#ed7953"
            ],
            [
             0.7777777777777778,
             "#fb9f3a"
            ],
            [
             0.8888888888888888,
             "#fdca26"
            ],
            [
             1,
             "#f0f921"
            ]
           ],
           "sequentialminus": [
            [
             0,
             "#0d0887"
            ],
            [
             0.1111111111111111,
             "#46039f"
            ],
            [
             0.2222222222222222,
             "#7201a8"
            ],
            [
             0.3333333333333333,
             "#9c179e"
            ],
            [
             0.4444444444444444,
             "#bd3786"
            ],
            [
             0.5555555555555556,
             "#d8576b"
            ],
            [
             0.6666666666666666,
             "#ed7953"
            ],
            [
             0.7777777777777778,
             "#fb9f3a"
            ],
            [
             0.8888888888888888,
             "#fdca26"
            ],
            [
             1,
             "#f0f921"
            ]
           ]
          },
          "colorway": [
           "#636efa",
           "#EF553B",
           "#00cc96",
           "#ab63fa",
           "#FFA15A",
           "#19d3f3",
           "#FF6692",
           "#B6E880",
           "#FF97FF",
           "#FECB52"
          ],
          "font": {
           "color": "#2a3f5f"
          },
          "geo": {
           "bgcolor": "white",
           "lakecolor": "white",
           "landcolor": "#E5ECF6",
           "showlakes": true,
           "showland": true,
           "subunitcolor": "white"
          },
          "hoverlabel": {
           "align": "left"
          },
          "hovermode": "closest",
          "mapbox": {
           "style": "light"
          },
          "paper_bgcolor": "white",
          "plot_bgcolor": "#E5ECF6",
          "polar": {
           "angularaxis": {
            "gridcolor": "white",
            "linecolor": "white",
            "ticks": ""
           },
           "bgcolor": "#E5ECF6",
           "radialaxis": {
            "gridcolor": "white",
            "linecolor": "white",
            "ticks": ""
           }
          },
          "scene": {
           "xaxis": {
            "backgroundcolor": "#E5ECF6",
            "gridcolor": "white",
            "gridwidth": 2,
            "linecolor": "white",
            "showbackground": true,
            "ticks": "",
            "zerolinecolor": "white"
           },
           "yaxis": {
            "backgroundcolor": "#E5ECF6",
            "gridcolor": "white",
            "gridwidth": 2,
            "linecolor": "white",
            "showbackground": true,
            "ticks": "",
            "zerolinecolor": "white"
           },
           "zaxis": {
            "backgroundcolor": "#E5ECF6",
            "gridcolor": "white",
            "gridwidth": 2,
            "linecolor": "white",
            "showbackground": true,
            "ticks": "",
            "zerolinecolor": "white"
           }
          },
          "shapedefaults": {
           "line": {
            "color": "#2a3f5f"
           }
          },
          "ternary": {
           "aaxis": {
            "gridcolor": "white",
            "linecolor": "white",
            "ticks": ""
           },
           "baxis": {
            "gridcolor": "white",
            "linecolor": "white",
            "ticks": ""
           },
           "bgcolor": "#E5ECF6",
           "caxis": {
            "gridcolor": "white",
            "linecolor": "white",
            "ticks": ""
           }
          },
          "title": {
           "x": 0.05
          },
          "xaxis": {
           "automargin": true,
           "gridcolor": "white",
           "linecolor": "white",
           "ticks": "",
           "title": {
            "standoff": 15
           },
           "zerolinecolor": "white",
           "zerolinewidth": 2
          },
          "yaxis": {
           "automargin": true,
           "gridcolor": "white",
           "linecolor": "white",
           "ticks": "",
           "title": {
            "standoff": 15
           },
           "zerolinecolor": "white",
           "zerolinewidth": 2
          }
         }
        },
        "title": {
         "text": "Patient Charges Skewness \n Normalized vs Not Normalized"
        },
        "yaxis": {
         "title": {
          "font": {
           "color": "rgb(107, 107, 107)",
           "size": 16
          },
          "text": "Skewness Coeficient"
         }
        }
       }
      }
     },
     "metadata": {},
     "output_type": "display_data"
    }
   ],
   "source": [
    "df = df_cleaned\n",
    "not_normalized = skew(df['charges'].values.tolist())\n",
    "normalized = skew(np.log(df['charges'].values.tolist()))\n",
    "\n",
    "\n",
    "trace0 = go.Bar(\n",
    "    x=['Not Normalized', 'Normalized'],\n",
    "    y=[not_normalized, normalized],\n",
    "    text=['Not Normalized Skewness', 'Normalized Skewness'],\n",
    "    marker=dict(\n",
    "        color='rgb(158,202,225)',\n",
    "        line=dict(\n",
    "            color='rgb(8,48,107)',\n",
    "            width=1.5,\n",
    "        )\n",
    "    ),\n",
    "    opacity=0.6\n",
    ")\n",
    "\n",
    "data = [trace0]\n",
    "layout = go.Layout(\n",
    "    title='Patient Charges Skewness \\n Normalized vs Not Normalized',\n",
    "    yaxis=dict(\n",
    "        title='Skewness Coeficient',\n",
    "        titlefont=dict(\n",
    "            size=16,\n",
    "            color='rgb(107, 107, 107)'\n",
    "        )\n",
    "))\n",
    "\n",
    "fig = go.Figure(data=data, layout=layout)\n",
    "\n",
    "iplot(fig, filename='bar-direct-labels')"
   ]
  },
  {
   "cell_type": "code",
   "execution_count": 23,
   "metadata": {},
   "outputs": [
    {
     "data": {
      "image/png": "[encoded data removed]",
      "text/plain": [
       "<Figure size 2000x1800 with 4 Axes>"
      ]
     },
     "metadata": {},
     "output_type": "display_data"
    }
   ],
   "source": [
    "import scipy.stats as stats\n",
    "\n",
    "# Assuming 'train' is the DataFrame containing your data\n",
    "charges = df['charges'].values\n",
    "\n",
    "f, ((ax1, ax2), (ax3, ax4)) = plt.subplots(nrows=2, ncols=2, figsize=(20,18)) \n",
    "\n",
    "# Distribution of charges\n",
    "sns.histplot(train['charges'], kde=True, ax=ax1)\n",
    "ax1.set_title(\"Distribution of Charges \\n (Right-Skewed)\", fontsize=16)\n",
    "\n",
    "# Scaling charges using a natural logarithm.\n",
    "sns.histplot(np.log(train['charges']), kde=True, ax=ax2)\n",
    "ax2.set_title(\"Scaled Distribution of Charges \\n (Symmetric Distribution)\", fontsize=16)\n",
    "\n",
    "# Quantile plot\n",
    "stats.probplot(train[\"charges\"], plot=ax3)\n",
    "ax3.set_title(\"Probability Plot \\n (Unscaled)\", fontsize=16)\n",
    "\n",
    "stats.probplot(np.log(train[\"charges\"]), plot=ax4)\n",
    "ax4.set_title(\"Probability Plot \\n (Scaled using Natural Logarithm)\", fontsize=16)\n",
    "\n",
    "plt.show()"
   ]
  },
  {
   "cell_type": "code",
   "execution_count": 24,
   "metadata": {},
   "outputs": [
    {
     "name": "stdout",
     "output_type": "stream",
     "text": [
      "                            OLS Regression Results                            \n",
      "==============================================================================\n",
      "Dep. Variable:                      y   R-squared:                       0.762\n",
      "Model:                            OLS   Adj. R-squared:                  0.759\n",
      "Method:                 Least Squares   F-statistic:                     240.9\n",
      "Date:                Sat, 04 Jan 2025   Prob (F-statistic):          2.36e-316\n",
      "Time:                        21:13:55   Log-Likelihood:                -666.71\n",
      "No. Observations:                1069   AIC:                             1363.\n",
      "Df Residuals:                    1054   BIC:                             1438.\n",
      "Df Model:                          14                                         \n",
      "Covariance Type:            nonrobust                                         \n",
      "==============================================================================\n",
      "                 coef    std err          t      P>|t|      [0.025      0.975]\n",
      "------------------------------------------------------------------------------\n",
      "const          3.5199      0.013    265.285      0.000       3.494       3.546\n",
      "x1             0.5537      0.038     14.495      0.000       0.479       0.629\n",
      "x2             0.0849      0.015      5.799      0.000       0.056       0.114\n",
      "x3             1.8081      0.016    113.394      0.000       1.777       1.839\n",
      "x4             1.7118      0.015    113.780      0.000       1.682       1.741\n",
      "x5             0.3253      0.035      9.423      0.000       0.258       0.393\n",
      "x6             0.4543      0.038     12.112      0.000       0.381       0.528\n",
      "x7             0.5764      0.040     14.313      0.000       0.497       0.655\n",
      "x8             0.5569      0.045     12.311      0.000       0.468       0.646\n",
      "x9             0.7858      0.087      8.988      0.000       0.614       0.957\n",
      "x10            0.8212      0.123      6.654      0.000       0.579       1.063\n",
      "x11            0.9845      0.017     59.170      0.000       0.952       1.017\n",
      "x12            2.5354      0.021    123.023      0.000       2.495       2.576\n",
      "x13            0.9714      0.025     39.391      0.000       0.923       1.020\n",
      "x14            0.9169      0.025     36.059      0.000       0.867       0.967\n",
      "x15            0.7950      0.024     32.727      0.000       0.747       0.843\n",
      "x16            0.8366      0.025     33.855      0.000       0.788       0.885\n",
      "x17            1.1856      0.021     55.234      0.000       1.143       1.228\n",
      "x18            1.0636      0.053     19.927      0.000       0.959       1.168\n",
      "x19            1.2707      0.052     24.270      0.000       1.168       1.373\n",
      "==============================================================================\n",
      "Omnibus:                      380.881   Durbin-Watson:                   2.007\n",
      "Prob(Omnibus):                  0.000   Jarque-Bera (JB):             1299.579\n",
      "Skew:                           1.741   Prob(JB):                    6.31e-283\n",
      "Kurtosis:                       7.129   Cond. No.                     2.81e+16\n",
      "==============================================================================\n",
      "\n",
      "Notes:\n",
      "[1] Standard Errors assume that the covariance matrix of the errors is correctly specified.\n",
      "[2] The smallest eigenvalue is 4.25e-30. This might indicate that there are\n",
      "strong multicollinearity problems or that the design matrix is singular.\n"
     ]
    }
   ],
   "source": [
    "# Apply the natural log transformation to the target variable (charges)\n",
    "y_train_log = np.log(y_train)\n",
    "\n",
    "# Add a constant to the feature set (independent variables)\n",
    "X_train_log = sm.add_constant(scaled_xtrain)\n",
    "\n",
    "# Fit the OLS model using the transformed target variable\n",
    "model_log = sm.OLS(y_train_log, X_train_log)\n",
    "results_log = model_log.fit()\n",
    "\n",
    "# Print the summary of the model\n",
    "print(results_log.summary())\n",
    "\n",
    "# If you want to make predictions and get them in the original scale of charges\n",
    "y_pred_log = results_log.predict(X_train_log)  # Predicted log-transformed charges\n",
    "y_pred = np.exp(y_pred_log)  # Exponentiate to get the predicted charges in original scale"
   ]
  },
  {
   "cell_type": "code",
   "execution_count": 26,
   "metadata": {},
   "outputs": [],
   "source": [
    "import joblib\n",
    "\n",
    "joblib.dump(model_log, \"log_regression_model.pkl\")\n",
    "\n",
    "reg_model = joblib.load(\"log_regression_model.pkl\")"
   ]
  },
  {
   "cell_type": "markdown",
   "metadata": {},
   "source": [
    "## Deployment"
   ]
  },
  {
   "cell_type": "code",
   "execution_count": 29,
   "metadata": {},
   "outputs": [
    {
     "name": "stdout",
     "output_type": "stream",
     "text": [
      "Writing app.py\n"
     ]
    }
   ],
   "source": [
    "%%writefile app.py\n",
    "\n",
    "import streamlit as st\n",
    "import joblib\n",
    "import numpy as np\n",
    "import pandas as pd\n",
    "from sklearn.preprocessing import StandardScaler\n",
    "from sklearn.compose import ColumnTransformer\n",
    "from sklearn.pipeline import Pipeline\n",
    "from sklearn.preprocessing import OneHotEncoder\n",
    "\n",
    "# Load the trained model\n",
    "model = joblib.load(\"log_regression_model.pkl\")  # Update to correct model filename\n",
    "\n",
    "# Function to preprocess input data\n",
    "def preprocess_input_data(features):\n",
    "    # Create a DataFrame from the input features for preprocessing\n",
    "    df = pd.DataFrame([features], columns=['age', 'bmi', 'children', 'sex', 'smoker', 'region'])\n",
    "    \n",
    "    # Preprocess data using the same transformations as during training\n",
    "    preprocessor = model.named_steps['preprocessor']\n",
    "    return preprocessor.transform(df)\n",
    "\n",
    "# Streamlit Interface\n",
    "st.title('Insurance Charges Prediction')\n",
    "\n",
    "# Input Fields\n",
    "age = st.number_input('Age', min_value=18, max_value=100, value=30)\n",
    "bmi = st.number_input('BMI', min_value=10.0, max_value=50.0, value=25.0)\n",
    "children = st.number_input('Children', min_value=0, max_value=10, value=2)\n",
    "\n",
    "sex = st.selectbox('Sex', ['male', 'female'])\n",
    "smoker = st.selectbox('Smoker', ['yes', 'no'])\n",
    "region = st.selectbox('Region', ['northwest', 'southeast', 'southwest', 'northeast'])\n",
    "\n",
    "# Combine inputs into a list (ensure order matches the model's expected input)\n",
    "features = [age, bmi, children, sex, smoker, region]\n",
    "\n",
    "# When the user clicks the \"Predict\" button\n",
    "if st.button('Predict'):\n",
    "    # Preprocess the input features\n",
    "    preprocessed_data = preprocess_input_data(features)\n",
    "    \n",
    "    # Make a prediction\n",
    "    prediction = model.predict(preprocessed_data)\n",
    "    \n",
    "    # Display the prediction\n",
    "    st.write(f'Predicted Insurance Charges: ${prediction[0]:,.2f}')\n"
   ]
  },
  {
   "cell_type": "code",
   "execution_count": null,
   "metadata": {},
   "outputs": [],
   "source": []
  }
 ],
 "metadata": {
  "kaggle": {
   "accelerator": "none",
   "dataSources": [
    {
     "datasetId": 13720,
     "sourceId": 18513,
     "sourceType": "datasetVersion"
    }
   ],
   "dockerImageVersionId": 30184,
   "isGpuEnabled": false,
   "isInternetEnabled": false,
   "language": "python",
   "sourceType": "notebook"
  },
  "kernelspec": {
   "display_name": "Python 3 (ipykernel)",
   "language": "python",
   "name": "python3"
  },
  "language_info": {
   "codemirror_mode": {
    "name": "ipython",
    "version": 3
   },
   "file_extension": ".py",
   "mimetype": "text/x-python",
   "name": "python",
   "nbconvert_exporter": "python",
   "pygments_lexer": "ipython3",
   "version": "3.13.0"
  }
 },
 "nbformat": 4,
 "nbformat_minor": 4
}
